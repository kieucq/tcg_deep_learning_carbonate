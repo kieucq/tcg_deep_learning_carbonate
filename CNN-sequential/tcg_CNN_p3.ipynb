{
 "cells": [
  {
   "cell_type": "code",
   "execution_count": 2,
   "id": "80518cb4",
   "metadata": {},
   "outputs": [],
   "source": [
    "#\n",
    "# NOTE: This machine learning program is for predicting TC formation, using\n",
    "#       input dataset in the NETCDF format. The program treats different\n",
    "#       2D input fields as different channels of an image. This specific\n",
    "#       program requires a set of 12 2D-variables (12-channel image) and\n",
    "#       consists of three stages\n",
    "#       - Stage 1: reading NETCDF input and generating (X,y) data with a\n",
    "#                  given image sizes, which are then saved by pickle;\n",
    "#       - Stage 2: import the saved pickle (X,y) pair and build a CNN model\n",
    "#                  with a given training/validation ratio, and then save\n",
    "#                  the train model under tcg_CNN.model.\n",
    "#       - Stage 3: import the trained model from Stage 2, and make a list\n",
    "#                  of prediction from normalized test data.\n",
    "#\n",
    "# INPUT: This Stage 3 script reads in the CNN trained model \"tcg_CNN.model\"\n",
    "#        that is generated from Step 2.\n",
    "#\n",
    "#        Remarks: Note that the input data for this script must be on the\n",
    "#        same as in Step 1 with standard 19 vertical\n",
    "#        levels 1000, 975, 950, 925, 900, 850, 800, 750, 700, 650, 600,\n",
    "#        550, 500, 450, 400, 350, 300, 250, 200. Also, all field vars must\n",
    "#        be resize to cover an area of 30x30 around the TC center for the\n",
    "#        positive data cases.\n",
    "#        Similar to Step 2, this Step 3 needs to also have a large mem\n",
    "#        allocation so that it can be run properly.\n",
    "#\n",
    "# OUTPUT: A list of probability forecast with the same dimension as the\n",
    "#        number of input 12-channel images.\n",
    "#\n",
    "# HIST: - 01, Nov 22: Created by CK\n",
    "#       - 02, Nov 22: Modified to optimize it\n",
    "#\n",
    "# AUTH: Chanh Kieu (Indiana University, Bloomington. Email: ckieu@iu.edu)\n",
    "#\n",
    "#==========================================================================\n",
    "import cv2\n",
    "import tensorflow as tf\n",
    "import os\n",
    "from tqdm import tqdm\n",
    "import netCDF4\n",
    "import numpy as np"
   ]
  },
  {
   "cell_type": "code",
   "execution_count": 3,
   "id": "70d857fe",
   "metadata": {},
   "outputs": [],
   "source": [
    "#\n",
    "# Function to return input data as an numpy array\n",
    "#\n",
    "def prepare(filepath):\n",
    "    IMG_SIZE = 30\n",
    "    number_channels = 12\n",
    "    f = netCDF4.Dataset(filepath)\n",
    "    abv = f.variables['absvprs']\n",
    "    nx = np.size(abv[0,0,:])\n",
    "    ny = np.size(abv[0,:,0])\n",
    "    nz = np.size(abv[:,0,0])\n",
    "    #print('Dimension of input NETCDF is: ',nx,ny,nz)\n",
    "    a2 = np.zeros((nx,ny,number_channels))\n",
    "    for i in range(a2.shape[0]):\n",
    "        for j in range(a2.shape[1]):\n",
    "            a2[i,j,0] = abv[1,j,i]    # abs vort at 950 mb\n",
    "    rel = f.variables['rhprs']\n",
    "    for i in range(a2.shape[0]):\n",
    "        for j in range(a2.shape[1]):\n",
    "            a2[i,j,1] = rel[7,j,i]    # RH at 750 mb\n",
    "    sfc = f.variables['pressfc']\n",
    "    for i in range(a2.shape[0]):\n",
    "        for j in range(a2.shape[1]):\n",
    "            a2[i,j,2] = sfc[j,i]      # surface pressure\n",
    "    tmp = f.variables['tmpprs']\n",
    "    for i in range(a2.shape[0]):\n",
    "        for j in range(a2.shape[1]):\n",
    "            a2[i,j,3] = tmp[15,j,i]   # temperature at 400 mb\n",
    "    tsf = f.variables['tmpsfc']\n",
    "    for i in range(a2.shape[0]):\n",
    "        for j in range(a2.shape[1]):\n",
    "            a2[i,j,4] = tsf[j,i]      # surface temperature\n",
    "    ugr = f.variables['ugrdprs']\n",
    "    for i in range(a2.shape[0]):\n",
    "        for j in range(a2.shape[1]):\n",
    "            a2[i,j,5] = ugr[3,j,i]    # u-wind at 900 mb\n",
    "            a2[i,j,6] = ugr[17,j,i]   # u-wind at 300 mb\n",
    "    vgr = f.variables['vgrdprs']\n",
    "    for i in range(a2.shape[0]):\n",
    "        for j in range(a2.shape[1]):\n",
    "            a2[i,j,7] = vgr[3,j,i]    # v-wind at 900 mb\n",
    "            a2[i,j,8] = vgr[17,j,i]   # v-wind at 300 mb\n",
    "    hgt = f.variables['hgtprs']\n",
    "    for i in range(a2.shape[0]):\n",
    "        for j in range(a2.shape[1]):\n",
    "            a2[i,j,9] = hgt[3,j,i]    # geopotential at 850 mb\n",
    "    wgr = f.variables['vvelprs']\n",
    "    for i in range(a2.shape[0]):\n",
    "        for j in range(a2.shape[1]):\n",
    "            a2[i,j,10] = wgr[3,j,i]   # w-wind at 900 mb\n",
    "            a2[i,j,11] = wgr[17,j,i]  # w-wind at 300 mb\n",
    "    new_array = cv2.resize(a2, (IMG_SIZE, IMG_SIZE))\n",
    "    #\n",
    "    # normalize the data\n",
    "    #\n",
    "    #print('Number of channels to normalize is: ',number_channels)\n",
    "    for var in range(number_channels):\n",
    "        maxvalue = new_array[:,:,var].flat[np.abs(new_array[:,:,var]).argmax()]\n",
    "        #print('Normalization factor for channel',var,', is: ',abs(maxvalue))\n",
    "        new_array[:,:,var] = new_array[:,:,var]/abs(maxvalue)\n",
    "    out_array = np.reshape(new_array, (-1, IMG_SIZE, IMG_SIZE, number_channels))\n",
    "    #print('reshape new_array returns: ',out_array.shape)\n",
    "    #input('Enter to continue...')\n",
    "    return out_array"
   ]
  },
  {
   "cell_type": "code",
   "execution_count": 6,
   "id": "3c2815a5",
   "metadata": {},
   "outputs": [
    {
     "name": "stdout",
     "output_type": "stream",
     "text": [
      "/N/project/pfec_climo/qmnguyen/tc_prediction/binary_datasets/ncep_WP_binary_0h/pos\n"
     ]
    },
    {
     "name": "stderr",
     "output_type": "stream",
     "text": [
      "\r",
      "  0%|                                                                                                                                                                 | 0/352 [00:00<?, ?it/s]"
     ]
    },
    {
     "name": "stdout",
     "output_type": "stream",
     "text": [
      "Processing image: /N/project/pfec_climo/qmnguyen/tc_prediction/binary_datasets/ncep_WP_binary_0h//pos/20140905_06_00_18.6_128.5_2014248N19129.nc\n",
      "Input image dimension is:  (1, 30, 30, 12)\n",
      "1/1 [==============================] - 0s 57ms/step\n"
     ]
    },
    {
     "name": "stderr",
     "output_type": "stream",
     "text": [
      "\r",
      "  0%|▍                                                                                                                                                        | 1/352 [00:05<32:20,  5.53s/it]"
     ]
    },
    {
     "name": "stdout",
     "output_type": "stream",
     "text": [
      "TC formation prediction is [[0.9999962]] 1 Yes\n",
      "Processing image: /N/project/pfec_climo/qmnguyen/tc_prediction/binary_datasets/ncep_WP_binary_0h//pos/20100913_06_00_16.6_137.4_2010256N17137.nc\n",
      "Input image dimension is:  (1, 30, 30, 12)\n",
      "1/1 [==============================] - 0s 16ms/step\n"
     ]
    },
    {
     "name": "stderr",
     "output_type": "stream",
     "text": [
      "\r",
      "  1%|▊                                                                                                                                                        | 2/352 [00:10<31:51,  5.46s/it]"
     ]
    },
    {
     "name": "stdout",
     "output_type": "stream",
     "text": [
      "TC formation prediction is [[0.6882587]] 1 Yes\n",
      "Processing image: /N/project/pfec_climo/qmnguyen/tc_prediction/binary_datasets/ncep_WP_binary_0h//pos/20120713_18_00_18.7_143.8_2012196N19144.nc\n",
      "Input image dimension is:  (1, 30, 30, 12)\n",
      "1/1 [==============================] - 0s 17ms/step\n"
     ]
    },
    {
     "name": "stderr",
     "output_type": "stream",
     "text": [
      "\r",
      "  1%|█▎                                                                                                                                                       | 3/352 [00:16<31:42,  5.45s/it]"
     ]
    },
    {
     "name": "stdout",
     "output_type": "stream",
     "text": [
      "TC formation prediction is [[0.9955371]] 1 Yes\n",
      "Processing image: /N/project/pfec_climo/qmnguyen/tc_prediction/binary_datasets/ncep_WP_binary_0h//pos/20101004_12_00_17.5_110.1_2010278N18110.nc\n",
      "Input image dimension is:  (1, 30, 30, 12)\n",
      "1/1 [==============================] - 0s 16ms/step\n"
     ]
    },
    {
     "name": "stderr",
     "output_type": "stream",
     "text": [
      "\r",
      "  1%|█▋                                                                                                                                                       | 4/352 [00:21<31:30,  5.43s/it]"
     ]
    },
    {
     "name": "stdout",
     "output_type": "stream",
     "text": [
      "TC formation prediction is [[0.85128695]] 1 Yes\n",
      "Processing image: /N/project/pfec_climo/qmnguyen/tc_prediction/binary_datasets/ncep_WP_binary_0h//pos/20201109_06_00_12.0_130.9_2020314N12131.nc\n",
      "Input image dimension is:  (1, 30, 30, 12)\n",
      "1/1 [==============================] - 0s 17ms/step\n"
     ]
    },
    {
     "name": "stderr",
     "output_type": "stream",
     "text": [
      "\r",
      "  1%|██▏                                                                                                                                                      | 5/352 [00:27<31:54,  5.52s/it]"
     ]
    },
    {
     "name": "stdout",
     "output_type": "stream",
     "text": [
      "TC formation prediction is [[0.97033226]] 1 Yes\n",
      "Processing image: /N/project/pfec_climo/qmnguyen/tc_prediction/binary_datasets/ncep_WP_binary_0h//pos/20080526_00_00_9.9_140.8_2008147N10141.nc\n",
      "Input image dimension is:  (1, 30, 30, 12)\n",
      "1/1 [==============================] - 0s 17ms/step\n"
     ]
    },
    {
     "name": "stderr",
     "output_type": "stream",
     "text": [
      "\r",
      "  2%|██▌                                                                                                                                                      | 6/352 [00:32<31:52,  5.53s/it]"
     ]
    },
    {
     "name": "stdout",
     "output_type": "stream",
     "text": [
      "TC formation prediction is [[0.09757158]] 0 No\n",
      "Processing image: /N/project/pfec_climo/qmnguyen/tc_prediction/binary_datasets/ncep_WP_binary_0h//pos/20131027_18_00_12.7_142.2_2013301N13142.nc\n",
      "Input image dimension is:  (1, 30, 30, 12)\n",
      "1/1 [==============================] - 0s 17ms/step\n"
     ]
    },
    {
     "name": "stderr",
     "output_type": "stream",
     "text": [
      "\r",
      "  2%|███                                                                                                                                                      | 7/352 [00:38<31:46,  5.53s/it]"
     ]
    },
    {
     "name": "stdout",
     "output_type": "stream",
     "text": [
      "TC formation prediction is [[0.99786943]] 1 Yes\n",
      "Processing image: /N/project/pfec_climo/qmnguyen/tc_prediction/binary_datasets/ncep_WP_binary_0h//pos/20100906_06_00_23.9_124.8_2010249N24125.nc\n",
      "Input image dimension is:  (1, 30, 30, 12)\n",
      "1/1 [==============================] - 0s 17ms/step\n"
     ]
    },
    {
     "name": "stderr",
     "output_type": "stream",
     "text": [
      "\r",
      "  2%|███▍                                                                                                                                                     | 8/352 [00:44<31:37,  5.52s/it]"
     ]
    },
    {
     "name": "stdout",
     "output_type": "stream",
     "text": [
      "TC formation prediction is [[1.]] 1 Yes\n",
      "Processing image: /N/project/pfec_climo/qmnguyen/tc_prediction/binary_datasets/ncep_WP_binary_0h//pos/20151013_00_00_12.6_161.4_2015286N13161.nc\n",
      "Input image dimension is:  (1, 30, 30, 12)\n",
      "1/1 [==============================] - 0s 16ms/step\n"
     ]
    },
    {
     "name": "stderr",
     "output_type": "stream",
     "text": [
      "\r",
      "  3%|███▉                                                                                                                                                     | 9/352 [00:49<31:21,  5.48s/it]"
     ]
    },
    {
     "name": "stdout",
     "output_type": "stream",
     "text": [
      "TC formation prediction is [[0.99999934]] 1 Yes\n",
      "Processing image: /N/project/pfec_climo/qmnguyen/tc_prediction/binary_datasets/ncep_WP_binary_0h//pos/20131111_12_00_6.0_129.8_2013316N06130.nc\n",
      "Input image dimension is:  (1, 30, 30, 12)\n",
      "1/1 [==============================] - 0s 17ms/step\n"
     ]
    },
    {
     "name": "stderr",
     "output_type": "stream",
     "text": [
      "\r",
      "  3%|████▎                                                                                                                                                   | 10/352 [00:55<31:36,  5.54s/it]"
     ]
    },
    {
     "name": "stdout",
     "output_type": "stream",
     "text": [
      "TC formation prediction is [[0.9987997]] 1 Yes\n",
      "Processing image: /N/project/pfec_climo/qmnguyen/tc_prediction/binary_datasets/ncep_WP_binary_0h//pos/20160922_00_00_11.0_144.0_2016266N11144.nc\n",
      "Input image dimension is:  (1, 30, 30, 12)\n",
      "1/1 [==============================] - 0s 17ms/step\n"
     ]
    },
    {
     "name": "stderr",
     "output_type": "stream",
     "text": [
      "\r",
      "  3%|████▊                                                                                                                                                   | 11/352 [01:00<32:02,  5.64s/it]"
     ]
    },
    {
     "name": "stdout",
     "output_type": "stream",
     "text": [
      "TC formation prediction is [[0.96775466]] 1 Yes\n",
      "Processing image: /N/project/pfec_climo/qmnguyen/tc_prediction/binary_datasets/ncep_WP_binary_0h//pos/20130816_12_00_25.8_131.5_2013229N26132.nc\n",
      "Input image dimension is:  (1, 30, 30, 12)\n",
      "1/1 [==============================] - 0s 17ms/step\n"
     ]
    },
    {
     "name": "stderr",
     "output_type": "stream",
     "text": [
      "\r",
      "  3%|█████▏                                                                                                                                                  | 12/352 [01:06<31:46,  5.61s/it]"
     ]
    },
    {
     "name": "stdout",
     "output_type": "stream",
     "text": [
      "TC formation prediction is [[0.55922717]] 1 Yes\n",
      "Processing image: /N/project/pfec_climo/qmnguyen/tc_prediction/binary_datasets/ncep_WP_binary_0h//pos/20120718_12_00_14.9_128.6_2012201N15129.nc\n",
      "Input image dimension is:  (1, 30, 30, 12)\n",
      "1/1 [==============================] - 0s 16ms/step\n"
     ]
    },
    {
     "name": "stderr",
     "output_type": "stream",
     "text": [
      "\r",
      "  4%|█████▌                                                                                                                                                  | 13/352 [01:11<31:24,  5.56s/it]"
     ]
    },
    {
     "name": "stdout",
     "output_type": "stream",
     "text": [
      "TC formation prediction is [[0.9999991]] 1 Yes\n",
      "Processing image: /N/project/pfec_climo/qmnguyen/tc_prediction/binary_datasets/ncep_WP_binary_0h//pos/20160722_18_00_24.7_151.5_2016205N25152.nc\n",
      "Input image dimension is:  (1, 30, 30, 12)\n",
      "1/1 [==============================] - 0s 16ms/step\n"
     ]
    },
    {
     "name": "stderr",
     "output_type": "stream",
     "text": [
      "\r",
      "  4%|██████                                                                                                                                                  | 14/352 [01:17<31:04,  5.52s/it]"
     ]
    },
    {
     "name": "stdout",
     "output_type": "stream",
     "text": [
      "TC formation prediction is [[0.9999858]] 1 Yes\n",
      "Processing image: /N/project/pfec_climo/qmnguyen/tc_prediction/binary_datasets/ncep_WP_binary_0h//pos/20150913_18_00_13.9_151.6_2015257N14152.nc\n",
      "Input image dimension is:  (1, 30, 30, 12)\n",
      "1/1 [==============================] - 0s 16ms/step\n"
     ]
    },
    {
     "name": "stderr",
     "output_type": "stream",
     "text": [
      "\r",
      "  4%|██████▍                                                                                                                                                 | 15/352 [01:22<30:47,  5.48s/it]"
     ]
    },
    {
     "name": "stdout",
     "output_type": "stream",
     "text": [
      "TC formation prediction is [[1.]] 1 Yes\n",
      "Processing image: /N/project/pfec_climo/qmnguyen/tc_prediction/binary_datasets/ncep_WP_binary_0h//pos/20080506_18_00_7.2_134.2_2008128N07134.nc\n",
      "Input image dimension is:  (1, 30, 30, 12)\n",
      "1/1 [==============================] - 0s 17ms/step\n"
     ]
    },
    {
     "name": "stderr",
     "output_type": "stream",
     "text": [
      "\r",
      "  5%|██████▉                                                                                                                                                 | 16/352 [01:28<30:49,  5.51s/it]"
     ]
    },
    {
     "name": "stdout",
     "output_type": "stream",
     "text": [
      "TC formation prediction is [[0.99997646]] 1 Yes\n",
      "Processing image: /N/project/pfec_climo/qmnguyen/tc_prediction/binary_datasets/ncep_WP_binary_0h//pos/20080927_18_00_8.2_139.4_2008272N08139.nc\n",
      "Input image dimension is:  (1, 30, 30, 12)\n",
      "1/1 [==============================] - 0s 17ms/step\n"
     ]
    },
    {
     "name": "stderr",
     "output_type": "stream",
     "text": [
      "\r",
      "  5%|███████▎                                                                                                                                                | 17/352 [01:33<30:47,  5.52s/it]"
     ]
    },
    {
     "name": "stdout",
     "output_type": "stream",
     "text": [
      "TC formation prediction is [[0.9990219]] 1 Yes\n",
      "Processing image: /N/project/pfec_climo/qmnguyen/tc_prediction/binary_datasets/ncep_WP_binary_0h//pos/20210719_00_00_20.9_113.1_2021200N21113.nc\n",
      "Input image dimension is:  (1, 30, 30, 12)\n",
      "1/1 [==============================] - 0s 17ms/step\n"
     ]
    },
    {
     "name": "stderr",
     "output_type": "stream",
     "text": [
      "\r",
      "  5%|███████▊                                                                                                                                                | 18/352 [01:39<30:40,  5.51s/it]"
     ]
    },
    {
     "name": "stdout",
     "output_type": "stream",
     "text": [
      "TC formation prediction is [[0.99999243]] 1 Yes\n",
      "Processing image: /N/project/pfec_climo/qmnguyen/tc_prediction/binary_datasets/ncep_WP_binary_0h//pos/20151012_00_00_13.9_150.8_2015285N14151.nc\n",
      "Input image dimension is:  (1, 30, 30, 12)\n",
      "1/1 [==============================] - 0s 18ms/step\n"
     ]
    },
    {
     "name": "stderr",
     "output_type": "stream",
     "text": [
      "\r",
      "  5%|████████▏                                                                                                                                               | 19/352 [01:44<30:33,  5.51s/it]"
     ]
    },
    {
     "name": "stdout",
     "output_type": "stream",
     "text": [
      "TC formation prediction is [[0.99574035]] 1 Yes\n",
      "Processing image: /N/project/pfec_climo/qmnguyen/tc_prediction/binary_datasets/ncep_WP_binary_0h//pos/20091120_06_00_6.2_128.9_2009324N06129.nc\n",
      "Input image dimension is:  (1, 30, 30, 12)\n",
      "1/1 [==============================] - 0s 30ms/step\n"
     ]
    },
    {
     "name": "stderr",
     "output_type": "stream",
     "text": [
      "\r",
      "  6%|████████▋                                                                                                                                               | 20/352 [01:50<31:00,  5.61s/it]"
     ]
    },
    {
     "name": "stdout",
     "output_type": "stream",
     "text": [
      "TC formation prediction is [[0.99985635]] 1 Yes\n",
      "Processing image: /N/project/pfec_climo/qmnguyen/tc_prediction/binary_datasets/ncep_WP_binary_0h//pos/20131009_00_00_14.0_149.0_2013282N14149.nc\n",
      "Input image dimension is:  (1, 30, 30, 12)\n",
      "1/1 [==============================] - 0s 18ms/step\n"
     ]
    },
    {
     "name": "stderr",
     "output_type": "stream",
     "text": [
      "\r",
      "  6%|█████████                                                                                                                                               | 21/352 [01:56<31:43,  5.75s/it]"
     ]
    },
    {
     "name": "stdout",
     "output_type": "stream",
     "text": [
      "TC formation prediction is [[0.99976224]] 1 Yes\n",
      "Processing image: /N/project/pfec_climo/qmnguyen/tc_prediction/binary_datasets/ncep_WP_binary_0h//pos/20180721_06_00_20.6_158.8_2018202N21159.nc\n",
      "Input image dimension is:  (1, 30, 30, 12)\n",
      "1/1 [==============================] - 0s 17ms/step\n"
     ]
    },
    {
     "name": "stderr",
     "output_type": "stream",
     "text": [
      "\r",
      "  6%|█████████▌                                                                                                                                              | 22/352 [02:02<31:28,  5.72s/it]"
     ]
    },
    {
     "name": "stdout",
     "output_type": "stream",
     "text": [
      "TC formation prediction is [[0.00880936]] 0 No\n",
      "Processing image: /N/project/pfec_climo/qmnguyen/tc_prediction/binary_datasets/ncep_WP_binary_0h//pos/20210906_06_00_14.0_138.3_2021249N14138.nc\n",
      "Input image dimension is:  (1, 30, 30, 12)\n",
      "1/1 [==============================] - 0s 18ms/step\n"
     ]
    },
    {
     "name": "stderr",
     "output_type": "stream",
     "text": [
      "\r",
      "  7%|█████████▉                                                                                                                                              | 23/352 [02:08<31:42,  5.78s/it]"
     ]
    },
    {
     "name": "stdout",
     "output_type": "stream",
     "text": [
      "TC formation prediction is [[0.7542709]] 1 Yes\n",
      "Processing image: /N/project/pfec_climo/qmnguyen/tc_prediction/binary_datasets/ncep_WP_binary_0h//pos/20110808_12_00_17.0_139.4_2011221N17139.nc\n",
      "Input image dimension is:  (1, 30, 30, 12)\n",
      "1/1 [==============================] - 0s 18ms/step\n"
     ]
    },
    {
     "name": "stderr",
     "output_type": "stream",
     "text": [
      "\r",
      "  7%|██████████▎                                                                                                                                             | 24/352 [02:14<31:47,  5.82s/it]"
     ]
    },
    {
     "name": "stdout",
     "output_type": "stream",
     "text": [
      "TC formation prediction is [[0.98565555]] 1 Yes\n",
      "Processing image: /N/project/pfec_climo/qmnguyen/tc_prediction/binary_datasets/ncep_WP_binary_0h//pos/20171008_12_00_16.5_113.4_2017282N17113.nc\n",
      "Input image dimension is:  (1, 30, 30, 12)\n",
      "1/1 [==============================] - 0s 17ms/step\n"
     ]
    },
    {
     "name": "stderr",
     "output_type": "stream",
     "text": [
      "\r",
      "  7%|██████████▊                                                                                                                                             | 25/352 [02:19<31:24,  5.76s/it]"
     ]
    },
    {
     "name": "stdout",
     "output_type": "stream",
     "text": [
      "TC formation prediction is [[0.9934654]] 1 Yes\n",
      "Processing image: /N/project/pfec_climo/qmnguyen/tc_prediction/binary_datasets/ncep_WP_binary_0h//pos/20210512_18_00_7.1_129.8_2021133N07130.nc\n",
      "Input image dimension is:  (1, 30, 30, 12)\n",
      "1/1 [==============================] - 0s 17ms/step\n"
     ]
    },
    {
     "name": "stderr",
     "output_type": "stream",
     "text": [
      "\r",
      "  7%|███████████▏                                                                                                                                            | 26/352 [02:25<31:04,  5.72s/it]"
     ]
    },
    {
     "name": "stdout",
     "output_type": "stream",
     "text": [
      "TC formation prediction is [[0.00093313]] 0 No\n",
      "Processing image: /N/project/pfec_climo/qmnguyen/tc_prediction/binary_datasets/ncep_WP_binary_0h//pos/20200809_12_00_16.8_118.3_2020223N17118.nc\n",
      "Input image dimension is:  (1, 30, 30, 12)\n",
      "1/1 [==============================] - 0s 17ms/step\n"
     ]
    },
    {
     "name": "stderr",
     "output_type": "stream",
     "text": [
      "\r",
      "  8%|███████████▋                                                                                                                                            | 27/352 [02:30<30:35,  5.65s/it]"
     ]
    },
    {
     "name": "stdout",
     "output_type": "stream",
     "text": [
      "TC formation prediction is [[1.]] 1 Yes\n",
      "Processing image: /N/project/pfec_climo/qmnguyen/tc_prediction/binary_datasets/ncep_WP_binary_0h//pos/20190830_00_00_18.2_126.3_2019242N18126.nc\n",
      "Input image dimension is:  (1, 30, 30, 12)\n",
      "1/1 [==============================] - 0s 17ms/step\n"
     ]
    },
    {
     "name": "stderr",
     "output_type": "stream",
     "text": [
      "\r",
      "  8%|████████████                                                                                                                                            | 28/352 [02:36<30:21,  5.62s/it]"
     ]
    },
    {
     "name": "stdout",
     "output_type": "stream",
     "text": [
      "TC formation prediction is [[0.9999476]] 1 Yes\n",
      "Processing image: /N/project/pfec_climo/qmnguyen/tc_prediction/binary_datasets/ncep_WP_binary_0h//pos/20080923_12_00_11.7_139.6_2008268N12140.nc\n",
      "Input image dimension is:  (1, 30, 30, 12)\n",
      "1/1 [==============================] - 0s 17ms/step\n"
     ]
    },
    {
     "name": "stderr",
     "output_type": "stream",
     "text": [
      "\r",
      "  8%|████████████▌                                                                                                                                           | 29/352 [02:42<30:22,  5.64s/it]"
     ]
    },
    {
     "name": "stdout",
     "output_type": "stream",
     "text": [
      "TC formation prediction is [[0.9929507]] 1 Yes\n",
      "Processing image: /N/project/pfec_climo/qmnguyen/tc_prediction/binary_datasets/ncep_WP_binary_0h//pos/20081017_18_00_20.3_152.2_2008292N20152.nc\n",
      "Input image dimension is:  (1, 30, 30, 12)\n",
      "1/1 [==============================] - 0s 16ms/step\n"
     ]
    },
    {
     "name": "stderr",
     "output_type": "stream",
     "text": [
      "\r",
      "  9%|████████████▉                                                                                                                                           | 30/352 [02:47<30:23,  5.66s/it]"
     ]
    },
    {
     "name": "stdout",
     "output_type": "stream",
     "text": [
      "TC formation prediction is [[0.00153172]] 0 No\n",
      "Processing image: /N/project/pfec_climo/qmnguyen/tc_prediction/binary_datasets/ncep_WP_binary_0h//pos/20130831_00_00_25.6_121.5_2013243N26122.nc\n",
      "Input image dimension is:  (1, 30, 30, 12)\n",
      "1/1 [==============================] - 0s 18ms/step\n"
     ]
    },
    {
     "name": "stderr",
     "output_type": "stream",
     "text": [
      "\r",
      "  9%|█████████████▍                                                                                                                                          | 31/352 [02:53<30:22,  5.68s/it]"
     ]
    },
    {
     "name": "stdout",
     "output_type": "stream",
     "text": [
      "TC formation prediction is [[0.9999999]] 1 Yes\n",
      "Processing image: /N/project/pfec_climo/qmnguyen/tc_prediction/binary_datasets/ncep_WP_binary_0h//pos/20081012_00_00_16.8_109.3_2008286N17109.nc\n",
      "Input image dimension is:  (1, 30, 30, 12)\n",
      "1/1 [==============================] - 0s 17ms/step\n"
     ]
    },
    {
     "name": "stderr",
     "output_type": "stream",
     "text": [
      "\r",
      "  9%|█████████████▊                                                                                                                                          | 32/352 [02:59<30:16,  5.68s/it]"
     ]
    },
    {
     "name": "stdout",
     "output_type": "stream",
     "text": [
      "TC formation prediction is [[0.6828572]] 1 Yes\n",
      "Processing image: /N/project/pfec_climo/qmnguyen/tc_prediction/binary_datasets/ncep_WP_binary_0h//pos/20160830_18_00_20.8_123.0_2016244N21123.nc\n",
      "Input image dimension is:  (1, 30, 30, 12)\n",
      "1/1 [==============================] - 0s 18ms/step\n"
     ]
    },
    {
     "name": "stderr",
     "output_type": "stream",
     "text": [
      "\r",
      "  9%|██████████████▎                                                                                                                                         | 33/352 [03:05<30:33,  5.75s/it]"
     ]
    },
    {
     "name": "stdout",
     "output_type": "stream",
     "text": [
      "TC formation prediction is [[0.9999997]] 1 Yes\n",
      "Processing image: /N/project/pfec_climo/qmnguyen/tc_prediction/binary_datasets/ncep_WP_binary_0h//pos/20090622_00_00_10.0_132.3_2009173N10132.nc\n",
      "Input image dimension is:  (1, 30, 30, 12)\n",
      "1/1 [==============================] - 0s 17ms/step\n"
     ]
    },
    {
     "name": "stderr",
     "output_type": "stream",
     "text": [
      "\r",
      " 10%|██████████████▋                                                                                                                                         | 34/352 [03:11<30:35,  5.77s/it]"
     ]
    },
    {
     "name": "stdout",
     "output_type": "stream",
     "text": [
      "TC formation prediction is [[0.9999999]] 1 Yes\n",
      "Processing image: /N/project/pfec_climo/qmnguyen/tc_prediction/binary_datasets/ncep_WP_binary_0h//pos/20150506_12_00_4.1_157.9_2015127N04158.nc\n",
      "Input image dimension is:  (1, 30, 30, 12)\n",
      "1/1 [==============================] - 0s 18ms/step\n"
     ]
    },
    {
     "name": "stderr",
     "output_type": "stream",
     "text": [
      "\r",
      " 10%|███████████████                                                                                                                                         | 35/352 [03:16<30:07,  5.70s/it]"
     ]
    },
    {
     "name": "stdout",
     "output_type": "stream",
     "text": [
      "TC formation prediction is [[0.993845]] 1 Yes\n",
      "Processing image: /N/project/pfec_climo/qmnguyen/tc_prediction/binary_datasets/ncep_WP_binary_0h//pos/20160818_12_00_22.3_152.8_2016232N22153.nc\n",
      "Input image dimension is:  (1, 30, 30, 12)\n",
      "1/1 [==============================] - 0s 17ms/step\n"
     ]
    },
    {
     "name": "stderr",
     "output_type": "stream",
     "text": [
      "\r",
      " 10%|███████████████▌                                                                                                                                        | 36/352 [03:22<29:55,  5.68s/it]"
     ]
    },
    {
     "name": "stdout",
     "output_type": "stream",
     "text": [
      "TC formation prediction is [[0.9964261]] 1 Yes\n",
      "Processing image: /N/project/pfec_climo/qmnguyen/tc_prediction/binary_datasets/ncep_WP_binary_0h//pos/20160702_12_00_8.2_145.2_2016185N08145.nc\n",
      "Input image dimension is:  (1, 30, 30, 12)\n",
      "1/1 [==============================] - 0s 17ms/step\n"
     ]
    },
    {
     "name": "stderr",
     "output_type": "stream",
     "text": [
      "\r",
      " 11%|███████████████▉                                                                                                                                        | 37/352 [03:27<29:48,  5.68s/it]"
     ]
    },
    {
     "name": "stdout",
     "output_type": "stream",
     "text": [
      "TC formation prediction is [[0.9963727]] 1 Yes\n",
      "Processing image: /N/project/pfec_climo/qmnguyen/tc_prediction/binary_datasets/ncep_WP_binary_0h//pos/20171011_00_00_15.5_134.0_2017284N15134.nc\n",
      "Input image dimension is:  (1, 30, 30, 12)\n",
      "1/1 [==============================] - 0s 18ms/step\n"
     ]
    },
    {
     "name": "stderr",
     "output_type": "stream",
     "text": [
      "\r",
      " 11%|████████████████▍                                                                                                                                       | 38/352 [03:33<30:05,  5.75s/it]"
     ]
    },
    {
     "name": "stdout",
     "output_type": "stream",
     "text": [
      "TC formation prediction is [[0.00172977]] 0 No\n",
      "Processing image: /N/project/pfec_climo/qmnguyen/tc_prediction/binary_datasets/ncep_WP_binary_0h//pos/20150801_06_00_28.7_145.7_2015213N29146.nc\n",
      "Input image dimension is:  (1, 30, 30, 12)\n",
      "1/1 [==============================] - 0s 17ms/step\n"
     ]
    },
    {
     "name": "stderr",
     "output_type": "stream",
     "text": [
      "\r",
      " 11%|████████████████▊                                                                                                                                       | 39/352 [03:39<29:51,  5.72s/it]"
     ]
    },
    {
     "name": "stdout",
     "output_type": "stream",
     "text": [
      "TC formation prediction is [[0.9999232]] 1 Yes\n",
      "Processing image: /N/project/pfec_climo/qmnguyen/tc_prediction/binary_datasets/ncep_WP_binary_0h//pos/20201024_00_00_12.5_131.2_2020298N13131.nc\n",
      "Input image dimension is:  (1, 30, 30, 12)\n",
      "1/1 [==============================] - 0s 17ms/step\n"
     ]
    },
    {
     "name": "stderr",
     "output_type": "stream",
     "text": [
      "\r",
      " 11%|█████████████████▎                                                                                                                                      | 40/352 [03:45<29:38,  5.70s/it]"
     ]
    },
    {
     "name": "stdout",
     "output_type": "stream",
     "text": [
      "TC formation prediction is [[0.99999267]] 1 Yes\n",
      "Processing image: /N/project/pfec_climo/qmnguyen/tc_prediction/binary_datasets/ncep_WP_binary_0h//pos/20191028_12_00_10.6_118.2_2019302N11118.nc\n",
      "Input image dimension is:  (1, 30, 30, 12)\n",
      "1/1 [==============================] - 0s 17ms/step\n"
     ]
    },
    {
     "name": "stderr",
     "output_type": "stream",
     "text": [
      "\r",
      " 12%|█████████████████▋                                                                                                                                      | 41/352 [03:50<29:26,  5.68s/it]"
     ]
    },
    {
     "name": "stdout",
     "output_type": "stream",
     "text": [
      "TC formation prediction is [[0.99957865]] 1 Yes\n",
      "Processing image: /N/project/pfec_climo/qmnguyen/tc_prediction/binary_datasets/ncep_WP_binary_0h//pos/20181116_18_00_9.9_113.1_2018321N10113.nc\n",
      "Input image dimension is:  (1, 30, 30, 12)\n",
      "1/1 [==============================] - 0s 17ms/step\n"
     ]
    },
    {
     "name": "stderr",
     "output_type": "stream",
     "text": [
      "\r",
      " 12%|██████████████████▏                                                                                                                                     | 42/352 [03:56<29:39,  5.74s/it]"
     ]
    },
    {
     "name": "stdout",
     "output_type": "stream",
     "text": [
      "TC formation prediction is [[0.98262095]] 1 Yes\n",
      "Processing image: /N/project/pfec_climo/qmnguyen/tc_prediction/binary_datasets/ncep_WP_binary_0h//pos/20180814_00_00_23.2_128.2_2018226N23128.nc\n",
      "Input image dimension is:  (1, 30, 30, 12)\n",
      "1/1 [==============================] - 0s 17ms/step\n"
     ]
    },
    {
     "name": "stderr",
     "output_type": "stream",
     "text": [
      "\r",
      " 12%|██████████████████▌                                                                                                                                     | 43/352 [04:02<29:13,  5.68s/it]"
     ]
    },
    {
     "name": "stdout",
     "output_type": "stream",
     "text": [
      "TC formation prediction is [[0.99999493]] 1 Yes\n",
      "Processing image: /N/project/pfec_climo/qmnguyen/tc_prediction/binary_datasets/ncep_WP_binary_0h//pos/20120923_06_00_15.6_140.5_2012267N16141.nc\n",
      "Input image dimension is:  (1, 30, 30, 12)\n",
      "1/1 [==============================] - 0s 17ms/step\n"
     ]
    },
    {
     "name": "stderr",
     "output_type": "stream",
     "text": [
      "\r",
      " 12%|███████████████████                                                                                                                                     | 44/352 [04:07<29:05,  5.67s/it]"
     ]
    },
    {
     "name": "stdout",
     "output_type": "stream",
     "text": [
      "TC formation prediction is [[0.9999934]] 1 Yes\n",
      "Processing image: /N/project/pfec_climo/qmnguyen/tc_prediction/binary_datasets/ncep_WP_binary_0h//pos/20110713_12_00_15.3_133.6_2011195N15134.nc\n",
      "Input image dimension is:  (1, 30, 30, 12)\n",
      "1/1 [==============================] - 0s 17ms/step\n"
     ]
    },
    {
     "name": "stderr",
     "output_type": "stream",
     "text": [
      "\r",
      " 13%|███████████████████▍                                                                                                                                    | 45/352 [04:13<28:55,  5.65s/it]"
     ]
    },
    {
     "name": "stdout",
     "output_type": "stream",
     "text": [
      "TC formation prediction is [[0.99553144]] 1 Yes\n",
      "Processing image: /N/project/pfec_climo/qmnguyen/tc_prediction/binary_datasets/ncep_WP_binary_0h//pos/20201108_12_00_12.9_117.9_2020314N13118.nc\n",
      "Input image dimension is:  (1, 30, 30, 12)\n",
      "1/1 [==============================] - 0s 17ms/step\n"
     ]
    },
    {
     "name": "stderr",
     "output_type": "stream",
     "text": [
      "\r",
      " 13%|███████████████████▊                                                                                                                                    | 46/352 [04:19<28:52,  5.66s/it]"
     ]
    },
    {
     "name": "stdout",
     "output_type": "stream",
     "text": [
      "TC formation prediction is [[0.991998]] 1 Yes\n",
      "Processing image: /N/project/pfec_climo/qmnguyen/tc_prediction/binary_datasets/ncep_WP_binary_0h//pos/20180806_00_00_18.2_134.1_2018218N18134.nc\n",
      "Input image dimension is:  (1, 30, 30, 12)\n",
      "1/1 [==============================] - 0s 17ms/step\n"
     ]
    },
    {
     "name": "stderr",
     "output_type": "stream",
     "text": [
      "\r",
      " 13%|████████████████████▎                                                                                                                                   | 47/352 [04:24<28:40,  5.64s/it]"
     ]
    },
    {
     "name": "stdout",
     "output_type": "stream",
     "text": [
      "TC formation prediction is [[0.9999994]] 1 Yes\n",
      "Processing image: /N/project/pfec_climo/qmnguyen/tc_prediction/binary_datasets/ncep_WP_binary_0h//pos/20200915_18_00_12.8_118.4_2020260N13118.nc\n",
      "Input image dimension is:  (1, 30, 30, 12)\n",
      "1/1 [==============================] - 0s 17ms/step\n"
     ]
    },
    {
     "name": "stderr",
     "output_type": "stream",
     "text": [
      "\r",
      " 14%|████████████████████▋                                                                                                                                   | 48/352 [04:30<28:40,  5.66s/it]"
     ]
    },
    {
     "name": "stdout",
     "output_type": "stream",
     "text": [
      "TC formation prediction is [[0.9999998]] 1 Yes\n",
      "Processing image: /N/project/pfec_climo/qmnguyen/tc_prediction/binary_datasets/ncep_WP_binary_0h//pos/20110923_18_00_16.2_110.6_2011267N16111.nc\n",
      "Input image dimension is:  (1, 30, 30, 12)\n",
      "1/1 [==============================] - 0s 17ms/step\n"
     ]
    },
    {
     "name": "stderr",
     "output_type": "stream",
     "text": [
      "\r",
      " 14%|█████████████████████▏                                                                                                                                  | 49/352 [04:36<28:36,  5.67s/it]"
     ]
    },
    {
     "name": "stdout",
     "output_type": "stream",
     "text": [
      "TC formation prediction is [[0.9999995]] 1 Yes\n",
      "Processing image: /N/project/pfec_climo/qmnguyen/tc_prediction/binary_datasets/ncep_WP_binary_0h//pos/20151001_06_00_16.9_166.9_2015274N17167.nc\n",
      "Input image dimension is:  (1, 30, 30, 12)\n",
      "1/1 [==============================] - 0s 17ms/step\n"
     ]
    },
    {
     "name": "stderr",
     "output_type": "stream",
     "text": [
      "\r",
      " 14%|█████████████████████▌                                                                                                                                  | 50/352 [04:41<28:35,  5.68s/it]"
     ]
    },
    {
     "name": "stdout",
     "output_type": "stream",
     "text": [
      "TC formation prediction is [[0.999895]] 1 Yes\n",
      "Processing image: /N/project/pfec_climo/qmnguyen/tc_prediction/binary_datasets/ncep_WP_binary_0h//pos/20160924_18_00_14.9_164.6_2016269N15165.nc\n",
      "Input image dimension is:  (1, 30, 30, 12)\n",
      "1/1 [==============================] - 0s 17ms/step\n"
     ]
    },
    {
     "name": "stderr",
     "output_type": "stream",
     "text": [
      "\r",
      " 14%|█████████████████████▌                                                                                                                                  | 50/352 [04:47<28:57,  5.75s/it]"
     ]
    },
    {
     "name": "stdout",
     "output_type": "stream",
     "text": [
      "TC formation prediction is [[0.7519042]] 1 Yes\n",
      "Prediction accuracy for yes event is:  0.9020\n"
     ]
    },
    {
     "name": "stderr",
     "output_type": "stream",
     "text": [
      "\n"
     ]
    }
   ],
   "source": [
    "#\n",
    "# call a CNN trained model and make a prediction\n",
    "#\n",
    "CATEGORIES = [\"No\", \"Yes\"]\n",
    "model = tf.keras.models.load_model(\"./tcg_CNN.model\")\n",
    "DATADIR = \"/N/project/pfec_climo/qmnguyen/tc_prediction/binary_datasets/ncep_WP_binary_0h/\"\n",
    "category = \"pos\"\n",
    "path = os.path.join(DATADIR,category)\n",
    "print(path)\n",
    "prediction_total = 0\n",
    "prediction_yes = 0\n",
    "prediction_history = []\n",
    "for img in tqdm(os.listdir(path)):\n",
    "    try:\n",
    "        img_dir = DATADIR + '/' + category + '/' + img\n",
    "        print('Processing image:', img_dir)\n",
    "        #print('Input image dimension is: ',prepare(img_dir).shape)\n",
    "        prediction = model.predict([prepare(img_dir)])\n",
    "        print(\"TC formation prediction is\",prediction,round(prediction[0][0]),CATEGORIES[round(prediction[0][0])])\n",
    "        prediction_history.append([prediction[0][0], round(prediction[0][0])])\n",
    "        if round(prediction[0][0]) == 1:\n",
    "            prediction_yes += 1\n",
    "        prediction_total += 1    \n",
    "        #print(prediction_yes, prediction_total,prediction_history)\n",
    "        #input(\"Press Enter to continue...\")\n",
    "        if prediction_total > 30:\n",
    "            break\n",
    "    except Exception as e:\n",
    "        pass\n",
    "print(f\"Prediction accuracy for yes event is: {prediction_yes/prediction_total: .4f}\")    "
   ]
  },
  {
   "cell_type": "code",
   "execution_count": 7,
   "id": "6c80549e",
   "metadata": {},
   "outputs": [
    {
     "name": "stdout",
     "output_type": "stream",
     "text": [
      "[[0.9999962, 1], [0.6882587, 1], [0.9955371, 1], [0.85128695, 1], [0.97033226, 1], [0.09757158, 0], [0.99786943, 1], [1.0, 1], [0.99999934, 1], [0.9987997, 1], [0.96775466, 1], [0.55922717, 1], [0.9999991, 1], [0.9999858, 1], [1.0, 1], [0.99997646, 1], [0.9990219, 1], [0.99999243, 1], [0.99574035, 1], [0.99985635, 1], [0.99976224, 1], [0.008809361, 0], [0.7542709, 1], [0.98565555, 1], [0.9934654, 1], [0.00093312794, 0], [1.0, 1], [0.9999476, 1], [0.9929507, 1], [0.0015317168, 0], [0.9999999, 1], [0.6828572, 1], [0.9999997, 1], [0.9999999, 1], [0.993845, 1], [0.9964261, 1], [0.9963727, 1], [0.0017297732, 0], [0.9999232, 1], [0.99999267, 1], [0.99957865, 1], [0.98262095, 1], [0.99999493, 1], [0.9999934, 1], [0.99553144, 1], [0.991998, 1], [0.9999994, 1], [0.9999998, 1], [0.9999995, 1], [0.999895, 1], [0.7519042, 1]]\n"
     ]
    }
   ],
   "source": [
    "print(prediction_history)"
   ]
  }
 ],
 "metadata": {
  "kernelspec": {
   "display_name": "Python 3 (ipykernel)",
   "language": "python",
   "name": "python3"
  },
  "language_info": {
   "codemirror_mode": {
    "name": "ipython",
    "version": 3
   },
   "file_extension": ".py",
   "mimetype": "text/x-python",
   "name": "python",
   "nbconvert_exporter": "python",
   "pygments_lexer": "ipython3",
   "version": "3.9.13"
  }
 },
 "nbformat": 4,
 "nbformat_minor": 5
}
