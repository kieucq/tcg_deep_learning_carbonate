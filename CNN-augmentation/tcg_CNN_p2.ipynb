{
 "cells": [
  {
   "cell_type": "code",
   "execution_count": 1,
   "id": "177fa5fa",
   "metadata": {},
   "outputs": [
    {
     "name": "stderr",
     "output_type": "stream",
     "text": [
      "2023-06-20 13:57:40.783460: I tensorflow/core/util/util.cc:169] oneDNN custom operations are on. You may see slightly different numerical results due to floating-point round-off errors from different computation orders. To turn them off, set the environment variable `TF_ENABLE_ONEDNN_OPTS=0`.\n"
     ]
    }
   ],
   "source": [
    "#\n",
    "# NOTE: This machine learning program is for predicting TC formation, using\n",
    "#       input dataset in the NETCDF format. The program treats different\n",
    "#       2D input fields as different channels of an image. This specific\n",
    "#       program requires a set of 12 2D-variables (12-channel image) and\n",
    "#       consists of three stages\n",
    "#       - Stage 1: reading NETCDF input and generating (X,y) data with a\n",
    "#                  given image sizes, which are then saved by pickle;\n",
    "#       - Stage 2: import the saved pickle (X,y) pair and build a CNN model\n",
    "#                  with a given training/validation ratio, and then save\n",
    "#                  the train model under tcg_CNN.model.\n",
    "#       - Stage 3: import the trained model from Stage 2, and make a list\n",
    "#                  of prediction from normalized test data.\n",
    "#\n",
    "# INPUT: This Stage 2 script requires two specific input datasets that are\n",
    "#        generated from Step 1, including\n",
    "#        1. tcg_X.pickle: data contains all images of yes/no TCG events, each\n",
    "#           of these images must have 12 channels\n",
    "#        2. tcg_y.pickle: data contains all labels of each image (i.e., yes\n",
    "#           or no) of TCG corresponding to each data in X.\n",
    "#\n",
    "#        Remarks: Note that each channel must be normalized separealy. Also\n",
    "#        the script requires a large memory allocation. So users need to have\n",
    "#        GPU version to run this.\n",
    "#\n",
    "# OUTPUT: A CNN model built from Keras saved under tcg_CNN.model\n",
    "#\n",
    "# HIST: - 27, Oct 22: Created by CK\n",
    "#       - 01, Nov 22: Modified to include more channels\n",
    "#       - 17, Nov 23: cusomize it for jupiter notebook\n",
    "#       - 21, Feb 23: use functional model instead of sequential model  \n",
    "#       - 05, Jun 23: Re-check for consistency with Stage 1 script and added more hyperparamter loops\n",
    "#       - 20, Jun 23: Updated for augmentation/dropout layers\n",
    "#\n",
    "# AUTH: Chanh Kieu (Indiana University, Bloomington. Email: ckieu@iu.edu)\n",
    "#\n",
    "#==========================================================================\n",
    "import tensorflow as tf\n",
    "import numpy as np\n",
    "import pickle\n",
    "import time\n",
    "from tensorflow import keras\n",
    "from tensorflow.keras import layers\n",
    "from tensorflow.keras.callbacks import TensorBoard"
   ]
  },
  {
   "cell_type": "code",
   "execution_count": 2,
   "id": "84e03120",
   "metadata": {},
   "outputs": [
    {
     "name": "stdout",
     "output_type": "stream",
     "text": [
      "Input shape of the X features data:  (704, 30, 30, 12)\n",
      "Input shape of the y label data:  (704,)\n",
      "Number of input channel extracted from X is:  12\n"
     ]
    }
   ],
   "source": [
    "#\n",
    "# read in data output from Part 1\n",
    "#\n",
    "pickle_in = open(\"tcg_CNNaugment_X.pickle\",\"rb\")\n",
    "X = pickle.load(pickle_in)\n",
    "pickle_in = open(\"tcg_CNNaugment_y.pickle\",\"rb\")\n",
    "y = pickle.load(pickle_in)\n",
    "y = np.array(y)\n",
    "number_channels=X.shape[3]\n",
    "print('Input shape of the X features data: ',X.shape)\n",
    "print('Input shape of the y label data: ',y.shape)\n",
    "print('Number of input channel extracted from X is: ',number_channels)"
   ]
  },
  {
   "cell_type": "code",
   "execution_count": 3,
   "id": "dd4b03c0",
   "metadata": {},
   "outputs": [
    {
     "name": "stdout",
     "output_type": "stream",
     "text": [
      "Finish normalization...\n"
     ]
    }
   ],
   "source": [
    "#\n",
    "# normalize the data before training the model\n",
    "#\n",
    "nsample = X.shape[0]\n",
    "for i in range(nsample):\n",
    "    for var in range(number_channels):    \n",
    "        maxvalue = X[i,:,:,var].flat[np.abs(X[i,:,:,var]).argmax()]\n",
    "        #print('Normalization factor for sample and channel',i,var,', is: ',abs(maxvalue))\n",
    "        X[i,:,:,var] = X[i,:,:,var]/abs(maxvalue)\n",
    "        maxnew = X[i,:,:,var].flat[np.abs(X[i,:,:,var]).argmax()]\n",
    "        #print('-->After normalization of sample and channel',i,var,', is: ',abs(maxnew))\n",
    "        #input('Enter to continue...')\n",
    "print(\"Finish normalization...\")"
   ]
  },
  {
   "cell_type": "code",
   "execution_count": 4,
   "id": "716ab205",
   "metadata": {},
   "outputs": [
    {
     "name": "stderr",
     "output_type": "stream",
     "text": [
      "2023-06-20 13:58:50.023596: I tensorflow/core/platform/cpu_feature_guard.cc:193] This TensorFlow binary is optimized with oneAPI Deep Neural Network Library (oneDNN) to use the following CPU instructions in performance-critical operations:  AVX2 AVX512F AVX512_VNNI FMA\n",
      "To enable them in other operations, rebuild TensorFlow with the appropriate compiler flags.\n",
      "2023-06-20 13:58:53.615387: I tensorflow/core/common_runtime/gpu/gpu_device.cc:1532] Created device /job:localhost/replica:0/task:0/device:GPU:0 with 30987 MB memory:  -> device: 0, name: Tesla V100-PCIE-32GB, pci bus id: 0000:b1:00.0, compute capability: 7.0\n"
     ]
    },
    {
     "name": "stdout",
     "output_type": "stream",
     "text": [
      "--> Running configuration:  3-conv-32-layer-0-dense.model_00h\n",
      "Model: \"my_functional_model\"\n",
      "_________________________________________________________________\n",
      " Layer (type)                Output Shape              Param #   \n",
      "=================================================================\n",
      " input_1 (InputLayer)        [(None, 30, 30, 12)]      0         \n",
      "                                                                 \n",
      " sequential (Sequential)     (None, 30, 30, 12)        0         \n",
      "                                                                 \n",
      " my_conv2d_1 (Conv2D)        (None, 28, 28, 32)        3488      \n",
      "                                                                 \n",
      " my_pooling_1 (MaxPooling2D)  (None, 14, 14, 32)       0         \n",
      "                                                                 \n",
      " my_conv2d_2 (Conv2D)        (None, 12, 12, 64)        18496     \n",
      "                                                                 \n",
      " my_pooling_2 (MaxPooling2D)  (None, 6, 6, 64)         0         \n",
      "                                                                 \n",
      " my_conv2d_3 (Conv2D)        (None, 4, 4, 128)         73856     \n",
      "                                                                 \n",
      " my_pooling_3 (MaxPooling2D)  (None, 2, 2, 128)        0         \n",
      "                                                                 \n",
      " my_flatten (Flatten)        (None, 512)               0         \n",
      "                                                                 \n",
      " dropout (Dropout)           (None, 512)               0         \n",
      "                                                                 \n",
      " my_dense (Dense)            (None, 1)                 513       \n",
      "                                                                 \n",
      "=================================================================\n",
      "Total params: 96,353\n",
      "Trainable params: 96,353\n",
      "Non-trainable params: 0\n",
      "_________________________________________________________________\n",
      "Epoch 1/30\n"
     ]
    },
    {
     "name": "stderr",
     "output_type": "stream",
     "text": [
      "2023-06-20 13:59:02.184070: I tensorflow/stream_executor/cuda/cuda_dnn.cc:384] Loaded cuDNN version 8401\n"
     ]
    },
    {
     "name": "stdout",
     "output_type": "stream",
     "text": [
      "5/5 [==============================] - ETA: 0s - loss: 0.6495 - accuracy: 0.6461"
     ]
    },
    {
     "name": "stderr",
     "output_type": "stream",
     "text": [
      "WARNING:absl:Found untraced functions such as _jit_compiled_convolution_op, _jit_compiled_convolution_op, _jit_compiled_convolution_op while saving (showing 3 of 3). These functions will not be directly callable after loading.\n"
     ]
    },
    {
     "name": "stdout",
     "output_type": "stream",
     "text": [
      "INFO:tensorflow:Assets written to: 3-conv-32-layer-0-dense.model_00h/assets\n"
     ]
    },
    {
     "name": "stderr",
     "output_type": "stream",
     "text": [
      "INFO:tensorflow:Assets written to: 3-conv-32-layer-0-dense.model_00h/assets\n"
     ]
    },
    {
     "name": "stdout",
     "output_type": "stream",
     "text": [
      "5/5 [==============================] - 18s 551ms/step - loss: 0.6495 - accuracy: 0.6461 - val_loss: 0.5413 - val_accuracy: 0.8169\n",
      "Epoch 2/30\n",
      "5/5 [==============================] - ETA: 0s - loss: 0.4414 - accuracy: 0.8847"
     ]
    },
    {
     "name": "stderr",
     "output_type": "stream",
     "text": [
      "WARNING:absl:Found untraced functions such as _jit_compiled_convolution_op, _jit_compiled_convolution_op, _jit_compiled_convolution_op while saving (showing 3 of 3). These functions will not be directly callable after loading.\n"
     ]
    },
    {
     "name": "stdout",
     "output_type": "stream",
     "text": [
      "INFO:tensorflow:Assets written to: 3-conv-32-layer-0-dense.model_00h/assets\n"
     ]
    },
    {
     "name": "stderr",
     "output_type": "stream",
     "text": [
      "INFO:tensorflow:Assets written to: 3-conv-32-layer-0-dense.model_00h/assets\n"
     ]
    },
    {
     "name": "stdout",
     "output_type": "stream",
     "text": [
      "5/5 [==============================] - 2s 481ms/step - loss: 0.4414 - accuracy: 0.8847 - val_loss: 0.2828 - val_accuracy: 0.9437\n",
      "Epoch 3/30\n",
      "5/5 [==============================] - ETA: 0s - loss: 0.2584 - accuracy: 0.9084"
     ]
    },
    {
     "name": "stderr",
     "output_type": "stream",
     "text": [
      "WARNING:absl:Found untraced functions such as _jit_compiled_convolution_op, _jit_compiled_convolution_op, _jit_compiled_convolution_op while saving (showing 3 of 3). These functions will not be directly callable after loading.\n"
     ]
    },
    {
     "name": "stdout",
     "output_type": "stream",
     "text": [
      "INFO:tensorflow:Assets written to: 3-conv-32-layer-0-dense.model_00h/assets\n"
     ]
    },
    {
     "name": "stderr",
     "output_type": "stream",
     "text": [
      "INFO:tensorflow:Assets written to: 3-conv-32-layer-0-dense.model_00h/assets\n"
     ]
    },
    {
     "name": "stdout",
     "output_type": "stream",
     "text": [
      "5/5 [==============================] - 2s 432ms/step - loss: 0.2584 - accuracy: 0.9084 - val_loss: 0.1917 - val_accuracy: 0.9437\n",
      "Epoch 4/30\n",
      "5/5 [==============================] - ETA: 0s - loss: 0.2021 - accuracy: 0.9131"
     ]
    },
    {
     "name": "stderr",
     "output_type": "stream",
     "text": [
      "WARNING:absl:Found untraced functions such as _jit_compiled_convolution_op, _jit_compiled_convolution_op, _jit_compiled_convolution_op while saving (showing 3 of 3). These functions will not be directly callable after loading.\n"
     ]
    },
    {
     "name": "stdout",
     "output_type": "stream",
     "text": [
      "INFO:tensorflow:Assets written to: 3-conv-32-layer-0-dense.model_00h/assets\n"
     ]
    },
    {
     "name": "stderr",
     "output_type": "stream",
     "text": [
      "INFO:tensorflow:Assets written to: 3-conv-32-layer-0-dense.model_00h/assets\n"
     ]
    },
    {
     "name": "stdout",
     "output_type": "stream",
     "text": [
      "5/5 [==============================] - 2s 431ms/step - loss: 0.2021 - accuracy: 0.9131 - val_loss: 0.1603 - val_accuracy: 0.9437\n",
      "Epoch 5/30\n",
      "5/5 [==============================] - 0s 73ms/step - loss: 0.1889 - accuracy: 0.9179 - val_loss: 0.1653 - val_accuracy: 0.9296\n",
      "Epoch 6/30\n",
      "5/5 [==============================] - 0s 74ms/step - loss: 0.1499 - accuracy: 0.9352 - val_loss: 0.2331 - val_accuracy: 0.9155\n",
      "Epoch 7/30\n",
      "5/5 [==============================] - ETA: 0s - loss: 0.1745 - accuracy: 0.9321"
     ]
    },
    {
     "name": "stderr",
     "output_type": "stream",
     "text": [
      "WARNING:absl:Found untraced functions such as _jit_compiled_convolution_op, _jit_compiled_convolution_op, _jit_compiled_convolution_op while saving (showing 3 of 3). These functions will not be directly callable after loading.\n"
     ]
    },
    {
     "name": "stdout",
     "output_type": "stream",
     "text": [
      "INFO:tensorflow:Assets written to: 3-conv-32-layer-0-dense.model_00h/assets\n"
     ]
    },
    {
     "name": "stderr",
     "output_type": "stream",
     "text": [
      "INFO:tensorflow:Assets written to: 3-conv-32-layer-0-dense.model_00h/assets\n"
     ]
    },
    {
     "name": "stdout",
     "output_type": "stream",
     "text": [
      "5/5 [==============================] - 2s 507ms/step - loss: 0.1745 - accuracy: 0.9321 - val_loss: 0.1428 - val_accuracy: 0.9437\n",
      "Epoch 8/30\n",
      "5/5 [==============================] - 0s 72ms/step - loss: 0.1568 - accuracy: 0.9415 - val_loss: 0.2531 - val_accuracy: 0.9014\n",
      "Epoch 9/30\n",
      "5/5 [==============================] - ETA: 0s - loss: 0.1268 - accuracy: 0.9510"
     ]
    },
    {
     "name": "stderr",
     "output_type": "stream",
     "text": [
      "WARNING:absl:Found untraced functions such as _jit_compiled_convolution_op, _jit_compiled_convolution_op, _jit_compiled_convolution_op while saving (showing 3 of 3). These functions will not be directly callable after loading.\n"
     ]
    },
    {
     "name": "stdout",
     "output_type": "stream",
     "text": [
      "INFO:tensorflow:Assets written to: 3-conv-32-layer-0-dense.model_00h/assets\n"
     ]
    },
    {
     "name": "stderr",
     "output_type": "stream",
     "text": [
      "INFO:tensorflow:Assets written to: 3-conv-32-layer-0-dense.model_00h/assets\n"
     ]
    },
    {
     "name": "stdout",
     "output_type": "stream",
     "text": [
      "5/5 [==============================] - 2s 434ms/step - loss: 0.1268 - accuracy: 0.9510 - val_loss: 0.1267 - val_accuracy: 0.9577\n",
      "Epoch 10/30\n",
      "5/5 [==============================] - 0s 76ms/step - loss: 0.1393 - accuracy: 0.9510 - val_loss: 0.1751 - val_accuracy: 0.9155\n",
      "Epoch 11/30\n",
      "5/5 [==============================] - ETA: 0s - loss: 0.1129 - accuracy: 0.9494"
     ]
    },
    {
     "name": "stderr",
     "output_type": "stream",
     "text": [
      "WARNING:absl:Found untraced functions such as _jit_compiled_convolution_op, _jit_compiled_convolution_op, _jit_compiled_convolution_op while saving (showing 3 of 3). These functions will not be directly callable after loading.\n"
     ]
    },
    {
     "name": "stdout",
     "output_type": "stream",
     "text": [
      "INFO:tensorflow:Assets written to: 3-conv-32-layer-0-dense.model_00h/assets\n"
     ]
    },
    {
     "name": "stderr",
     "output_type": "stream",
     "text": [
      "INFO:tensorflow:Assets written to: 3-conv-32-layer-0-dense.model_00h/assets\n"
     ]
    },
    {
     "name": "stdout",
     "output_type": "stream",
     "text": [
      "5/5 [==============================] - 2s 504ms/step - loss: 0.1129 - accuracy: 0.9494 - val_loss: 0.1086 - val_accuracy: 0.9718\n",
      "Epoch 12/30\n",
      "5/5 [==============================] - 0s 74ms/step - loss: 0.1047 - accuracy: 0.9589 - val_loss: 0.1632 - val_accuracy: 0.9296\n",
      "Epoch 13/30\n",
      "5/5 [==============================] - 0s 74ms/step - loss: 0.0975 - accuracy: 0.9716 - val_loss: 0.1097 - val_accuracy: 0.9437\n",
      "Epoch 14/30\n",
      "5/5 [==============================] - 0s 74ms/step - loss: 0.0956 - accuracy: 0.9621 - val_loss: 0.1226 - val_accuracy: 0.9437\n",
      "Epoch 15/30\n",
      "5/5 [==============================] - 0s 76ms/step - loss: 0.0950 - accuracy: 0.9573 - val_loss: 0.1415 - val_accuracy: 0.9296\n",
      "Epoch 16/30\n",
      "5/5 [==============================] - 0s 74ms/step - loss: 0.0829 - accuracy: 0.9700 - val_loss: 0.1149 - val_accuracy: 0.9437\n",
      "Epoch 17/30\n",
      "5/5 [==============================] - 0s 73ms/step - loss: 0.0660 - accuracy: 0.9747 - val_loss: 0.1356 - val_accuracy: 0.9437\n",
      "Epoch 18/30\n",
      "5/5 [==============================] - 0s 72ms/step - loss: 0.0591 - accuracy: 0.9763 - val_loss: 0.1190 - val_accuracy: 0.9577\n",
      "Epoch 19/30\n",
      "5/5 [==============================] - 0s 72ms/step - loss: 0.0698 - accuracy: 0.9763 - val_loss: 0.1679 - val_accuracy: 0.9437\n",
      "Epoch 20/30\n",
      "5/5 [==============================] - 0s 74ms/step - loss: 0.0578 - accuracy: 0.9779 - val_loss: 0.1324 - val_accuracy: 0.9577\n",
      "Epoch 21/30\n",
      "5/5 [==============================] - 0s 75ms/step - loss: 0.0678 - accuracy: 0.9810 - val_loss: 0.1198 - val_accuracy: 0.9577\n",
      "Epoch 22/30\n",
      "5/5 [==============================] - 0s 73ms/step - loss: 0.0680 - accuracy: 0.9700 - val_loss: 0.2524 - val_accuracy: 0.9437\n",
      "Epoch 23/30\n",
      "5/5 [==============================] - 0s 74ms/step - loss: 0.0797 - accuracy: 0.9652 - val_loss: 0.1143 - val_accuracy: 0.9437\n",
      "Epoch 24/30\n",
      "5/5 [==============================] - 0s 75ms/step - loss: 0.0698 - accuracy: 0.9700 - val_loss: 0.2197 - val_accuracy: 0.9437\n",
      "Epoch 25/30\n",
      "5/5 [==============================] - 0s 75ms/step - loss: 0.0625 - accuracy: 0.9747 - val_loss: 0.1244 - val_accuracy: 0.9577\n",
      "Epoch 26/30\n",
      "5/5 [==============================] - 0s 74ms/step - loss: 0.0512 - accuracy: 0.9842 - val_loss: 0.1817 - val_accuracy: 0.9437\n",
      "Epoch 27/30\n",
      "5/5 [==============================] - 0s 75ms/step - loss: 0.0518 - accuracy: 0.9826 - val_loss: 0.1304 - val_accuracy: 0.9577\n",
      "Epoch 28/30\n",
      "5/5 [==============================] - 0s 74ms/step - loss: 0.0441 - accuracy: 0.9921 - val_loss: 0.1409 - val_accuracy: 0.9437\n",
      "Epoch 29/30\n",
      "5/5 [==============================] - 0s 75ms/step - loss: 0.0403 - accuracy: 0.9858 - val_loss: 0.1398 - val_accuracy: 0.9577\n",
      "Epoch 30/30\n",
      "5/5 [==============================] - 0s 75ms/step - loss: 0.0312 - accuracy: 0.9937 - val_loss: 0.1457 - val_accuracy: 0.9577\n",
      "--> Running configuration:  5-conv-32-layer-0-dense.model_00h\n",
      "Model: \"my_functional_model\"\n",
      "_________________________________________________________________\n",
      " Layer (type)                Output Shape              Param #   \n",
      "=================================================================\n",
      " input_2 (InputLayer)        [(None, 30, 30, 12)]      0         \n",
      "                                                                 \n",
      " sequential (Sequential)     (None, 30, 30, 12)        0         \n",
      "                                                                 \n",
      " my_conv2d_1 (Conv2D)        (None, 26, 26, 32)        9632      \n",
      "                                                                 \n",
      " my_pooling_1 (MaxPooling2D)  (None, 13, 13, 32)       0         \n",
      "                                                                 \n",
      " my_conv2d_2 (Conv2D)        (None, 9, 9, 64)          51264     \n",
      "                                                                 \n",
      " my_pooling_2 (MaxPooling2D)  (None, 4, 4, 64)         0         \n",
      "                                                                 \n",
      " my_flatten (Flatten)        (None, 1024)              0         \n",
      "                                                                 \n",
      " dropout_1 (Dropout)         (None, 1024)              0         \n",
      "                                                                 \n",
      " my_dense (Dense)            (None, 1)                 1025      \n",
      "                                                                 \n",
      "=================================================================\n",
      "Total params: 61,921\n",
      "Trainable params: 61,921\n",
      "Non-trainable params: 0\n",
      "_________________________________________________________________\n",
      "Epoch 1/30\n",
      "5/5 [==============================] - ETA: 0s - loss: 0.5802 - accuracy: 0.7567"
     ]
    },
    {
     "name": "stderr",
     "output_type": "stream",
     "text": [
      "WARNING:absl:Found untraced functions such as _jit_compiled_convolution_op, _jit_compiled_convolution_op while saving (showing 2 of 2). These functions will not be directly callable after loading.\n"
     ]
    },
    {
     "name": "stdout",
     "output_type": "stream",
     "text": [
      "INFO:tensorflow:Assets written to: 5-conv-32-layer-0-dense.model_00h/assets\n"
     ]
    },
    {
     "name": "stderr",
     "output_type": "stream",
     "text": [
      "INFO:tensorflow:Assets written to: 5-conv-32-layer-0-dense.model_00h/assets\n"
     ]
    },
    {
     "name": "stdout",
     "output_type": "stream",
     "text": [
      "5/5 [==============================] - 3s 451ms/step - loss: 0.5802 - accuracy: 0.7567 - val_loss: 0.3790 - val_accuracy: 0.9296\n",
      "Epoch 2/30\n",
      "5/5 [==============================] - ETA: 0s - loss: 0.3132 - accuracy: 0.8942"
     ]
    },
    {
     "name": "stderr",
     "output_type": "stream",
     "text": [
      "WARNING:absl:Found untraced functions such as _jit_compiled_convolution_op, _jit_compiled_convolution_op while saving (showing 2 of 2). These functions will not be directly callable after loading.\n"
     ]
    },
    {
     "name": "stdout",
     "output_type": "stream",
     "text": [
      "INFO:tensorflow:Assets written to: 5-conv-32-layer-0-dense.model_00h/assets\n"
     ]
    },
    {
     "name": "stderr",
     "output_type": "stream",
     "text": [
      "INFO:tensorflow:Assets written to: 5-conv-32-layer-0-dense.model_00h/assets\n"
     ]
    },
    {
     "name": "stdout",
     "output_type": "stream",
     "text": [
      "5/5 [==============================] - 2s 489ms/step - loss: 0.3132 - accuracy: 0.8942 - val_loss: 0.2097 - val_accuracy: 0.9014\n",
      "Epoch 3/30\n",
      "5/5 [==============================] - ETA: 0s - loss: 0.2259 - accuracy: 0.9084"
     ]
    },
    {
     "name": "stderr",
     "output_type": "stream",
     "text": [
      "WARNING:absl:Found untraced functions such as _jit_compiled_convolution_op, _jit_compiled_convolution_op while saving (showing 2 of 2). These functions will not be directly callable after loading.\n"
     ]
    },
    {
     "name": "stdout",
     "output_type": "stream",
     "text": [
      "INFO:tensorflow:Assets written to: 5-conv-32-layer-0-dense.model_00h/assets\n"
     ]
    },
    {
     "name": "stderr",
     "output_type": "stream",
     "text": [
      "INFO:tensorflow:Assets written to: 5-conv-32-layer-0-dense.model_00h/assets\n"
     ]
    },
    {
     "name": "stdout",
     "output_type": "stream",
     "text": [
      "5/5 [==============================] - 2s 424ms/step - loss: 0.2259 - accuracy: 0.9084 - val_loss: 0.1944 - val_accuracy: 0.9155\n",
      "Epoch 4/30\n",
      "5/5 [==============================] - ETA: 0s - loss: 0.2081 - accuracy: 0.9052"
     ]
    },
    {
     "name": "stderr",
     "output_type": "stream",
     "text": [
      "WARNING:absl:Found untraced functions such as _jit_compiled_convolution_op, _jit_compiled_convolution_op while saving (showing 2 of 2). These functions will not be directly callable after loading.\n"
     ]
    },
    {
     "name": "stdout",
     "output_type": "stream",
     "text": [
      "INFO:tensorflow:Assets written to: 5-conv-32-layer-0-dense.model_00h/assets\n"
     ]
    },
    {
     "name": "stderr",
     "output_type": "stream",
     "text": [
      "INFO:tensorflow:Assets written to: 5-conv-32-layer-0-dense.model_00h/assets\n"
     ]
    },
    {
     "name": "stdout",
     "output_type": "stream",
     "text": [
      "5/5 [==============================] - 2s 403ms/step - loss: 0.2081 - accuracy: 0.9052 - val_loss: 0.1852 - val_accuracy: 0.9296\n",
      "Epoch 5/30\n",
      "5/5 [==============================] - 0s 75ms/step - loss: 0.1784 - accuracy: 0.9226 - val_loss: 0.3074 - val_accuracy: 0.8873\n",
      "Epoch 6/30\n",
      "5/5 [==============================] - ETA: 0s - loss: 0.1551 - accuracy: 0.9305"
     ]
    },
    {
     "name": "stderr",
     "output_type": "stream",
     "text": [
      "WARNING:absl:Found untraced functions such as _jit_compiled_convolution_op, _jit_compiled_convolution_op while saving (showing 2 of 2). These functions will not be directly callable after loading.\n"
     ]
    },
    {
     "name": "stdout",
     "output_type": "stream",
     "text": [
      "INFO:tensorflow:Assets written to: 5-conv-32-layer-0-dense.model_00h/assets\n"
     ]
    },
    {
     "name": "stderr",
     "output_type": "stream",
     "text": [
      "INFO:tensorflow:Assets written to: 5-conv-32-layer-0-dense.model_00h/assets\n"
     ]
    },
    {
     "name": "stdout",
     "output_type": "stream",
     "text": [
      "5/5 [==============================] - 2s 500ms/step - loss: 0.1551 - accuracy: 0.9305 - val_loss: 0.1526 - val_accuracy: 0.9296\n",
      "Epoch 7/30\n",
      "5/5 [==============================] - 0s 74ms/step - loss: 0.1442 - accuracy: 0.9400 - val_loss: 0.1923 - val_accuracy: 0.9296\n",
      "Epoch 8/30\n",
      "5/5 [==============================] - ETA: 0s - loss: 0.1378 - accuracy: 0.9431"
     ]
    },
    {
     "name": "stderr",
     "output_type": "stream",
     "text": [
      "WARNING:absl:Found untraced functions such as _jit_compiled_convolution_op, _jit_compiled_convolution_op while saving (showing 2 of 2). These functions will not be directly callable after loading.\n"
     ]
    },
    {
     "name": "stdout",
     "output_type": "stream",
     "text": [
      "INFO:tensorflow:Assets written to: 5-conv-32-layer-0-dense.model_00h/assets\n"
     ]
    },
    {
     "name": "stderr",
     "output_type": "stream",
     "text": [
      "INFO:tensorflow:Assets written to: 5-conv-32-layer-0-dense.model_00h/assets\n"
     ]
    },
    {
     "name": "stdout",
     "output_type": "stream",
     "text": [
      "5/5 [==============================] - 2s 417ms/step - loss: 0.1378 - accuracy: 0.9431 - val_loss: 0.1415 - val_accuracy: 0.9296\n",
      "Epoch 9/30\n",
      "5/5 [==============================] - 0s 72ms/step - loss: 0.1241 - accuracy: 0.9558 - val_loss: 0.1593 - val_accuracy: 0.9437\n",
      "Epoch 10/30\n",
      "5/5 [==============================] - 0s 72ms/step - loss: 0.1134 - accuracy: 0.9494 - val_loss: 0.1431 - val_accuracy: 0.9296\n",
      "Epoch 11/30\n",
      "5/5 [==============================] - 0s 74ms/step - loss: 0.1025 - accuracy: 0.9573 - val_loss: 0.1437 - val_accuracy: 0.9437\n",
      "Epoch 12/30\n",
      "5/5 [==============================] - 0s 74ms/step - loss: 0.0963 - accuracy: 0.9605 - val_loss: 0.1470 - val_accuracy: 0.9437\n",
      "Epoch 13/30\n",
      "5/5 [==============================] - ETA: 0s - loss: 0.1034 - accuracy: 0.9605"
     ]
    },
    {
     "name": "stderr",
     "output_type": "stream",
     "text": [
      "WARNING:absl:Found untraced functions such as _jit_compiled_convolution_op, _jit_compiled_convolution_op while saving (showing 2 of 2). These functions will not be directly callable after loading.\n"
     ]
    },
    {
     "name": "stdout",
     "output_type": "stream",
     "text": [
      "INFO:tensorflow:Assets written to: 5-conv-32-layer-0-dense.model_00h/assets\n"
     ]
    },
    {
     "name": "stderr",
     "output_type": "stream",
     "text": [
      "INFO:tensorflow:Assets written to: 5-conv-32-layer-0-dense.model_00h/assets\n"
     ]
    },
    {
     "name": "stdout",
     "output_type": "stream",
     "text": [
      "5/5 [==============================] - 2s 408ms/step - loss: 0.1034 - accuracy: 0.9605 - val_loss: 0.1241 - val_accuracy: 0.9437\n",
      "Epoch 14/30\n",
      "5/5 [==============================] - 0s 73ms/step - loss: 0.0773 - accuracy: 0.9684 - val_loss: 0.1395 - val_accuracy: 0.9437\n",
      "Epoch 15/30\n",
      "5/5 [==============================] - 0s 73ms/step - loss: 0.0800 - accuracy: 0.9684 - val_loss: 0.1457 - val_accuracy: 0.9437\n",
      "Epoch 16/30\n",
      "5/5 [==============================] - ETA: 0s - loss: 0.0711 - accuracy: 0.9684"
     ]
    },
    {
     "name": "stderr",
     "output_type": "stream",
     "text": [
      "WARNING:absl:Found untraced functions such as _jit_compiled_convolution_op, _jit_compiled_convolution_op while saving (showing 2 of 2). These functions will not be directly callable after loading.\n"
     ]
    },
    {
     "name": "stdout",
     "output_type": "stream",
     "text": [
      "INFO:tensorflow:Assets written to: 5-conv-32-layer-0-dense.model_00h/assets\n"
     ]
    },
    {
     "name": "stderr",
     "output_type": "stream",
     "text": [
      "INFO:tensorflow:Assets written to: 5-conv-32-layer-0-dense.model_00h/assets\n"
     ]
    },
    {
     "name": "stdout",
     "output_type": "stream",
     "text": [
      "5/5 [==============================] - 2s 551ms/step - loss: 0.0711 - accuracy: 0.9684 - val_loss: 0.1165 - val_accuracy: 0.9437\n",
      "Epoch 17/30\n",
      "5/5 [==============================] - 0s 73ms/step - loss: 0.0824 - accuracy: 0.9716 - val_loss: 0.1320 - val_accuracy: 0.9577\n",
      "Epoch 18/30\n",
      "5/5 [==============================] - 0s 74ms/step - loss: 0.0762 - accuracy: 0.9668 - val_loss: 0.1380 - val_accuracy: 0.9577\n",
      "Epoch 19/30\n",
      "5/5 [==============================] - ETA: 0s - loss: 0.0604 - accuracy: 0.9763"
     ]
    },
    {
     "name": "stderr",
     "output_type": "stream",
     "text": [
      "WARNING:absl:Found untraced functions such as _jit_compiled_convolution_op, _jit_compiled_convolution_op while saving (showing 2 of 2). These functions will not be directly callable after loading.\n"
     ]
    },
    {
     "name": "stdout",
     "output_type": "stream",
     "text": [
      "INFO:tensorflow:Assets written to: 5-conv-32-layer-0-dense.model_00h/assets\n"
     ]
    },
    {
     "name": "stderr",
     "output_type": "stream",
     "text": [
      "INFO:tensorflow:Assets written to: 5-conv-32-layer-0-dense.model_00h/assets\n"
     ]
    },
    {
     "name": "stdout",
     "output_type": "stream",
     "text": [
      "5/5 [==============================] - 2s 408ms/step - loss: 0.0604 - accuracy: 0.9763 - val_loss: 0.1062 - val_accuracy: 0.9437\n",
      "Epoch 20/30\n",
      "5/5 [==============================] - 0s 74ms/step - loss: 0.0699 - accuracy: 0.9684 - val_loss: 0.1580 - val_accuracy: 0.9577\n",
      "Epoch 21/30\n",
      "5/5 [==============================] - 0s 74ms/step - loss: 0.0693 - accuracy: 0.9763 - val_loss: 0.1069 - val_accuracy: 0.9296\n",
      "Epoch 22/30\n",
      "5/5 [==============================] - 0s 71ms/step - loss: 0.0582 - accuracy: 0.9795 - val_loss: 0.1355 - val_accuracy: 0.9577\n",
      "Epoch 23/30\n",
      "5/5 [==============================] - 0s 75ms/step - loss: 0.0488 - accuracy: 0.9826 - val_loss: 0.1068 - val_accuracy: 0.9577\n",
      "Epoch 24/30\n",
      "5/5 [==============================] - 0s 72ms/step - loss: 0.0468 - accuracy: 0.9826 - val_loss: 0.1315 - val_accuracy: 0.9577\n",
      "Epoch 25/30\n",
      "5/5 [==============================] - 0s 72ms/step - loss: 0.0502 - accuracy: 0.9810 - val_loss: 0.1159 - val_accuracy: 0.9577\n",
      "Epoch 26/30\n",
      "5/5 [==============================] - 0s 72ms/step - loss: 0.0456 - accuracy: 0.9842 - val_loss: 0.1296 - val_accuracy: 0.9577\n",
      "Epoch 27/30\n",
      "5/5 [==============================] - 0s 74ms/step - loss: 0.0483 - accuracy: 0.9842 - val_loss: 0.1370 - val_accuracy: 0.9577\n",
      "Epoch 28/30\n",
      "5/5 [==============================] - ETA: 0s - loss: 0.0347 - accuracy: 0.9921"
     ]
    },
    {
     "name": "stderr",
     "output_type": "stream",
     "text": [
      "WARNING:absl:Found untraced functions such as _jit_compiled_convolution_op, _jit_compiled_convolution_op while saving (showing 2 of 2). These functions will not be directly callable after loading.\n"
     ]
    },
    {
     "name": "stdout",
     "output_type": "stream",
     "text": [
      "INFO:tensorflow:Assets written to: 5-conv-32-layer-0-dense.model_00h/assets\n"
     ]
    },
    {
     "name": "stderr",
     "output_type": "stream",
     "text": [
      "INFO:tensorflow:Assets written to: 5-conv-32-layer-0-dense.model_00h/assets\n"
     ]
    },
    {
     "name": "stdout",
     "output_type": "stream",
     "text": [
      "5/5 [==============================] - 2s 402ms/step - loss: 0.0347 - accuracy: 0.9921 - val_loss: 0.1032 - val_accuracy: 0.9577\n",
      "Epoch 29/30\n",
      "5/5 [==============================] - 0s 73ms/step - loss: 0.0433 - accuracy: 0.9842 - val_loss: 0.1200 - val_accuracy: 0.9577\n",
      "Epoch 30/30\n",
      "5/5 [==============================] - ETA: 0s - loss: 0.0472 - accuracy: 0.9842"
     ]
    },
    {
     "name": "stderr",
     "output_type": "stream",
     "text": [
      "WARNING:absl:Found untraced functions such as _jit_compiled_convolution_op, _jit_compiled_convolution_op while saving (showing 2 of 2). These functions will not be directly callable after loading.\n"
     ]
    },
    {
     "name": "stdout",
     "output_type": "stream",
     "text": [
      "INFO:tensorflow:Assets written to: 5-conv-32-layer-0-dense.model_00h/assets\n"
     ]
    },
    {
     "name": "stderr",
     "output_type": "stream",
     "text": [
      "INFO:tensorflow:Assets written to: 5-conv-32-layer-0-dense.model_00h/assets\n"
     ]
    },
    {
     "name": "stdout",
     "output_type": "stream",
     "text": [
      "5/5 [==============================] - 2s 497ms/step - loss: 0.0472 - accuracy: 0.9842 - val_loss: 0.0937 - val_accuracy: 0.9577\n",
      "--> Running configuration:  3-conv-32-layer-1-dense.model_00h\n",
      "Model: \"my_functional_model\"\n",
      "_________________________________________________________________\n",
      " Layer (type)                Output Shape              Param #   \n",
      "=================================================================\n",
      " input_3 (InputLayer)        [(None, 30, 30, 12)]      0         \n",
      "                                                                 \n",
      " sequential (Sequential)     (None, 30, 30, 12)        0         \n",
      "                                                                 \n",
      " my_conv2d_1 (Conv2D)        (None, 28, 28, 32)        3488      \n",
      "                                                                 \n",
      " my_pooling_1 (MaxPooling2D)  (None, 14, 14, 32)       0         \n",
      "                                                                 \n",
      " my_conv2d_2 (Conv2D)        (None, 12, 12, 64)        18496     \n",
      "                                                                 \n",
      " my_pooling_2 (MaxPooling2D)  (None, 6, 6, 64)         0         \n",
      "                                                                 \n",
      " my_conv2d_3 (Conv2D)        (None, 4, 4, 128)         73856     \n",
      "                                                                 \n",
      " my_pooling_3 (MaxPooling2D)  (None, 2, 2, 128)        0         \n",
      "                                                                 \n",
      " my_flatten (Flatten)        (None, 512)               0         \n",
      "                                                                 \n",
      " dropout_2 (Dropout)         (None, 512)               0         \n",
      "                                                                 \n",
      " dense (Dense)               (None, 32)                16416     \n",
      "                                                                 \n",
      " my_dense (Dense)            (None, 1)                 33        \n",
      "                                                                 \n",
      "=================================================================\n",
      "Total params: 112,289\n",
      "Trainable params: 112,289\n",
      "Non-trainable params: 0\n",
      "_________________________________________________________________\n",
      "Epoch 1/30\n",
      "5/5 [==============================] - ETA: 0s - loss: 0.6591 - accuracy: 0.5671"
     ]
    },
    {
     "name": "stderr",
     "output_type": "stream",
     "text": [
      "WARNING:absl:Found untraced functions such as _jit_compiled_convolution_op, _jit_compiled_convolution_op, _jit_compiled_convolution_op while saving (showing 3 of 3). These functions will not be directly callable after loading.\n"
     ]
    },
    {
     "name": "stdout",
     "output_type": "stream",
     "text": [
      "INFO:tensorflow:Assets written to: 3-conv-32-layer-1-dense.model_00h/assets\n"
     ]
    },
    {
     "name": "stderr",
     "output_type": "stream",
     "text": [
      "INFO:tensorflow:Assets written to: 3-conv-32-layer-1-dense.model_00h/assets\n"
     ]
    },
    {
     "name": "stdout",
     "output_type": "stream",
     "text": [
      "5/5 [==============================] - 3s 476ms/step - loss: 0.6591 - accuracy: 0.5671 - val_loss: 0.5608 - val_accuracy: 0.8873\n",
      "Epoch 2/30\n",
      "5/5 [==============================] - ETA: 0s - loss: 0.5180 - accuracy: 0.8120"
     ]
    },
    {
     "name": "stderr",
     "output_type": "stream",
     "text": [
      "WARNING:absl:Found untraced functions such as _jit_compiled_convolution_op, _jit_compiled_convolution_op, _jit_compiled_convolution_op while saving (showing 3 of 3). These functions will not be directly callable after loading.\n"
     ]
    },
    {
     "name": "stdout",
     "output_type": "stream",
     "text": [
      "INFO:tensorflow:Assets written to: 3-conv-32-layer-1-dense.model_00h/assets\n"
     ]
    },
    {
     "name": "stderr",
     "output_type": "stream",
     "text": [
      "INFO:tensorflow:Assets written to: 3-conv-32-layer-1-dense.model_00h/assets\n"
     ]
    },
    {
     "name": "stdout",
     "output_type": "stream",
     "text": [
      "5/5 [==============================] - 2s 537ms/step - loss: 0.5180 - accuracy: 0.8120 - val_loss: 0.4160 - val_accuracy: 0.8592\n",
      "Epoch 3/30\n",
      "5/5 [==============================] - ETA: 0s - loss: 0.3870 - accuracy: 0.8452"
     ]
    },
    {
     "name": "stderr",
     "output_type": "stream",
     "text": [
      "WARNING:absl:Found untraced functions such as _jit_compiled_convolution_op, _jit_compiled_convolution_op, _jit_compiled_convolution_op while saving (showing 3 of 3). These functions will not be directly callable after loading.\n"
     ]
    },
    {
     "name": "stdout",
     "output_type": "stream",
     "text": [
      "INFO:tensorflow:Assets written to: 3-conv-32-layer-1-dense.model_00h/assets\n"
     ]
    },
    {
     "name": "stderr",
     "output_type": "stream",
     "text": [
      "INFO:tensorflow:Assets written to: 3-conv-32-layer-1-dense.model_00h/assets\n"
     ]
    },
    {
     "name": "stdout",
     "output_type": "stream",
     "text": [
      "5/5 [==============================] - 2s 453ms/step - loss: 0.3870 - accuracy: 0.8452 - val_loss: 0.2366 - val_accuracy: 0.9155\n",
      "Epoch 4/30\n",
      "5/5 [==============================] - 0s 73ms/step - loss: 0.3022 - accuracy: 0.8736 - val_loss: 0.2954 - val_accuracy: 0.8732\n",
      "Epoch 5/30\n",
      "5/5 [==============================] - ETA: 0s - loss: 0.2438 - accuracy: 0.9036"
     ]
    },
    {
     "name": "stderr",
     "output_type": "stream",
     "text": [
      "WARNING:absl:Found untraced functions such as _jit_compiled_convolution_op, _jit_compiled_convolution_op, _jit_compiled_convolution_op while saving (showing 3 of 3). These functions will not be directly callable after loading.\n"
     ]
    },
    {
     "name": "stdout",
     "output_type": "stream",
     "text": [
      "INFO:tensorflow:Assets written to: 3-conv-32-layer-1-dense.model_00h/assets\n"
     ]
    },
    {
     "name": "stderr",
     "output_type": "stream",
     "text": [
      "INFO:tensorflow:Assets written to: 3-conv-32-layer-1-dense.model_00h/assets\n"
     ]
    },
    {
     "name": "stdout",
     "output_type": "stream",
     "text": [
      "5/5 [==============================] - 2s 453ms/step - loss: 0.2438 - accuracy: 0.9036 - val_loss: 0.1944 - val_accuracy: 0.9014\n",
      "Epoch 6/30\n",
      "5/5 [==============================] - 0s 73ms/step - loss: 0.2271 - accuracy: 0.9100 - val_loss: 0.2140 - val_accuracy: 0.9155\n",
      "Epoch 7/30\n",
      "5/5 [==============================] - ETA: 0s - loss: 0.1848 - accuracy: 0.9226"
     ]
    },
    {
     "name": "stderr",
     "output_type": "stream",
     "text": [
      "WARNING:absl:Found untraced functions such as _jit_compiled_convolution_op, _jit_compiled_convolution_op, _jit_compiled_convolution_op while saving (showing 3 of 3). These functions will not be directly callable after loading.\n"
     ]
    },
    {
     "name": "stdout",
     "output_type": "stream",
     "text": [
      "INFO:tensorflow:Assets written to: 3-conv-32-layer-1-dense.model_00h/assets\n"
     ]
    },
    {
     "name": "stderr",
     "output_type": "stream",
     "text": [
      "INFO:tensorflow:Assets written to: 3-conv-32-layer-1-dense.model_00h/assets\n"
     ]
    },
    {
     "name": "stdout",
     "output_type": "stream",
     "text": [
      "5/5 [==============================] - 2s 534ms/step - loss: 0.1848 - accuracy: 0.9226 - val_loss: 0.1809 - val_accuracy: 0.9296\n",
      "Epoch 8/30\n",
      "5/5 [==============================] - ETA: 0s - loss: 0.1686 - accuracy: 0.9352"
     ]
    },
    {
     "name": "stderr",
     "output_type": "stream",
     "text": [
      "WARNING:absl:Found untraced functions such as _jit_compiled_convolution_op, _jit_compiled_convolution_op, _jit_compiled_convolution_op while saving (showing 3 of 3). These functions will not be directly callable after loading.\n"
     ]
    },
    {
     "name": "stdout",
     "output_type": "stream",
     "text": [
      "INFO:tensorflow:Assets written to: 3-conv-32-layer-1-dense.model_00h/assets\n"
     ]
    },
    {
     "name": "stderr",
     "output_type": "stream",
     "text": [
      "INFO:tensorflow:Assets written to: 3-conv-32-layer-1-dense.model_00h/assets\n"
     ]
    },
    {
     "name": "stdout",
     "output_type": "stream",
     "text": [
      "5/5 [==============================] - 2s 453ms/step - loss: 0.1686 - accuracy: 0.9352 - val_loss: 0.1661 - val_accuracy: 0.9296\n",
      "Epoch 9/30\n",
      "5/5 [==============================] - ETA: 0s - loss: 0.1457 - accuracy: 0.9479"
     ]
    },
    {
     "name": "stderr",
     "output_type": "stream",
     "text": [
      "WARNING:absl:Found untraced functions such as _jit_compiled_convolution_op, _jit_compiled_convolution_op, _jit_compiled_convolution_op while saving (showing 3 of 3). These functions will not be directly callable after loading.\n"
     ]
    },
    {
     "name": "stdout",
     "output_type": "stream",
     "text": [
      "INFO:tensorflow:Assets written to: 3-conv-32-layer-1-dense.model_00h/assets\n"
     ]
    },
    {
     "name": "stderr",
     "output_type": "stream",
     "text": [
      "INFO:tensorflow:Assets written to: 3-conv-32-layer-1-dense.model_00h/assets\n"
     ]
    },
    {
     "name": "stdout",
     "output_type": "stream",
     "text": [
      "5/5 [==============================] - 2s 453ms/step - loss: 0.1457 - accuracy: 0.9479 - val_loss: 0.1545 - val_accuracy: 0.9155\n",
      "Epoch 10/30\n",
      "5/5 [==============================] - 0s 76ms/step - loss: 0.1463 - accuracy: 0.9368 - val_loss: 0.1726 - val_accuracy: 0.9296\n",
      "Epoch 11/30\n",
      "5/5 [==============================] - ETA: 0s - loss: 0.1180 - accuracy: 0.9510"
     ]
    },
    {
     "name": "stderr",
     "output_type": "stream",
     "text": [
      "WARNING:absl:Found untraced functions such as _jit_compiled_convolution_op, _jit_compiled_convolution_op, _jit_compiled_convolution_op while saving (showing 3 of 3). These functions will not be directly callable after loading.\n"
     ]
    },
    {
     "name": "stdout",
     "output_type": "stream",
     "text": [
      "INFO:tensorflow:Assets written to: 3-conv-32-layer-1-dense.model_00h/assets\n"
     ]
    },
    {
     "name": "stderr",
     "output_type": "stream",
     "text": [
      "INFO:tensorflow:Assets written to: 3-conv-32-layer-1-dense.model_00h/assets\n"
     ]
    },
    {
     "name": "stdout",
     "output_type": "stream",
     "text": [
      "5/5 [==============================] - 2s 539ms/step - loss: 0.1180 - accuracy: 0.9510 - val_loss: 0.1179 - val_accuracy: 0.9296\n",
      "Epoch 12/30\n",
      "5/5 [==============================] - 0s 76ms/step - loss: 0.1117 - accuracy: 0.9526 - val_loss: 0.1295 - val_accuracy: 0.9437\n",
      "Epoch 13/30\n",
      "5/5 [==============================] - 0s 73ms/step - loss: 0.1033 - accuracy: 0.9637 - val_loss: 0.1201 - val_accuracy: 0.9437\n",
      "Epoch 14/30\n",
      "5/5 [==============================] - ETA: 0s - loss: 0.0847 - accuracy: 0.9652"
     ]
    },
    {
     "name": "stderr",
     "output_type": "stream",
     "text": [
      "WARNING:absl:Found untraced functions such as _jit_compiled_convolution_op, _jit_compiled_convolution_op, _jit_compiled_convolution_op while saving (showing 3 of 3). These functions will not be directly callable after loading.\n"
     ]
    },
    {
     "name": "stdout",
     "output_type": "stream",
     "text": [
      "INFO:tensorflow:Assets written to: 3-conv-32-layer-1-dense.model_00h/assets\n"
     ]
    },
    {
     "name": "stderr",
     "output_type": "stream",
     "text": [
      "INFO:tensorflow:Assets written to: 3-conv-32-layer-1-dense.model_00h/assets\n"
     ]
    },
    {
     "name": "stdout",
     "output_type": "stream",
     "text": [
      "5/5 [==============================] - 2s 451ms/step - loss: 0.0847 - accuracy: 0.9652 - val_loss: 0.0957 - val_accuracy: 0.9437\n",
      "Epoch 15/30\n",
      "5/5 [==============================] - 0s 75ms/step - loss: 0.0885 - accuracy: 0.9668 - val_loss: 0.1096 - val_accuracy: 0.9437\n",
      "Epoch 16/30\n",
      "5/5 [==============================] - 0s 73ms/step - loss: 0.0713 - accuracy: 0.9700 - val_loss: 0.1145 - val_accuracy: 0.9437\n",
      "Epoch 17/30\n",
      "5/5 [==============================] - 0s 73ms/step - loss: 0.0691 - accuracy: 0.9731 - val_loss: 0.1686 - val_accuracy: 0.9437\n",
      "Epoch 18/30\n",
      "5/5 [==============================] - 0s 77ms/step - loss: 0.0710 - accuracy: 0.9684 - val_loss: 0.1232 - val_accuracy: 0.9577\n",
      "Epoch 19/30\n",
      "5/5 [==============================] - 0s 73ms/step - loss: 0.0570 - accuracy: 0.9810 - val_loss: 0.1171 - val_accuracy: 0.9577\n",
      "Epoch 20/30\n",
      "5/5 [==============================] - 0s 73ms/step - loss: 0.0552 - accuracy: 0.9763 - val_loss: 0.0981 - val_accuracy: 0.9577\n",
      "Epoch 21/30\n",
      "5/5 [==============================] - 0s 74ms/step - loss: 0.0563 - accuracy: 0.9779 - val_loss: 0.1534 - val_accuracy: 0.9437\n",
      "Epoch 22/30\n",
      "5/5 [==============================] - 0s 73ms/step - loss: 0.0425 - accuracy: 0.9842 - val_loss: 0.1779 - val_accuracy: 0.9437\n",
      "Epoch 23/30\n",
      "5/5 [==============================] - 0s 74ms/step - loss: 0.0411 - accuracy: 0.9858 - val_loss: 0.1639 - val_accuracy: 0.9437\n",
      "Epoch 24/30\n",
      "5/5 [==============================] - 0s 75ms/step - loss: 0.0492 - accuracy: 0.9826 - val_loss: 0.1026 - val_accuracy: 0.9437\n",
      "Epoch 25/30\n",
      "5/5 [==============================] - 0s 75ms/step - loss: 0.0383 - accuracy: 0.9858 - val_loss: 0.1061 - val_accuracy: 0.9577\n",
      "Epoch 26/30\n",
      "5/5 [==============================] - 0s 75ms/step - loss: 0.0457 - accuracy: 0.9874 - val_loss: 0.0994 - val_accuracy: 0.9437\n",
      "Epoch 27/30\n",
      "5/5 [==============================] - 0s 74ms/step - loss: 0.0385 - accuracy: 0.9874 - val_loss: 0.1193 - val_accuracy: 0.9437\n",
      "Epoch 28/30\n",
      "5/5 [==============================] - 0s 73ms/step - loss: 0.0363 - accuracy: 0.9905 - val_loss: 0.1296 - val_accuracy: 0.9577\n",
      "Epoch 29/30\n",
      "5/5 [==============================] - 0s 75ms/step - loss: 0.0262 - accuracy: 0.9889 - val_loss: 0.1604 - val_accuracy: 0.9577\n",
      "Epoch 30/30\n",
      "5/5 [==============================] - 0s 76ms/step - loss: 0.0295 - accuracy: 0.9889 - val_loss: 0.1138 - val_accuracy: 0.9437\n",
      "--> Running configuration:  5-conv-32-layer-1-dense.model_00h\n",
      "Model: \"my_functional_model\"\n",
      "_________________________________________________________________\n",
      " Layer (type)                Output Shape              Param #   \n",
      "=================================================================\n",
      " input_4 (InputLayer)        [(None, 30, 30, 12)]      0         \n",
      "                                                                 \n",
      " sequential (Sequential)     (None, 30, 30, 12)        0         \n",
      "                                                                 \n",
      " my_conv2d_1 (Conv2D)        (None, 26, 26, 32)        9632      \n",
      "                                                                 \n",
      " my_pooling_1 (MaxPooling2D)  (None, 13, 13, 32)       0         \n",
      "                                                                 \n",
      " my_conv2d_2 (Conv2D)        (None, 9, 9, 64)          51264     \n",
      "                                                                 \n",
      " my_pooling_2 (MaxPooling2D)  (None, 4, 4, 64)         0         \n",
      "                                                                 \n",
      " my_flatten (Flatten)        (None, 1024)              0         \n",
      "                                                                 \n",
      " dropout_3 (Dropout)         (None, 1024)              0         \n",
      "                                                                 \n",
      " dense_1 (Dense)             (None, 32)                32800     \n",
      "                                                                 \n",
      " my_dense (Dense)            (None, 1)                 33        \n",
      "                                                                 \n",
      "=================================================================\n",
      "Total params: 93,729\n",
      "Trainable params: 93,729\n",
      "Non-trainable params: 0\n",
      "_________________________________________________________________\n",
      "Epoch 1/30\n",
      "5/5 [==============================] - ETA: 0s - loss: 0.6184 - accuracy: 0.6746"
     ]
    },
    {
     "name": "stderr",
     "output_type": "stream",
     "text": [
      "WARNING:absl:Found untraced functions such as _jit_compiled_convolution_op, _jit_compiled_convolution_op while saving (showing 2 of 2). These functions will not be directly callable after loading.\n"
     ]
    },
    {
     "name": "stdout",
     "output_type": "stream",
     "text": [
      "INFO:tensorflow:Assets written to: 5-conv-32-layer-1-dense.model_00h/assets\n"
     ]
    },
    {
     "name": "stderr",
     "output_type": "stream",
     "text": [
      "INFO:tensorflow:Assets written to: 5-conv-32-layer-1-dense.model_00h/assets\n"
     ]
    },
    {
     "name": "stdout",
     "output_type": "stream",
     "text": [
      "5/5 [==============================] - 3s 533ms/step - loss: 0.6184 - accuracy: 0.6746 - val_loss: 0.4309 - val_accuracy: 0.8592\n",
      "Epoch 2/30\n",
      "5/5 [==============================] - ETA: 0s - loss: 0.3207 - accuracy: 0.8910"
     ]
    },
    {
     "name": "stderr",
     "output_type": "stream",
     "text": [
      "WARNING:absl:Found untraced functions such as _jit_compiled_convolution_op, _jit_compiled_convolution_op while saving (showing 2 of 2). These functions will not be directly callable after loading.\n"
     ]
    },
    {
     "name": "stdout",
     "output_type": "stream",
     "text": [
      "INFO:tensorflow:Assets written to: 5-conv-32-layer-1-dense.model_00h/assets\n"
     ]
    },
    {
     "name": "stderr",
     "output_type": "stream",
     "text": [
      "INFO:tensorflow:Assets written to: 5-conv-32-layer-1-dense.model_00h/assets\n"
     ]
    },
    {
     "name": "stdout",
     "output_type": "stream",
     "text": [
      "5/5 [==============================] - 2s 441ms/step - loss: 0.3207 - accuracy: 0.8910 - val_loss: 0.2215 - val_accuracy: 0.9155\n",
      "Epoch 3/30\n",
      "5/5 [==============================] - ETA: 0s - loss: 0.2231 - accuracy: 0.9115"
     ]
    },
    {
     "name": "stderr",
     "output_type": "stream",
     "text": [
      "WARNING:absl:Found untraced functions such as _jit_compiled_convolution_op, _jit_compiled_convolution_op while saving (showing 2 of 2). These functions will not be directly callable after loading.\n"
     ]
    },
    {
     "name": "stdout",
     "output_type": "stream",
     "text": [
      "INFO:tensorflow:Assets written to: 5-conv-32-layer-1-dense.model_00h/assets\n"
     ]
    },
    {
     "name": "stderr",
     "output_type": "stream",
     "text": [
      "INFO:tensorflow:Assets written to: 5-conv-32-layer-1-dense.model_00h/assets\n"
     ]
    },
    {
     "name": "stdout",
     "output_type": "stream",
     "text": [
      "5/5 [==============================] - 2s 502ms/step - loss: 0.2231 - accuracy: 0.9115 - val_loss: 0.2070 - val_accuracy: 0.9296\n",
      "Epoch 4/30\n",
      "5/5 [==============================] - ETA: 0s - loss: 0.2022 - accuracy: 0.9179"
     ]
    },
    {
     "name": "stderr",
     "output_type": "stream",
     "text": [
      "WARNING:absl:Found untraced functions such as _jit_compiled_convolution_op, _jit_compiled_convolution_op while saving (showing 2 of 2). These functions will not be directly callable after loading.\n"
     ]
    },
    {
     "name": "stdout",
     "output_type": "stream",
     "text": [
      "INFO:tensorflow:Assets written to: 5-conv-32-layer-1-dense.model_00h/assets\n"
     ]
    },
    {
     "name": "stderr",
     "output_type": "stream",
     "text": [
      "INFO:tensorflow:Assets written to: 5-conv-32-layer-1-dense.model_00h/assets\n"
     ]
    },
    {
     "name": "stdout",
     "output_type": "stream",
     "text": [
      "5/5 [==============================] - 2s 439ms/step - loss: 0.2022 - accuracy: 0.9179 - val_loss: 0.2014 - val_accuracy: 0.9014\n",
      "Epoch 5/30\n",
      "5/5 [==============================] - ETA: 0s - loss: 0.1734 - accuracy: 0.9336"
     ]
    },
    {
     "name": "stderr",
     "output_type": "stream",
     "text": [
      "WARNING:absl:Found untraced functions such as _jit_compiled_convolution_op, _jit_compiled_convolution_op while saving (showing 2 of 2). These functions will not be directly callable after loading.\n"
     ]
    },
    {
     "name": "stdout",
     "output_type": "stream",
     "text": [
      "INFO:tensorflow:Assets written to: 5-conv-32-layer-1-dense.model_00h/assets\n"
     ]
    },
    {
     "name": "stderr",
     "output_type": "stream",
     "text": [
      "INFO:tensorflow:Assets written to: 5-conv-32-layer-1-dense.model_00h/assets\n"
     ]
    },
    {
     "name": "stdout",
     "output_type": "stream",
     "text": [
      "5/5 [==============================] - 2s 425ms/step - loss: 0.1734 - accuracy: 0.9336 - val_loss: 0.1531 - val_accuracy: 0.9296\n",
      "Epoch 6/30\n",
      "5/5 [==============================] - ETA: 0s - loss: 0.1453 - accuracy: 0.9336"
     ]
    },
    {
     "name": "stderr",
     "output_type": "stream",
     "text": [
      "WARNING:absl:Found untraced functions such as _jit_compiled_convolution_op, _jit_compiled_convolution_op while saving (showing 2 of 2). These functions will not be directly callable after loading.\n"
     ]
    },
    {
     "name": "stdout",
     "output_type": "stream",
     "text": [
      "INFO:tensorflow:Assets written to: 5-conv-32-layer-1-dense.model_00h/assets\n"
     ]
    },
    {
     "name": "stderr",
     "output_type": "stream",
     "text": [
      "INFO:tensorflow:Assets written to: 5-conv-32-layer-1-dense.model_00h/assets\n"
     ]
    },
    {
     "name": "stdout",
     "output_type": "stream",
     "text": [
      "5/5 [==============================] - 2s 512ms/step - loss: 0.1453 - accuracy: 0.9336 - val_loss: 0.1440 - val_accuracy: 0.9296\n",
      "Epoch 7/30\n",
      "5/5 [==============================] - 0s 74ms/step - loss: 0.1300 - accuracy: 0.9558 - val_loss: 0.1533 - val_accuracy: 0.9296\n",
      "Epoch 8/30\n",
      "5/5 [==============================] - ETA: 0s - loss: 0.1228 - accuracy: 0.9510"
     ]
    },
    {
     "name": "stderr",
     "output_type": "stream",
     "text": [
      "WARNING:absl:Found untraced functions such as _jit_compiled_convolution_op, _jit_compiled_convolution_op while saving (showing 2 of 2). These functions will not be directly callable after loading.\n"
     ]
    },
    {
     "name": "stdout",
     "output_type": "stream",
     "text": [
      "INFO:tensorflow:Assets written to: 5-conv-32-layer-1-dense.model_00h/assets\n"
     ]
    },
    {
     "name": "stderr",
     "output_type": "stream",
     "text": [
      "INFO:tensorflow:Assets written to: 5-conv-32-layer-1-dense.model_00h/assets\n"
     ]
    },
    {
     "name": "stdout",
     "output_type": "stream",
     "text": [
      "5/5 [==============================] - 2s 434ms/step - loss: 0.1228 - accuracy: 0.9510 - val_loss: 0.1360 - val_accuracy: 0.9437\n",
      "Epoch 9/30\n",
      "5/5 [==============================] - ETA: 0s - loss: 0.1093 - accuracy: 0.9479"
     ]
    },
    {
     "name": "stderr",
     "output_type": "stream",
     "text": [
      "WARNING:absl:Found untraced functions such as _jit_compiled_convolution_op, _jit_compiled_convolution_op while saving (showing 2 of 2). These functions will not be directly callable after loading.\n"
     ]
    },
    {
     "name": "stdout",
     "output_type": "stream",
     "text": [
      "INFO:tensorflow:Assets written to: 5-conv-32-layer-1-dense.model_00h/assets\n"
     ]
    },
    {
     "name": "stderr",
     "output_type": "stream",
     "text": [
      "INFO:tensorflow:Assets written to: 5-conv-32-layer-1-dense.model_00h/assets\n"
     ]
    },
    {
     "name": "stdout",
     "output_type": "stream",
     "text": [
      "5/5 [==============================] - 2s 415ms/step - loss: 0.1093 - accuracy: 0.9479 - val_loss: 0.1199 - val_accuracy: 0.9155\n",
      "Epoch 10/30\n",
      "5/5 [==============================] - ETA: 0s - loss: 0.0922 - accuracy: 0.9652"
     ]
    },
    {
     "name": "stderr",
     "output_type": "stream",
     "text": [
      "WARNING:absl:Found untraced functions such as _jit_compiled_convolution_op, _jit_compiled_convolution_op while saving (showing 2 of 2). These functions will not be directly callable after loading.\n"
     ]
    },
    {
     "name": "stdout",
     "output_type": "stream",
     "text": [
      "INFO:tensorflow:Assets written to: 5-conv-32-layer-1-dense.model_00h/assets\n"
     ]
    },
    {
     "name": "stderr",
     "output_type": "stream",
     "text": [
      "INFO:tensorflow:Assets written to: 5-conv-32-layer-1-dense.model_00h/assets\n"
     ]
    },
    {
     "name": "stdout",
     "output_type": "stream",
     "text": [
      "5/5 [==============================] - 2s 515ms/step - loss: 0.0922 - accuracy: 0.9652 - val_loss: 0.0989 - val_accuracy: 0.9437\n",
      "Epoch 11/30\n",
      "5/5 [==============================] - ETA: 0s - loss: 0.1072 - accuracy: 0.9605"
     ]
    },
    {
     "name": "stderr",
     "output_type": "stream",
     "text": [
      "WARNING:absl:Found untraced functions such as _jit_compiled_convolution_op, _jit_compiled_convolution_op while saving (showing 2 of 2). These functions will not be directly callable after loading.\n"
     ]
    },
    {
     "name": "stdout",
     "output_type": "stream",
     "text": [
      "INFO:tensorflow:Assets written to: 5-conv-32-layer-1-dense.model_00h/assets\n"
     ]
    },
    {
     "name": "stderr",
     "output_type": "stream",
     "text": [
      "INFO:tensorflow:Assets written to: 5-conv-32-layer-1-dense.model_00h/assets\n"
     ]
    },
    {
     "name": "stdout",
     "output_type": "stream",
     "text": [
      "5/5 [==============================] - 2s 422ms/step - loss: 0.1072 - accuracy: 0.9605 - val_loss: 0.0879 - val_accuracy: 0.9718\n",
      "Epoch 12/30\n",
      "5/5 [==============================] - 0s 74ms/step - loss: 0.0821 - accuracy: 0.9684 - val_loss: 0.0920 - val_accuracy: 0.9577\n",
      "Epoch 13/30\n",
      "5/5 [==============================] - 0s 75ms/step - loss: 0.0819 - accuracy: 0.9684 - val_loss: 0.1239 - val_accuracy: 0.9437\n",
      "Epoch 14/30\n",
      "5/5 [==============================] - 0s 75ms/step - loss: 0.0790 - accuracy: 0.9684 - val_loss: 0.1571 - val_accuracy: 0.9437\n",
      "Epoch 15/30\n",
      "5/5 [==============================] - 0s 72ms/step - loss: 0.1172 - accuracy: 0.9542 - val_loss: 0.0985 - val_accuracy: 0.9577\n",
      "Epoch 16/30\n",
      "5/5 [==============================] - 0s 74ms/step - loss: 0.0955 - accuracy: 0.9605 - val_loss: 0.1291 - val_accuracy: 0.9577\n",
      "Epoch 17/30\n",
      "5/5 [==============================] - 0s 73ms/step - loss: 0.0907 - accuracy: 0.9684 - val_loss: 0.0997 - val_accuracy: 0.9577\n",
      "Epoch 18/30\n",
      "5/5 [==============================] - 0s 75ms/step - loss: 0.0611 - accuracy: 0.9731 - val_loss: 0.1050 - val_accuracy: 0.9577\n",
      "Epoch 19/30\n",
      "5/5 [==============================] - 0s 72ms/step - loss: 0.0612 - accuracy: 0.9810 - val_loss: 0.1227 - val_accuracy: 0.9577\n",
      "Epoch 20/30\n",
      "5/5 [==============================] - ETA: 0s - loss: 0.0644 - accuracy: 0.9716"
     ]
    },
    {
     "name": "stderr",
     "output_type": "stream",
     "text": [
      "WARNING:absl:Found untraced functions such as _jit_compiled_convolution_op, _jit_compiled_convolution_op while saving (showing 2 of 2). These functions will not be directly callable after loading.\n"
     ]
    },
    {
     "name": "stdout",
     "output_type": "stream",
     "text": [
      "INFO:tensorflow:Assets written to: 5-conv-32-layer-1-dense.model_00h/assets\n"
     ]
    },
    {
     "name": "stderr",
     "output_type": "stream",
     "text": [
      "INFO:tensorflow:Assets written to: 5-conv-32-layer-1-dense.model_00h/assets\n"
     ]
    },
    {
     "name": "stdout",
     "output_type": "stream",
     "text": [
      "5/5 [==============================] - 2s 429ms/step - loss: 0.0644 - accuracy: 0.9716 - val_loss: 0.0853 - val_accuracy: 0.9577\n",
      "Epoch 21/30\n",
      "5/5 [==============================] - 0s 74ms/step - loss: 0.0571 - accuracy: 0.9795 - val_loss: 0.1174 - val_accuracy: 0.9577\n",
      "Epoch 22/30\n",
      "5/5 [==============================] - ETA: 0s - loss: 0.0515 - accuracy: 0.9842"
     ]
    },
    {
     "name": "stderr",
     "output_type": "stream",
     "text": [
      "WARNING:absl:Found untraced functions such as _jit_compiled_convolution_op, _jit_compiled_convolution_op while saving (showing 2 of 2). These functions will not be directly callable after loading.\n"
     ]
    },
    {
     "name": "stdout",
     "output_type": "stream",
     "text": [
      "INFO:tensorflow:Assets written to: 5-conv-32-layer-1-dense.model_00h/assets\n"
     ]
    },
    {
     "name": "stderr",
     "output_type": "stream",
     "text": [
      "INFO:tensorflow:Assets written to: 5-conv-32-layer-1-dense.model_00h/assets\n"
     ]
    },
    {
     "name": "stdout",
     "output_type": "stream",
     "text": [
      "5/5 [==============================] - 2s 518ms/step - loss: 0.0515 - accuracy: 0.9842 - val_loss: 0.0792 - val_accuracy: 0.9718\n",
      "Epoch 23/30\n",
      "5/5 [==============================] - 0s 73ms/step - loss: 0.0681 - accuracy: 0.9731 - val_loss: 0.1494 - val_accuracy: 0.9577\n",
      "Epoch 24/30\n",
      "5/5 [==============================] - 0s 72ms/step - loss: 0.0443 - accuracy: 0.9889 - val_loss: 0.0799 - val_accuracy: 0.9577\n",
      "Epoch 25/30\n",
      "5/5 [==============================] - 0s 75ms/step - loss: 0.0462 - accuracy: 0.9795 - val_loss: 0.0910 - val_accuracy: 0.9577\n",
      "Epoch 26/30\n",
      "5/5 [==============================] - 0s 72ms/step - loss: 0.0534 - accuracy: 0.9826 - val_loss: 0.1323 - val_accuracy: 0.9577\n",
      "Epoch 27/30\n",
      "5/5 [==============================] - ETA: 0s - loss: 0.0689 - accuracy: 0.9779"
     ]
    },
    {
     "name": "stderr",
     "output_type": "stream",
     "text": [
      "WARNING:absl:Found untraced functions such as _jit_compiled_convolution_op, _jit_compiled_convolution_op while saving (showing 2 of 2). These functions will not be directly callable after loading.\n"
     ]
    },
    {
     "name": "stdout",
     "output_type": "stream",
     "text": [
      "INFO:tensorflow:Assets written to: 5-conv-32-layer-1-dense.model_00h/assets\n"
     ]
    },
    {
     "name": "stderr",
     "output_type": "stream",
     "text": [
      "INFO:tensorflow:Assets written to: 5-conv-32-layer-1-dense.model_00h/assets\n"
     ]
    },
    {
     "name": "stdout",
     "output_type": "stream",
     "text": [
      "5/5 [==============================] - 2s 444ms/step - loss: 0.0689 - accuracy: 0.9779 - val_loss: 0.0768 - val_accuracy: 0.9577\n",
      "Epoch 28/30\n",
      "5/5 [==============================] - 0s 74ms/step - loss: 0.0532 - accuracy: 0.9826 - val_loss: 0.1743 - val_accuracy: 0.9296\n",
      "Epoch 29/30\n",
      "5/5 [==============================] - ETA: 0s - loss: 0.0681 - accuracy: 0.9826"
     ]
    },
    {
     "name": "stderr",
     "output_type": "stream",
     "text": [
      "WARNING:absl:Found untraced functions such as _jit_compiled_convolution_op, _jit_compiled_convolution_op while saving (showing 2 of 2). These functions will not be directly callable after loading.\n"
     ]
    },
    {
     "name": "stdout",
     "output_type": "stream",
     "text": [
      "INFO:tensorflow:Assets written to: 5-conv-32-layer-1-dense.model_00h/assets\n"
     ]
    },
    {
     "name": "stderr",
     "output_type": "stream",
     "text": [
      "INFO:tensorflow:Assets written to: 5-conv-32-layer-1-dense.model_00h/assets\n"
     ]
    },
    {
     "name": "stdout",
     "output_type": "stream",
     "text": [
      "5/5 [==============================] - 2s 509ms/step - loss: 0.0681 - accuracy: 0.9826 - val_loss: 0.0612 - val_accuracy: 0.9437\n",
      "Epoch 30/30\n",
      "5/5 [==============================] - 0s 72ms/step - loss: 0.0404 - accuracy: 0.9889 - val_loss: 0.1141 - val_accuracy: 0.9577\n",
      "--> Running configuration:  3-conv-32-layer-2-dense.model_00h\n",
      "Model: \"my_functional_model\"\n",
      "_________________________________________________________________\n",
      " Layer (type)                Output Shape              Param #   \n",
      "=================================================================\n",
      " input_5 (InputLayer)        [(None, 30, 30, 12)]      0         \n",
      "                                                                 \n",
      " sequential (Sequential)     (None, 30, 30, 12)        0         \n",
      "                                                                 \n",
      " my_conv2d_1 (Conv2D)        (None, 28, 28, 32)        3488      \n",
      "                                                                 \n",
      " my_pooling_1 (MaxPooling2D)  (None, 14, 14, 32)       0         \n",
      "                                                                 \n",
      " my_conv2d_2 (Conv2D)        (None, 12, 12, 64)        18496     \n",
      "                                                                 \n",
      " my_pooling_2 (MaxPooling2D)  (None, 6, 6, 64)         0         \n",
      "                                                                 \n",
      " my_conv2d_3 (Conv2D)        (None, 4, 4, 128)         73856     \n",
      "                                                                 \n",
      " my_pooling_3 (MaxPooling2D)  (None, 2, 2, 128)        0         \n",
      "                                                                 \n",
      " my_flatten (Flatten)        (None, 512)               0         \n",
      "                                                                 \n",
      " dropout_4 (Dropout)         (None, 512)               0         \n",
      "                                                                 \n",
      " dense_2 (Dense)             (None, 32)                16416     \n",
      "                                                                 \n",
      " dense_3 (Dense)             (None, 32)                1056      \n",
      "                                                                 \n",
      " my_dense (Dense)            (None, 1)                 33        \n",
      "                                                                 \n",
      "=================================================================\n",
      "Total params: 113,345\n",
      "Trainable params: 113,345\n",
      "Non-trainable params: 0\n",
      "_________________________________________________________________\n",
      "Epoch 1/30\n",
      "5/5 [==============================] - ETA: 0s - loss: 0.6536 - accuracy: 0.6572"
     ]
    },
    {
     "name": "stderr",
     "output_type": "stream",
     "text": [
      "WARNING:absl:Found untraced functions such as _jit_compiled_convolution_op, _jit_compiled_convolution_op, _jit_compiled_convolution_op while saving (showing 3 of 3). These functions will not be directly callable after loading.\n"
     ]
    },
    {
     "name": "stdout",
     "output_type": "stream",
     "text": [
      "INFO:tensorflow:Assets written to: 3-conv-32-layer-2-dense.model_00h/assets\n"
     ]
    },
    {
     "name": "stderr",
     "output_type": "stream",
     "text": [
      "INFO:tensorflow:Assets written to: 3-conv-32-layer-2-dense.model_00h/assets\n"
     ]
    },
    {
     "name": "stdout",
     "output_type": "stream",
     "text": [
      "5/5 [==============================] - 3s 496ms/step - loss: 0.6536 - accuracy: 0.6572 - val_loss: 0.5357 - val_accuracy: 0.8451\n",
      "Epoch 2/30\n",
      "5/5 [==============================] - ETA: 0s - loss: 0.4424 - accuracy: 0.8831"
     ]
    },
    {
     "name": "stderr",
     "output_type": "stream",
     "text": [
      "WARNING:absl:Found untraced functions such as _jit_compiled_convolution_op, _jit_compiled_convolution_op, _jit_compiled_convolution_op while saving (showing 3 of 3). These functions will not be directly callable after loading.\n"
     ]
    },
    {
     "name": "stdout",
     "output_type": "stream",
     "text": [
      "INFO:tensorflow:Assets written to: 3-conv-32-layer-2-dense.model_00h/assets\n"
     ]
    },
    {
     "name": "stderr",
     "output_type": "stream",
     "text": [
      "INFO:tensorflow:Assets written to: 3-conv-32-layer-2-dense.model_00h/assets\n"
     ]
    },
    {
     "name": "stdout",
     "output_type": "stream",
     "text": [
      "5/5 [==============================] - 2s 555ms/step - loss: 0.4424 - accuracy: 0.8831 - val_loss: 0.3393 - val_accuracy: 0.8451\n",
      "Epoch 3/30\n",
      "5/5 [==============================] - ETA: 0s - loss: 0.2678 - accuracy: 0.8768"
     ]
    },
    {
     "name": "stderr",
     "output_type": "stream",
     "text": [
      "WARNING:absl:Found untraced functions such as _jit_compiled_convolution_op, _jit_compiled_convolution_op, _jit_compiled_convolution_op while saving (showing 3 of 3). These functions will not be directly callable after loading.\n"
     ]
    },
    {
     "name": "stdout",
     "output_type": "stream",
     "text": [
      "INFO:tensorflow:Assets written to: 3-conv-32-layer-2-dense.model_00h/assets\n"
     ]
    },
    {
     "name": "stderr",
     "output_type": "stream",
     "text": [
      "INFO:tensorflow:Assets written to: 3-conv-32-layer-2-dense.model_00h/assets\n"
     ]
    },
    {
     "name": "stdout",
     "output_type": "stream",
     "text": [
      "5/5 [==============================] - 2s 471ms/step - loss: 0.2678 - accuracy: 0.8768 - val_loss: 0.2544 - val_accuracy: 0.9155\n",
      "Epoch 4/30\n",
      "5/5 [==============================] - ETA: 0s - loss: 0.2135 - accuracy: 0.9036"
     ]
    },
    {
     "name": "stderr",
     "output_type": "stream",
     "text": [
      "WARNING:absl:Found untraced functions such as _jit_compiled_convolution_op, _jit_compiled_convolution_op, _jit_compiled_convolution_op while saving (showing 3 of 3). These functions will not be directly callable after loading.\n"
     ]
    },
    {
     "name": "stdout",
     "output_type": "stream",
     "text": [
      "INFO:tensorflow:Assets written to: 3-conv-32-layer-2-dense.model_00h/assets\n"
     ]
    },
    {
     "name": "stderr",
     "output_type": "stream",
     "text": [
      "INFO:tensorflow:Assets written to: 3-conv-32-layer-2-dense.model_00h/assets\n"
     ]
    },
    {
     "name": "stdout",
     "output_type": "stream",
     "text": [
      "5/5 [==============================] - 2s 471ms/step - loss: 0.2135 - accuracy: 0.9036 - val_loss: 0.2085 - val_accuracy: 0.9296\n",
      "Epoch 5/30\n",
      "5/5 [==============================] - ETA: 0s - loss: 0.2113 - accuracy: 0.9163"
     ]
    },
    {
     "name": "stderr",
     "output_type": "stream",
     "text": [
      "WARNING:absl:Found untraced functions such as _jit_compiled_convolution_op, _jit_compiled_convolution_op, _jit_compiled_convolution_op while saving (showing 3 of 3). These functions will not be directly callable after loading.\n"
     ]
    },
    {
     "name": "stdout",
     "output_type": "stream",
     "text": [
      "INFO:tensorflow:Assets written to: 3-conv-32-layer-2-dense.model_00h/assets\n"
     ]
    },
    {
     "name": "stderr",
     "output_type": "stream",
     "text": [
      "INFO:tensorflow:Assets written to: 3-conv-32-layer-2-dense.model_00h/assets\n"
     ]
    },
    {
     "name": "stdout",
     "output_type": "stream",
     "text": [
      "5/5 [==============================] - 2s 561ms/step - loss: 0.2113 - accuracy: 0.9163 - val_loss: 0.1662 - val_accuracy: 0.9155\n",
      "Epoch 6/30\n",
      "5/5 [==============================] - 0s 74ms/step - loss: 0.2397 - accuracy: 0.8957 - val_loss: 0.4044 - val_accuracy: 0.8310\n",
      "Epoch 7/30\n",
      "5/5 [==============================] - ETA: 0s - loss: 0.2328 - accuracy: 0.9068"
     ]
    },
    {
     "name": "stderr",
     "output_type": "stream",
     "text": [
      "WARNING:absl:Found untraced functions such as _jit_compiled_convolution_op, _jit_compiled_convolution_op, _jit_compiled_convolution_op while saving (showing 3 of 3). These functions will not be directly callable after loading.\n"
     ]
    },
    {
     "name": "stdout",
     "output_type": "stream",
     "text": [
      "INFO:tensorflow:Assets written to: 3-conv-32-layer-2-dense.model_00h/assets\n"
     ]
    },
    {
     "name": "stderr",
     "output_type": "stream",
     "text": [
      "INFO:tensorflow:Assets written to: 3-conv-32-layer-2-dense.model_00h/assets\n"
     ]
    },
    {
     "name": "stdout",
     "output_type": "stream",
     "text": [
      "5/5 [==============================] - 2s 466ms/step - loss: 0.2328 - accuracy: 0.9068 - val_loss: 0.1584 - val_accuracy: 0.9296\n",
      "Epoch 8/30\n",
      "5/5 [==============================] - 0s 73ms/step - loss: 0.1910 - accuracy: 0.9242 - val_loss: 0.2015 - val_accuracy: 0.9155\n",
      "Epoch 9/30\n",
      "5/5 [==============================] - ETA: 0s - loss: 0.1863 - accuracy: 0.9321"
     ]
    },
    {
     "name": "stderr",
     "output_type": "stream",
     "text": [
      "WARNING:absl:Found untraced functions such as _jit_compiled_convolution_op, _jit_compiled_convolution_op, _jit_compiled_convolution_op while saving (showing 3 of 3). These functions will not be directly callable after loading.\n"
     ]
    },
    {
     "name": "stdout",
     "output_type": "stream",
     "text": [
      "INFO:tensorflow:Assets written to: 3-conv-32-layer-2-dense.model_00h/assets\n"
     ]
    },
    {
     "name": "stderr",
     "output_type": "stream",
     "text": [
      "INFO:tensorflow:Assets written to: 3-conv-32-layer-2-dense.model_00h/assets\n"
     ]
    },
    {
     "name": "stdout",
     "output_type": "stream",
     "text": [
      "5/5 [==============================] - 2s 537ms/step - loss: 0.1863 - accuracy: 0.9321 - val_loss: 0.1513 - val_accuracy: 0.9155\n",
      "Epoch 10/30\n",
      "5/5 [==============================] - 0s 73ms/step - loss: 0.1487 - accuracy: 0.9400 - val_loss: 0.1762 - val_accuracy: 0.9296\n",
      "Epoch 11/30\n",
      "5/5 [==============================] - ETA: 0s - loss: 0.1235 - accuracy: 0.9558"
     ]
    },
    {
     "name": "stderr",
     "output_type": "stream",
     "text": [
      "WARNING:absl:Found untraced functions such as _jit_compiled_convolution_op, _jit_compiled_convolution_op, _jit_compiled_convolution_op while saving (showing 3 of 3). These functions will not be directly callable after loading.\n"
     ]
    },
    {
     "name": "stdout",
     "output_type": "stream",
     "text": [
      "INFO:tensorflow:Assets written to: 3-conv-32-layer-2-dense.model_00h/assets\n"
     ]
    },
    {
     "name": "stderr",
     "output_type": "stream",
     "text": [
      "INFO:tensorflow:Assets written to: 3-conv-32-layer-2-dense.model_00h/assets\n"
     ]
    },
    {
     "name": "stdout",
     "output_type": "stream",
     "text": [
      "5/5 [==============================] - 2s 475ms/step - loss: 0.1235 - accuracy: 0.9558 - val_loss: 0.1245 - val_accuracy: 0.9296\n",
      "Epoch 12/30\n",
      "5/5 [==============================] - 0s 74ms/step - loss: 0.1127 - accuracy: 0.9589 - val_loss: 0.1625 - val_accuracy: 0.9155\n",
      "Epoch 13/30\n",
      "5/5 [==============================] - ETA: 0s - loss: 0.1136 - accuracy: 0.9542"
     ]
    },
    {
     "name": "stderr",
     "output_type": "stream",
     "text": [
      "WARNING:absl:Found untraced functions such as _jit_compiled_convolution_op, _jit_compiled_convolution_op, _jit_compiled_convolution_op while saving (showing 3 of 3). These functions will not be directly callable after loading.\n"
     ]
    },
    {
     "name": "stdout",
     "output_type": "stream",
     "text": [
      "INFO:tensorflow:Assets written to: 3-conv-32-layer-2-dense.model_00h/assets\n"
     ]
    },
    {
     "name": "stderr",
     "output_type": "stream",
     "text": [
      "INFO:tensorflow:Assets written to: 3-conv-32-layer-2-dense.model_00h/assets\n"
     ]
    },
    {
     "name": "stdout",
     "output_type": "stream",
     "text": [
      "5/5 [==============================] - 2s 534ms/step - loss: 0.1136 - accuracy: 0.9542 - val_loss: 0.1191 - val_accuracy: 0.9437\n",
      "Epoch 14/30\n",
      "5/5 [==============================] - 0s 76ms/step - loss: 0.0964 - accuracy: 0.9573 - val_loss: 0.1647 - val_accuracy: 0.9155\n",
      "Epoch 15/30\n",
      "5/5 [==============================] - ETA: 0s - loss: 0.0938 - accuracy: 0.9637"
     ]
    },
    {
     "name": "stderr",
     "output_type": "stream",
     "text": [
      "WARNING:absl:Found untraced functions such as _jit_compiled_convolution_op, _jit_compiled_convolution_op, _jit_compiled_convolution_op while saving (showing 3 of 3). These functions will not be directly callable after loading.\n"
     ]
    },
    {
     "name": "stdout",
     "output_type": "stream",
     "text": [
      "INFO:tensorflow:Assets written to: 3-conv-32-layer-2-dense.model_00h/assets\n"
     ]
    },
    {
     "name": "stderr",
     "output_type": "stream",
     "text": [
      "INFO:tensorflow:Assets written to: 3-conv-32-layer-2-dense.model_00h/assets\n"
     ]
    },
    {
     "name": "stdout",
     "output_type": "stream",
     "text": [
      "5/5 [==============================] - 2s 486ms/step - loss: 0.0938 - accuracy: 0.9637 - val_loss: 0.1100 - val_accuracy: 0.9437\n",
      "Epoch 16/30\n",
      "5/5 [==============================] - 0s 74ms/step - loss: 0.0717 - accuracy: 0.9731 - val_loss: 0.1684 - val_accuracy: 0.9155\n",
      "Epoch 17/30\n",
      "5/5 [==============================] - 0s 73ms/step - loss: 0.0810 - accuracy: 0.9652 - val_loss: 0.1121 - val_accuracy: 0.9437\n",
      "Epoch 18/30\n",
      "5/5 [==============================] - 0s 74ms/step - loss: 0.0768 - accuracy: 0.9716 - val_loss: 0.1798 - val_accuracy: 0.9296\n",
      "Epoch 19/30\n",
      "5/5 [==============================] - 0s 76ms/step - loss: 0.0688 - accuracy: 0.9795 - val_loss: 0.1206 - val_accuracy: 0.9437\n",
      "Epoch 20/30\n",
      "5/5 [==============================] - 0s 72ms/step - loss: 0.0662 - accuracy: 0.9747 - val_loss: 0.1330 - val_accuracy: 0.9437\n",
      "Epoch 21/30\n",
      "5/5 [==============================] - ETA: 0s - loss: 0.0394 - accuracy: 0.9858"
     ]
    },
    {
     "name": "stderr",
     "output_type": "stream",
     "text": [
      "WARNING:absl:Found untraced functions such as _jit_compiled_convolution_op, _jit_compiled_convolution_op, _jit_compiled_convolution_op while saving (showing 3 of 3). These functions will not be directly callable after loading.\n"
     ]
    },
    {
     "name": "stdout",
     "output_type": "stream",
     "text": [
      "INFO:tensorflow:Assets written to: 3-conv-32-layer-2-dense.model_00h/assets\n"
     ]
    },
    {
     "name": "stderr",
     "output_type": "stream",
     "text": [
      "INFO:tensorflow:Assets written to: 3-conv-32-layer-2-dense.model_00h/assets\n"
     ]
    },
    {
     "name": "stdout",
     "output_type": "stream",
     "text": [
      "5/5 [==============================] - 2s 474ms/step - loss: 0.0394 - accuracy: 0.9858 - val_loss: 0.1073 - val_accuracy: 0.9437\n",
      "Epoch 22/30\n",
      "5/5 [==============================] - 0s 73ms/step - loss: 0.0628 - accuracy: 0.9763 - val_loss: 0.1181 - val_accuracy: 0.9437\n",
      "Epoch 23/30\n",
      "5/5 [==============================] - 0s 75ms/step - loss: 0.0546 - accuracy: 0.9810 - val_loss: 0.1205 - val_accuracy: 0.9437\n",
      "Epoch 24/30\n",
      "5/5 [==============================] - 0s 73ms/step - loss: 0.0375 - accuracy: 0.9874 - val_loss: 0.1163 - val_accuracy: 0.9437\n",
      "Epoch 25/30\n",
      "5/5 [==============================] - 0s 73ms/step - loss: 0.0446 - accuracy: 0.9874 - val_loss: 0.1286 - val_accuracy: 0.9437\n",
      "Epoch 26/30\n",
      "5/5 [==============================] - 0s 74ms/step - loss: 0.0403 - accuracy: 0.9842 - val_loss: 0.1093 - val_accuracy: 0.9437\n",
      "Epoch 27/30\n",
      "5/5 [==============================] - 0s 74ms/step - loss: 0.0595 - accuracy: 0.9810 - val_loss: 0.1101 - val_accuracy: 0.9437\n",
      "Epoch 28/30\n",
      "5/5 [==============================] - 0s 74ms/step - loss: 0.0313 - accuracy: 0.9874 - val_loss: 0.1915 - val_accuracy: 0.9577\n",
      "Epoch 29/30\n",
      "5/5 [==============================] - 0s 73ms/step - loss: 0.0414 - accuracy: 0.9842 - val_loss: 0.1350 - val_accuracy: 0.9577\n",
      "Epoch 30/30\n",
      "5/5 [==============================] - ETA: 0s - loss: 0.0296 - accuracy: 0.9889"
     ]
    },
    {
     "name": "stderr",
     "output_type": "stream",
     "text": [
      "WARNING:absl:Found untraced functions such as _jit_compiled_convolution_op, _jit_compiled_convolution_op, _jit_compiled_convolution_op while saving (showing 3 of 3). These functions will not be directly callable after loading.\n"
     ]
    },
    {
     "name": "stdout",
     "output_type": "stream",
     "text": [
      "INFO:tensorflow:Assets written to: 3-conv-32-layer-2-dense.model_00h/assets\n"
     ]
    },
    {
     "name": "stderr",
     "output_type": "stream",
     "text": [
      "INFO:tensorflow:Assets written to: 3-conv-32-layer-2-dense.model_00h/assets\n"
     ]
    },
    {
     "name": "stdout",
     "output_type": "stream",
     "text": [
      "5/5 [==============================] - 2s 572ms/step - loss: 0.0296 - accuracy: 0.9889 - val_loss: 0.1024 - val_accuracy: 0.9437\n",
      "--> Running configuration:  5-conv-32-layer-2-dense.model_00h\n",
      "Model: \"my_functional_model\"\n",
      "_________________________________________________________________\n",
      " Layer (type)                Output Shape              Param #   \n",
      "=================================================================\n",
      " input_6 (InputLayer)        [(None, 30, 30, 12)]      0         \n",
      "                                                                 \n",
      " sequential (Sequential)     (None, 30, 30, 12)        0         \n",
      "                                                                 \n",
      " my_conv2d_1 (Conv2D)        (None, 26, 26, 32)        9632      \n",
      "                                                                 \n",
      " my_pooling_1 (MaxPooling2D)  (None, 13, 13, 32)       0         \n",
      "                                                                 \n",
      " my_conv2d_2 (Conv2D)        (None, 9, 9, 64)          51264     \n",
      "                                                                 \n",
      " my_pooling_2 (MaxPooling2D)  (None, 4, 4, 64)         0         \n",
      "                                                                 \n",
      " my_flatten (Flatten)        (None, 1024)              0         \n",
      "                                                                 \n",
      " dropout_5 (Dropout)         (None, 1024)              0         \n",
      "                                                                 \n",
      " dense_4 (Dense)             (None, 32)                32800     \n",
      "                                                                 \n",
      " dense_5 (Dense)             (None, 32)                1056      \n",
      "                                                                 \n",
      " my_dense (Dense)            (None, 1)                 33        \n",
      "                                                                 \n",
      "=================================================================\n",
      "Total params: 94,785\n",
      "Trainable params: 94,785\n",
      "Non-trainable params: 0\n",
      "_________________________________________________________________\n",
      "Epoch 1/30\n",
      "5/5 [==============================] - ETA: 0s - loss: 0.6384 - accuracy: 0.6825"
     ]
    },
    {
     "name": "stderr",
     "output_type": "stream",
     "text": [
      "WARNING:absl:Found untraced functions such as _jit_compiled_convolution_op, _jit_compiled_convolution_op while saving (showing 2 of 2). These functions will not be directly callable after loading.\n"
     ]
    },
    {
     "name": "stdout",
     "output_type": "stream",
     "text": [
      "INFO:tensorflow:Assets written to: 5-conv-32-layer-2-dense.model_00h/assets\n"
     ]
    },
    {
     "name": "stderr",
     "output_type": "stream",
     "text": [
      "INFO:tensorflow:Assets written to: 5-conv-32-layer-2-dense.model_00h/assets\n"
     ]
    },
    {
     "name": "stdout",
     "output_type": "stream",
     "text": [
      "5/5 [==============================] - 3s 547ms/step - loss: 0.6384 - accuracy: 0.6825 - val_loss: 0.4719 - val_accuracy: 0.8169\n",
      "Epoch 2/30\n",
      "5/5 [==============================] - ETA: 0s - loss: 0.3845 - accuracy: 0.8894"
     ]
    },
    {
     "name": "stderr",
     "output_type": "stream",
     "text": [
      "WARNING:absl:Found untraced functions such as _jit_compiled_convolution_op, _jit_compiled_convolution_op while saving (showing 2 of 2). These functions will not be directly callable after loading.\n"
     ]
    },
    {
     "name": "stdout",
     "output_type": "stream",
     "text": [
      "INFO:tensorflow:Assets written to: 5-conv-32-layer-2-dense.model_00h/assets\n"
     ]
    },
    {
     "name": "stderr",
     "output_type": "stream",
     "text": [
      "INFO:tensorflow:Assets written to: 5-conv-32-layer-2-dense.model_00h/assets\n"
     ]
    },
    {
     "name": "stdout",
     "output_type": "stream",
     "text": [
      "5/5 [==============================] - 2s 447ms/step - loss: 0.3845 - accuracy: 0.8894 - val_loss: 0.2243 - val_accuracy: 0.9296\n",
      "Epoch 3/30\n",
      "5/5 [==============================] - ETA: 0s - loss: 0.2489 - accuracy: 0.8989"
     ]
    },
    {
     "name": "stderr",
     "output_type": "stream",
     "text": [
      "WARNING:absl:Found untraced functions such as _jit_compiled_convolution_op, _jit_compiled_convolution_op while saving (showing 2 of 2). These functions will not be directly callable after loading.\n"
     ]
    },
    {
     "name": "stdout",
     "output_type": "stream",
     "text": [
      "INFO:tensorflow:Assets written to: 5-conv-32-layer-2-dense.model_00h/assets\n"
     ]
    },
    {
     "name": "stderr",
     "output_type": "stream",
     "text": [
      "INFO:tensorflow:Assets written to: 5-conv-32-layer-2-dense.model_00h/assets\n"
     ]
    },
    {
     "name": "stdout",
     "output_type": "stream",
     "text": [
      "5/5 [==============================] - 2s 447ms/step - loss: 0.2489 - accuracy: 0.8989 - val_loss: 0.1675 - val_accuracy: 0.9155\n",
      "Epoch 4/30\n",
      "5/5 [==============================] - 0s 73ms/step - loss: 0.1985 - accuracy: 0.9210 - val_loss: 0.2016 - val_accuracy: 0.9014\n",
      "Epoch 5/30\n",
      "5/5 [==============================] - 0s 75ms/step - loss: 0.2066 - accuracy: 0.9131 - val_loss: 0.1837 - val_accuracy: 0.9437\n",
      "Epoch 6/30\n",
      "5/5 [==============================] - 0s 76ms/step - loss: 0.1779 - accuracy: 0.9305 - val_loss: 0.1823 - val_accuracy: 0.9014\n",
      "Epoch 7/30\n",
      "5/5 [==============================] - ETA: 0s - loss: 0.1462 - accuracy: 0.9384"
     ]
    },
    {
     "name": "stderr",
     "output_type": "stream",
     "text": [
      "WARNING:absl:Found untraced functions such as _jit_compiled_convolution_op, _jit_compiled_convolution_op while saving (showing 2 of 2). These functions will not be directly callable after loading.\n"
     ]
    },
    {
     "name": "stdout",
     "output_type": "stream",
     "text": [
      "INFO:tensorflow:Assets written to: 5-conv-32-layer-2-dense.model_00h/assets\n"
     ]
    },
    {
     "name": "stderr",
     "output_type": "stream",
     "text": [
      "INFO:tensorflow:Assets written to: 5-conv-32-layer-2-dense.model_00h/assets\n"
     ]
    },
    {
     "name": "stdout",
     "output_type": "stream",
     "text": [
      "5/5 [==============================] - 2s 543ms/step - loss: 0.1462 - accuracy: 0.9384 - val_loss: 0.1282 - val_accuracy: 0.9437\n",
      "Epoch 8/30\n",
      "5/5 [==============================] - 0s 74ms/step - loss: 0.1348 - accuracy: 0.9558 - val_loss: 0.1503 - val_accuracy: 0.9437\n",
      "Epoch 9/30\n",
      "5/5 [==============================] - ETA: 0s - loss: 0.1255 - accuracy: 0.9510"
     ]
    },
    {
     "name": "stderr",
     "output_type": "stream",
     "text": [
      "WARNING:absl:Found untraced functions such as _jit_compiled_convolution_op, _jit_compiled_convolution_op while saving (showing 2 of 2). These functions will not be directly callable after loading.\n"
     ]
    },
    {
     "name": "stdout",
     "output_type": "stream",
     "text": [
      "INFO:tensorflow:Assets written to: 5-conv-32-layer-2-dense.model_00h/assets\n"
     ]
    },
    {
     "name": "stderr",
     "output_type": "stream",
     "text": [
      "INFO:tensorflow:Assets written to: 5-conv-32-layer-2-dense.model_00h/assets\n"
     ]
    },
    {
     "name": "stdout",
     "output_type": "stream",
     "text": [
      "5/5 [==============================] - 2s 446ms/step - loss: 0.1255 - accuracy: 0.9510 - val_loss: 0.1046 - val_accuracy: 0.9577\n",
      "Epoch 10/30\n",
      "5/5 [==============================] - ETA: 0s - loss: 0.1023 - accuracy: 0.9573"
     ]
    },
    {
     "name": "stderr",
     "output_type": "stream",
     "text": [
      "WARNING:absl:Found untraced functions such as _jit_compiled_convolution_op, _jit_compiled_convolution_op while saving (showing 2 of 2). These functions will not be directly callable after loading.\n"
     ]
    },
    {
     "name": "stdout",
     "output_type": "stream",
     "text": [
      "INFO:tensorflow:Assets written to: 5-conv-32-layer-2-dense.model_00h/assets\n"
     ]
    },
    {
     "name": "stderr",
     "output_type": "stream",
     "text": [
      "INFO:tensorflow:Assets written to: 5-conv-32-layer-2-dense.model_00h/assets\n"
     ]
    },
    {
     "name": "stdout",
     "output_type": "stream",
     "text": [
      "5/5 [==============================] - 2s 446ms/step - loss: 0.1023 - accuracy: 0.9573 - val_loss: 0.0978 - val_accuracy: 0.9577\n",
      "Epoch 11/30\n",
      "5/5 [==============================] - 0s 74ms/step - loss: 0.1210 - accuracy: 0.9494 - val_loss: 0.1185 - val_accuracy: 0.9437\n",
      "Epoch 12/30\n",
      "5/5 [==============================] - 0s 76ms/step - loss: 0.0930 - accuracy: 0.9731 - val_loss: 0.1106 - val_accuracy: 0.9577\n",
      "Epoch 13/30\n",
      "5/5 [==============================] - 0s 75ms/step - loss: 0.0823 - accuracy: 0.9652 - val_loss: 0.0996 - val_accuracy: 0.9577\n",
      "Epoch 14/30\n",
      "5/5 [==============================] - 0s 75ms/step - loss: 0.0852 - accuracy: 0.9684 - val_loss: 0.1378 - val_accuracy: 0.9437\n",
      "Epoch 15/30\n",
      "5/5 [==============================] - 0s 76ms/step - loss: 0.0790 - accuracy: 0.9684 - val_loss: 0.1071 - val_accuracy: 0.9437\n",
      "Epoch 16/30\n",
      "5/5 [==============================] - ETA: 0s - loss: 0.0671 - accuracy: 0.9763"
     ]
    },
    {
     "name": "stderr",
     "output_type": "stream",
     "text": [
      "WARNING:absl:Found untraced functions such as _jit_compiled_convolution_op, _jit_compiled_convolution_op while saving (showing 2 of 2). These functions will not be directly callable after loading.\n"
     ]
    },
    {
     "name": "stdout",
     "output_type": "stream",
     "text": [
      "INFO:tensorflow:Assets written to: 5-conv-32-layer-2-dense.model_00h/assets\n"
     ]
    },
    {
     "name": "stderr",
     "output_type": "stream",
     "text": [
      "INFO:tensorflow:Assets written to: 5-conv-32-layer-2-dense.model_00h/assets\n"
     ]
    },
    {
     "name": "stdout",
     "output_type": "stream",
     "text": [
      "5/5 [==============================] - 2s 526ms/step - loss: 0.0671 - accuracy: 0.9763 - val_loss: 0.0939 - val_accuracy: 0.9437\n",
      "Epoch 17/30\n",
      "5/5 [==============================] - 0s 74ms/step - loss: 0.0730 - accuracy: 0.9795 - val_loss: 0.1057 - val_accuracy: 0.9577\n",
      "Epoch 18/30\n",
      "5/5 [==============================] - 0s 76ms/step - loss: 0.0631 - accuracy: 0.9810 - val_loss: 0.0960 - val_accuracy: 0.9437\n",
      "Epoch 19/30\n",
      "5/5 [==============================] - 0s 75ms/step - loss: 0.0691 - accuracy: 0.9763 - val_loss: 0.0972 - val_accuracy: 0.9437\n",
      "Epoch 20/30\n",
      "5/5 [==============================] - 0s 76ms/step - loss: 0.0491 - accuracy: 0.9810 - val_loss: 0.1143 - val_accuracy: 0.9577\n",
      "Epoch 21/30\n",
      "5/5 [==============================] - ETA: 0s - loss: 0.0503 - accuracy: 0.9842"
     ]
    },
    {
     "name": "stderr",
     "output_type": "stream",
     "text": [
      "WARNING:absl:Found untraced functions such as _jit_compiled_convolution_op, _jit_compiled_convolution_op while saving (showing 2 of 2). These functions will not be directly callable after loading.\n"
     ]
    },
    {
     "name": "stdout",
     "output_type": "stream",
     "text": [
      "INFO:tensorflow:Assets written to: 5-conv-32-layer-2-dense.model_00h/assets\n"
     ]
    },
    {
     "name": "stderr",
     "output_type": "stream",
     "text": [
      "INFO:tensorflow:Assets written to: 5-conv-32-layer-2-dense.model_00h/assets\n"
     ]
    },
    {
     "name": "stdout",
     "output_type": "stream",
     "text": [
      "5/5 [==============================] - 2s 445ms/step - loss: 0.0503 - accuracy: 0.9842 - val_loss: 0.0910 - val_accuracy: 0.9437\n",
      "Epoch 22/30\n",
      "5/5 [==============================] - 0s 75ms/step - loss: 0.0518 - accuracy: 0.9795 - val_loss: 0.0977 - val_accuracy: 0.9437\n",
      "Epoch 23/30\n",
      "5/5 [==============================] - 0s 76ms/step - loss: 0.0528 - accuracy: 0.9747 - val_loss: 0.1544 - val_accuracy: 0.9437\n",
      "Epoch 24/30\n",
      "5/5 [==============================] - ETA: 0s - loss: 0.0493 - accuracy: 0.9810"
     ]
    },
    {
     "name": "stderr",
     "output_type": "stream",
     "text": [
      "WARNING:absl:Found untraced functions such as _jit_compiled_convolution_op, _jit_compiled_convolution_op while saving (showing 2 of 2). These functions will not be directly callable after loading.\n"
     ]
    },
    {
     "name": "stdout",
     "output_type": "stream",
     "text": [
      "INFO:tensorflow:Assets written to: 5-conv-32-layer-2-dense.model_00h/assets\n"
     ]
    },
    {
     "name": "stderr",
     "output_type": "stream",
     "text": [
      "INFO:tensorflow:Assets written to: 5-conv-32-layer-2-dense.model_00h/assets\n"
     ]
    },
    {
     "name": "stdout",
     "output_type": "stream",
     "text": [
      "5/5 [==============================] - 2s 531ms/step - loss: 0.0493 - accuracy: 0.9810 - val_loss: 0.0852 - val_accuracy: 0.9437\n",
      "Epoch 25/30\n",
      "5/5 [==============================] - ETA: 0s - loss: 0.0455 - accuracy: 0.9826"
     ]
    },
    {
     "name": "stderr",
     "output_type": "stream",
     "text": [
      "WARNING:absl:Found untraced functions such as _jit_compiled_convolution_op, _jit_compiled_convolution_op while saving (showing 2 of 2). These functions will not be directly callable after loading.\n"
     ]
    },
    {
     "name": "stdout",
     "output_type": "stream",
     "text": [
      "INFO:tensorflow:Assets written to: 5-conv-32-layer-2-dense.model_00h/assets\n"
     ]
    },
    {
     "name": "stderr",
     "output_type": "stream",
     "text": [
      "INFO:tensorflow:Assets written to: 5-conv-32-layer-2-dense.model_00h/assets\n"
     ]
    },
    {
     "name": "stdout",
     "output_type": "stream",
     "text": [
      "5/5 [==============================] - 2s 454ms/step - loss: 0.0455 - accuracy: 0.9826 - val_loss: 0.0785 - val_accuracy: 0.9718\n",
      "Epoch 26/30\n",
      "5/5 [==============================] - 0s 75ms/step - loss: 0.0557 - accuracy: 0.9795 - val_loss: 0.0967 - val_accuracy: 0.9577\n",
      "Epoch 27/30\n",
      "5/5 [==============================] - 0s 75ms/step - loss: 0.0430 - accuracy: 0.9779 - val_loss: 0.1352 - val_accuracy: 0.9437\n",
      "Epoch 28/30\n",
      "5/5 [==============================] - 0s 73ms/step - loss: 0.0393 - accuracy: 0.9858 - val_loss: 0.0798 - val_accuracy: 0.9859\n",
      "Epoch 29/30\n",
      "5/5 [==============================] - ETA: 0s - loss: 0.0593 - accuracy: 0.9731"
     ]
    },
    {
     "name": "stderr",
     "output_type": "stream",
     "text": [
      "WARNING:absl:Found untraced functions such as _jit_compiled_convolution_op, _jit_compiled_convolution_op while saving (showing 2 of 2). These functions will not be directly callable after loading.\n"
     ]
    },
    {
     "name": "stdout",
     "output_type": "stream",
     "text": [
      "INFO:tensorflow:Assets written to: 5-conv-32-layer-2-dense.model_00h/assets\n"
     ]
    },
    {
     "name": "stderr",
     "output_type": "stream",
     "text": [
      "INFO:tensorflow:Assets written to: 5-conv-32-layer-2-dense.model_00h/assets\n"
     ]
    },
    {
     "name": "stdout",
     "output_type": "stream",
     "text": [
      "5/5 [==============================] - 2s 437ms/step - loss: 0.0593 - accuracy: 0.9731 - val_loss: 0.0713 - val_accuracy: 0.9577\n",
      "Epoch 30/30\n",
      "5/5 [==============================] - 0s 75ms/step - loss: 0.0883 - accuracy: 0.9605 - val_loss: 0.1550 - val_accuracy: 0.9437\n"
     ]
    }
   ],
   "source": [
    "#\n",
    "# build a range of CNN models with different number of dense layer, layer sizes, and\n",
    "# convolution layers to optimize the performance\n",
    "#\n",
    "data_augmentation = keras.Sequential([\n",
    "    layers.RandomFlip(\"horizontal\"),\n",
    "    layers.RandomRotation(0.1),\n",
    "    layers.RandomZoom(0.2)])\n",
    "dense_layers = [0, 1, 2]\n",
    "layer_sizes = [32]\n",
    "conv_layers = [3, 5]\n",
    "for dense_layer in dense_layers:\n",
    "    for layer_size in layer_sizes:\n",
    "        for conv_layer in conv_layers:\n",
    "            NAME = \"{}-conv-{}-layer-{}-dense.model_00h\".format(conv_layer, layer_size, dense_layer)\n",
    "            print('--> Running configuration: ',NAME)\n",
    "\n",
    "            inputs = keras.Input(shape=X.shape[1:])      \n",
    "            x = data_augmentation(inputs)\n",
    "            x = layers.Conv2D(filters=layer_size,kernel_size=conv_layer,activation=\"relu\",name=\"my_conv2d_1\")(x)\n",
    "            x = layers.MaxPooling2D(pool_size=2,name=\"my_pooling_1\")(x)\n",
    "            x = layers.Conv2D(filters=layer_size*2,kernel_size=conv_layer,activation=\"relu\",name=\"my_conv2d_2\")(x)\n",
    "            x = layers.MaxPooling2D(pool_size=2,name=\"my_pooling_2\")(x)\n",
    "            if conv_layer == 3:\n",
    "                x = layers.Conv2D(filters=layer_size*4,kernel_size=conv_layer,activation=\"relu\",name=\"my_conv2d_3\")(x)\n",
    "                x = layers.MaxPooling2D(pool_size=2,name=\"my_pooling_3\")(x)\n",
    "\n",
    "            if X.shape[1] > 128:\n",
    "                x = layers.Conv2D(filters=256,kernel_size=conv_layer,activation=\"relu\",name=\"my_conv2d_4\")(x)\n",
    "                x = layers.MaxPooling2D(pool_size=2,name=\"my_pooling_4\")(x)\n",
    "                x = layers.Conv2D(filters=256,kernel_size=conv_layer,activation=\"relu\",name=\"my_conv2d_5\")(x)\n",
    "            x = layers.Flatten(name=\"my_flatten\")(x)\n",
    "            x = layers.Dropout(0.2)(x)\n",
    "            \n",
    "            for _ in range(dense_layer):\n",
    "                x = layers.Dense(layer_size,activation=\"relu\")(x)                \n",
    "                \n",
    "            outputs = layers.Dense(1,activation=\"sigmoid\",name=\"my_dense\")(x)\n",
    "            model = keras.Model(inputs=inputs,outputs=outputs,name=\"my_functional_model\")\n",
    "            model.summary()\n",
    "            keras.utils.plot_model(model)\n",
    "            \n",
    "            callbacks=[keras.callbacks.ModelCheckpoint(NAME,save_best_only=True)]\n",
    "            model.compile(loss=\"binary_crossentropy\",optimizer=\"adam\",metrics=[\"accuracy\"])\n",
    "            history = model.fit(X, y, batch_size=128, epochs=30, validation_split=0.1, callbacks=callbacks)"
   ]
  },
  {
   "cell_type": "code",
   "execution_count": 6,
   "id": "f6cf3621",
   "metadata": {},
   "outputs": [
    {
     "data": {
      "image/png": "[encoded data removed]",
      "text/plain": [
       "<Figure size 432x288 with 1 Axes>"
      ]
     },
     "metadata": {
      "needs_background": "light"
     },
     "output_type": "display_data"
    },
    {
     "data": {
      "image/png": "[encoded data removed]",
      "text/plain": [
       "<Figure size 432x288 with 1 Axes>"
      ]
     },
     "metadata": {
      "needs_background": "light"
     },
     "output_type": "display_data"
    }
   ],
   "source": [
    "#\n",
    "# Visualize the output of the training model (work for jupyter notebook only)\n",
    "#\n",
    "import matplotlib.pyplot as plt\n",
    "check_visualization = \"yes\"\n",
    "if check_visualization== \"yes\":\n",
    "    #print(history.__dict__)\n",
    "    #print(history.history)\n",
    "    val_accuracy = history.history['val_accuracy']\n",
    "    accuracy = history.history['accuracy']\n",
    "    epochs = history.epoch \n",
    "    plt.plot(epochs,val_accuracy,'r',label=\"val accuracy\")\n",
    "    plt.plot(epochs,accuracy,'b',label=\"train accuracy\")\n",
    "    plt.legend()\n",
    "\n",
    "    plt.figure()\n",
    "    val_loss = history.history['val_loss']\n",
    "    loss = history.history['loss']\n",
    "    plt.plot(epochs,val_loss,'r',label=\"val loss\")\n",
    "    plt.plot(epochs,loss,'b',label=\"train loss\")\n",
    "    plt.legend()\n",
    "    plt.show()"
   ]
  },
  {
   "cell_type": "code",
   "execution_count": null,
   "id": "1a4f679c",
   "metadata": {},
   "outputs": [],
   "source": []
  }
 ],
 "metadata": {
  "kernelspec": {
   "display_name": "Python 3 (ipykernel)",
   "language": "python",
   "name": "python3"
  },
  "language_info": {
   "codemirror_mode": {
    "name": "ipython",
    "version": 3
   },
   "file_extension": ".py",
   "mimetype": "text/x-python",
   "name": "python",
   "nbconvert_exporter": "python",
   "pygments_lexer": "ipython3",
   "version": "3.10.5"
  }
 },
 "nbformat": 4,
 "nbformat_minor": 5
}
