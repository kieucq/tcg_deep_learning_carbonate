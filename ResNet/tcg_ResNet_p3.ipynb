{
 "cells": [
  {
   "cell_type": "code",
   "execution_count": 1,
   "id": "80518cb4",
   "metadata": {},
   "outputs": [
    {
     "name": "stderr",
     "output_type": "stream",
     "text": [
      "2023-06-13 11:28:04.865740: I tensorflow/core/util/util.cc:169] oneDNN custom operations are on. You may see slightly different numerical results due to floating-point round-off errors from different computation orders. To turn them off, set the environment variable `TF_ENABLE_ONEDNN_OPTS=0`.\n"
     ]
    }
   ],
   "source": [
    "#\n",
    "# NOTE: This machine learning program is for predicting TC formation, using\n",
    "#       input dataset in the NETCDF format. The program treats different\n",
    "#       2D input fields as different channels of an image. This specific\n",
    "#       program requires a set of 12 2D-variables (12-channel image) and\n",
    "#       consists of three stages\n",
    "#       - Stage 1: reading NETCDF input and generating (X,y) data with a\n",
    "#                  given image sizes, which are then saved by pickle;\n",
    "#       - Stage 2: import the saved pickle (X,y) pair and build a CNN model\n",
    "#                  with a given training/validation ratio, and then save\n",
    "#                  the train model under tcg_CNN.model.\n",
    "#       - Stage 3: import the trained model from Stage 2, and make a list\n",
    "#                  of prediction from normalized test data.\n",
    "#\n",
    "# INPUT: This Stage 3 script reads in the CNN trained model \"tcg_CNN.model\"\n",
    "#        that is generated from Step 2.\n",
    "#\n",
    "#        Remarks: Note that the input data for this script must be on the\n",
    "#        same as in Step 1 with standard 19 vertical\n",
    "#        levels 1000, 975, 950, 925, 900, 850, 800, 750, 700, 650, 600,\n",
    "#        550, 500, 450, 400, 350, 300, 250, 200. Also, all field vars must\n",
    "#        be resize to cover an area of 30x30 around the TC center for the\n",
    "#        positive data cases.\n",
    "#        Similar to Step 2, this Step 3 needs to also have a large mem\n",
    "#        allocation so that it can be run properly.\n",
    "#\n",
    "# OUTPUT: A list of probability forecast with the same dimension as the\n",
    "#        number of input 12-channel images.\n",
    "#\n",
    "# HIST: - 01, Nov 22: Created by CK\n",
    "#       - 02, Nov 22: Modified to optimize it\n",
    "#       - 05, Jun 23: Rechecked and added F1 score function for a list of model\n",
    "#       - 12, Jun 23: Customized for ResNet from the CNN functional model\n",
    "#\n",
    "# AUTH: Chanh Kieu (Indiana University, Bloomington. Email: ckieu@iu.edu)\n",
    "#\n",
    "#==========================================================================\n",
    "import cv2\n",
    "import tensorflow as tf\n",
    "import os\n",
    "from tqdm import tqdm\n",
    "import netCDF4\n",
    "import numpy as np"
   ]
  },
  {
   "cell_type": "code",
   "execution_count": 2,
   "id": "70d857fe",
   "metadata": {},
   "outputs": [],
   "source": [
    "#\n",
    "# Function to return input data as an numpy array\n",
    "#\n",
    "def prepare(filepath):\n",
    "    IMG_SIZE = 30\n",
    "    number_channels = 12\n",
    "    f = netCDF4.Dataset(filepath)\n",
    "    abv = f.variables['absvprs']\n",
    "    nx = np.size(abv[0,0,:])\n",
    "    ny = np.size(abv[0,:,0])\n",
    "    nz = np.size(abv[:,0,0])\n",
    "    #print('Dimension of input NETCDF is: ',nx,ny,nz)\n",
    "    a2 = np.zeros((nx,ny,number_channels))\n",
    "    for i in range(a2.shape[0]):\n",
    "        for j in range(a2.shape[1]):\n",
    "            a2[i,j,0] = abv[1,j,i]    # abs vort at 950 mb\n",
    "    rel = f.variables['rhprs']\n",
    "    for i in range(a2.shape[0]):\n",
    "        for j in range(a2.shape[1]):\n",
    "            a2[i,j,1] = rel[7,j,i]    # RH at 750 mb\n",
    "    sfc = f.variables['pressfc']\n",
    "    for i in range(a2.shape[0]):\n",
    "        for j in range(a2.shape[1]):\n",
    "            a2[i,j,2] = sfc[j,i]      # surface pressure\n",
    "    tmp = f.variables['tmpprs']\n",
    "    for i in range(a2.shape[0]):\n",
    "        for j in range(a2.shape[1]):\n",
    "            a2[i,j,3] = tmp[15,j,i]   # temperature at 400 mb\n",
    "    tsf = f.variables['tmpsfc']\n",
    "    for i in range(a2.shape[0]):\n",
    "        for j in range(a2.shape[1]):\n",
    "            a2[i,j,4] = tsf[j,i]      # surface temperature\n",
    "    ugr = f.variables['ugrdprs']\n",
    "    for i in range(a2.shape[0]):\n",
    "        for j in range(a2.shape[1]):\n",
    "            a2[i,j,5] = ugr[3,j,i]    # u-wind at 900 mb\n",
    "            a2[i,j,6] = ugr[17,j,i]   # u-wind at 300 mb\n",
    "    vgr = f.variables['vgrdprs']\n",
    "    for i in range(a2.shape[0]):\n",
    "        for j in range(a2.shape[1]):\n",
    "            a2[i,j,7] = vgr[3,j,i]    # v-wind at 900 mb\n",
    "            a2[i,j,8] = vgr[17,j,i]   # v-wind at 300 mb\n",
    "    hgt = f.variables['hgtprs']\n",
    "    for i in range(a2.shape[0]):\n",
    "        for j in range(a2.shape[1]):\n",
    "            a2[i,j,9] = hgt[3,j,i]    # geopotential at 850 mb\n",
    "    wgr = f.variables['vvelprs']\n",
    "    for i in range(a2.shape[0]):\n",
    "        for j in range(a2.shape[1]):\n",
    "            a2[i,j,10] = wgr[3,j,i]   # w-wind at 900 mb\n",
    "            a2[i,j,11] = wgr[17,j,i]  # w-wind at 300 mb\n",
    "    new_array = cv2.resize(a2, (IMG_SIZE, IMG_SIZE))\n",
    "    #\n",
    "    # normalize the data\n",
    "    #\n",
    "    #print('Number of channels to normalize is: ',number_channels)\n",
    "    for var in range(number_channels):\n",
    "        maxvalue = new_array[:,:,var].flat[np.abs(new_array[:,:,var]).argmax()]\n",
    "        #print('Normalization factor for channel',var,', is: ',abs(maxvalue))\n",
    "        new_array[:,:,var] = new_array[:,:,var]/abs(maxvalue)\n",
    "    out_array = np.reshape(new_array, (-1, IMG_SIZE, IMG_SIZE, number_channels))\n",
    "    #print('reshape new_array returns: ',out_array.shape)\n",
    "    #input('Enter to continue...')\n",
    "    return out_array"
   ]
  },
  {
   "cell_type": "code",
   "execution_count": 10,
   "id": "009028d1",
   "metadata": {},
   "outputs": [],
   "source": [
    "#\n",
    "# build an F1-score function for later use\n",
    "#\n",
    "def F1_score(y_true,y_prediction,true_class,true_threshold):\n",
    "    T = len(y_true)\n",
    "    if len(y_prediction) != T:\n",
    "        print(\"Prediction and true label arrays have different size. Stop\")\n",
    "        return\n",
    "    P = 0\n",
    "    TP = 0 \n",
    "    FN = 0\n",
    "    TN = 0\n",
    "    FP = 0\n",
    "    for i in range(T):\n",
    "        if y_true[i] == true_class:\n",
    "            P = P + 1       \n",
    "            if y_prediction[i] >= true_threshold:\n",
    "                TP += 1 \n",
    "            else:\n",
    "                FN += 1\n",
    "        else:\n",
    "            if y_prediction[i] >= true_threshold:\n",
    "                FP += 1 \n",
    "            else:\n",
    "                TN += 1            \n",
    "    N = T - P    \n",
    "    F1 = 2.*TP/(2.*TP + FP + FN)\n",
    "    Recall = TP/float(TP+FN)\n",
    "    if TP == 0 and FP == 0: \n",
    "        Precision = 0.\n",
    "    else:    \n",
    "        Precision = TP/float(TP+FP)\n",
    "    #print(\"TP,FP,TN,FN\",TP,FP,TN,FN)    \n",
    "    return F1, Recall, Precision"
   ]
  },
  {
   "cell_type": "code",
   "execution_count": 17,
   "id": "3c2815a5",
   "metadata": {},
   "outputs": [
    {
     "name": "stderr",
     "output_type": "stream",
     "text": [
      "\r",
      "  0%|                                                                                                                                                                  | 0/54 [00:00<?, ?it/s]"
     ]
    },
    {
     "name": "stdout",
     "output_type": "stream",
     "text": [
      "Processing image: /N/slate/ckieu/deep-learning/data/ncep_binary_30x30_00h/testing/neg/20210717_00_00_20.5_183.5.nc\n",
      "1/1 [==============================] - 1s 747ms/step\n"
     ]
    },
    {
     "name": "stderr",
     "output_type": "stream",
     "text": [
      "\r",
      "  2%|██▊                                                                                                                                                       | 1/54 [00:04<03:54,  4.42s/it]"
     ]
    },
    {
     "name": "stdout",
     "output_type": "stream",
     "text": [
      "TC formation prediction is [[0.00014702]] 0 neg\n",
      "Processing image: /N/slate/ckieu/deep-learning/data/ncep_binary_30x30_00h/testing/neg/20210728_06_00_11.7_307.5.nc\n",
      "1/1 [==============================] - 0s 35ms/step\n"
     ]
    },
    {
     "name": "stderr",
     "output_type": "stream",
     "text": [
      "\r",
      "  4%|█████▋                                                                                                                                                    | 2/54 [00:08<03:27,  4.00s/it]"
     ]
    },
    {
     "name": "stdout",
     "output_type": "stream",
     "text": [
      "TC formation prediction is [[0.00015427]] 0 neg\n",
      "Processing image: /N/slate/ckieu/deep-learning/data/ncep_binary_30x30_00h/testing/neg/20210830_00_00_58.2_348.5.nc\n",
      "1/1 [==============================] - 0s 32ms/step\n"
     ]
    },
    {
     "name": "stderr",
     "output_type": "stream",
     "text": [
      "\r",
      "  6%|████████▌                                                                                                                                                 | 3/54 [00:12<03:22,  3.97s/it]"
     ]
    },
    {
     "name": "stdout",
     "output_type": "stream",
     "text": [
      "TC formation prediction is [[0.00427262]] 0 neg\n",
      "Processing image: /N/slate/ckieu/deep-learning/data/ncep_binary_30x30_00h/testing/neg/20210705_00_00_18.2_175.3.nc\n",
      "1/1 [==============================] - 0s 36ms/step\n"
     ]
    },
    {
     "name": "stderr",
     "output_type": "stream",
     "text": [
      "\r",
      "  7%|███████████▍                                                                                                                                              | 4/54 [00:15<03:15,  3.90s/it]"
     ]
    },
    {
     "name": "stdout",
     "output_type": "stream",
     "text": [
      "TC formation prediction is [[0.00034354]] 0 neg\n",
      "Processing image: /N/slate/ckieu/deep-learning/data/ncep_binary_30x30_00h/testing/neg/20210805_00_00_31.6_197.4.nc\n",
      "1/1 [==============================] - 0s 32ms/step\n"
     ]
    },
    {
     "name": "stderr",
     "output_type": "stream",
     "text": [
      "\r",
      "  9%|██████████████▎                                                                                                                                           | 5/54 [00:19<03:07,  3.83s/it]"
     ]
    },
    {
     "name": "stdout",
     "output_type": "stream",
     "text": [
      "TC formation prediction is [[0.00107187]] 0 neg\n",
      "Processing image: /N/slate/ckieu/deep-learning/data/ncep_binary_30x30_00h/testing/neg/20210519_00_00_-5.2_266.3.nc\n",
      "1/1 [==============================] - 0s 32ms/step\n"
     ]
    },
    {
     "name": "stderr",
     "output_type": "stream",
     "text": [
      "\r",
      " 11%|█████████████████                                                                                                                                         | 6/54 [00:23<03:00,  3.77s/it]"
     ]
    },
    {
     "name": "stdout",
     "output_type": "stream",
     "text": [
      "TC formation prediction is [[0.00362061]] 0 neg\n",
      "Processing image: /N/slate/ckieu/deep-learning/data/ncep_binary_30x30_00h/testing/neg/20210612_00_00_18.2_160.0.nc\n",
      "1/1 [==============================] - 0s 37ms/step\n"
     ]
    },
    {
     "name": "stderr",
     "output_type": "stream",
     "text": [
      "\r",
      " 13%|███████████████████▉                                                                                                                                      | 7/54 [00:27<02:57,  3.78s/it]"
     ]
    },
    {
     "name": "stdout",
     "output_type": "stream",
     "text": [
      "TC formation prediction is [[0.00344648]] 0 neg\n",
      "Processing image: /N/slate/ckieu/deep-learning/data/ncep_binary_30x30_00h/testing/neg/20210728_00_00_32.6_167.8.nc\n",
      "1/1 [==============================] - 0s 29ms/step\n"
     ]
    },
    {
     "name": "stderr",
     "output_type": "stream",
     "text": [
      "\r",
      " 15%|██████████████████████▊                                                                                                                                   | 8/54 [00:30<02:52,  3.76s/it]"
     ]
    },
    {
     "name": "stdout",
     "output_type": "stream",
     "text": [
      "TC formation prediction is [[0.00233121]] 0 neg\n",
      "Processing image: /N/slate/ckieu/deep-learning/data/ncep_binary_30x30_00h/testing/neg/20210914_00_00_22.7_341.4.nc\n",
      "1/1 [==============================] - 0s 32ms/step\n"
     ]
    },
    {
     "name": "stderr",
     "output_type": "stream",
     "text": [
      "\r",
      " 17%|█████████████████████████▋                                                                                                                                | 9/54 [00:34<02:47,  3.72s/it]"
     ]
    },
    {
     "name": "stdout",
     "output_type": "stream",
     "text": [
      "TC formation prediction is [[8.01071e-05]] 0 neg\n",
      "Processing image: /N/slate/ckieu/deep-learning/data/ncep_binary_30x30_00h/testing/neg/20210904_12_00_12.6_310.7.nc\n",
      "1/1 [==============================] - 0s 29ms/step\n"
     ]
    },
    {
     "name": "stderr",
     "output_type": "stream",
     "text": [
      "\r",
      " 19%|████████████████████████████▎                                                                                                                            | 10/54 [00:37<02:41,  3.68s/it]"
     ]
    },
    {
     "name": "stdout",
     "output_type": "stream",
     "text": [
      "TC formation prediction is [[0.07584675]] 0 neg\n",
      "Processing image: /N/slate/ckieu/deep-learning/data/ncep_binary_30x30_00h/testing/neg/20210916_18_00_62.0_340.5.nc\n",
      "1/1 [==============================] - 0s 33ms/step\n"
     ]
    },
    {
     "name": "stderr",
     "output_type": "stream",
     "text": [
      "\r",
      " 20%|███████████████████████████████▏                                                                                                                         | 11/54 [00:41<02:40,  3.72s/it]"
     ]
    },
    {
     "name": "stdout",
     "output_type": "stream",
     "text": [
      "TC formation prediction is [[0.30751792]] 0 neg\n",
      "Processing image: /N/slate/ckieu/deep-learning/data/ncep_binary_30x30_00h/testing/neg/20210922_18_00_11.8_197.5.nc\n",
      "1/1 [==============================] - 0s 29ms/step\n"
     ]
    },
    {
     "name": "stderr",
     "output_type": "stream",
     "text": [
      "\r",
      " 22%|██████████████████████████████████                                                                                                                       | 12/54 [00:45<02:34,  3.68s/it]"
     ]
    },
    {
     "name": "stdout",
     "output_type": "stream",
     "text": [
      "TC formation prediction is [[0.00173608]] 0 neg\n",
      "Processing image: /N/slate/ckieu/deep-learning/data/ncep_binary_30x30_00h/testing/neg/20210621_00_00_11.2_197.4.nc\n",
      "1/1 [==============================] - 0s 31ms/step\n"
     ]
    },
    {
     "name": "stderr",
     "output_type": "stream",
     "text": [
      "\r",
      " 24%|████████████████████████████████████▊                                                                                                                    | 13/54 [00:48<02:29,  3.65s/it]"
     ]
    },
    {
     "name": "stdout",
     "output_type": "stream",
     "text": [
      "TC formation prediction is [[1.2833103e-05]] 0 neg\n",
      "Processing image: /N/slate/ckieu/deep-learning/data/ncep_binary_30x30_00h/testing/neg/20210806_12_00_15.0_308.0.nc\n",
      "1/1 [==============================] - 0s 37ms/step\n"
     ]
    },
    {
     "name": "stderr",
     "output_type": "stream",
     "text": [
      "\r",
      " 26%|███████████████████████████████████████▋                                                                                                                 | 14/54 [00:52<02:29,  3.73s/it]"
     ]
    },
    {
     "name": "stdout",
     "output_type": "stream",
     "text": [
      "TC formation prediction is [[0.00347058]] 0 neg\n",
      "Processing image: /N/slate/ckieu/deep-learning/data/ncep_binary_30x30_00h/testing/neg/20210929_00_00_57.0_338.0.nc\n",
      "1/1 [==============================] - 0s 32ms/step\n"
     ]
    },
    {
     "name": "stderr",
     "output_type": "stream",
     "text": [
      "\r",
      " 28%|██████████████████████████████████████████▌                                                                                                              | 15/54 [00:56<02:27,  3.77s/it]"
     ]
    },
    {
     "name": "stdout",
     "output_type": "stream",
     "text": [
      "TC formation prediction is [[0.00882059]] 0 neg\n",
      "Processing image: /N/slate/ckieu/deep-learning/data/ncep_binary_30x30_00h/testing/neg/20210508_12_00_12.7_304.4.nc\n",
      "1/1 [==============================] - 0s 29ms/step\n"
     ]
    },
    {
     "name": "stderr",
     "output_type": "stream",
     "text": [
      "\r",
      " 30%|█████████████████████████████████████████████▎                                                                                                           | 16/54 [01:00<02:21,  3.73s/it]"
     ]
    },
    {
     "name": "stdout",
     "output_type": "stream",
     "text": [
      "TC formation prediction is [[0.01316509]] 0 neg\n",
      "Processing image: /N/slate/ckieu/deep-learning/data/ncep_binary_30x30_00h/testing/neg/20210906_06_00_14.0_188.3.nc\n",
      "1/1 [==============================] - 0s 31ms/step\n"
     ]
    },
    {
     "name": "stderr",
     "output_type": "stream",
     "text": [
      "\r",
      " 31%|████████████████████████████████████████████████▏                                                                                                        | 17/54 [01:04<02:18,  3.74s/it]"
     ]
    },
    {
     "name": "stdout",
     "output_type": "stream",
     "text": [
      "TC formation prediction is [[0.07262429]] 0 neg\n",
      "Processing image: /N/slate/ckieu/deep-learning/data/ncep_binary_30x30_00h/testing/neg/20210923_12_00_62.7_336.6.nc\n",
      "1/1 [==============================] - 0s 30ms/step\n"
     ]
    },
    {
     "name": "stderr",
     "output_type": "stream",
     "text": [
      "\r",
      " 33%|███████████████████████████████████████████████████                                                                                                      | 18/54 [01:07<02:14,  3.75s/it]"
     ]
    },
    {
     "name": "stdout",
     "output_type": "stream",
     "text": [
      "TC formation prediction is [[0.7846691]] 1 pos\n",
      "Processing image: /N/slate/ckieu/deep-learning/data/ncep_binary_30x30_00h/testing/neg/20210613_12_00_31.4_330.8.nc\n",
      "1/1 [==============================] - 0s 31ms/step\n"
     ]
    },
    {
     "name": "stderr",
     "output_type": "stream",
     "text": [
      "\r",
      " 35%|█████████████████████████████████████████████████████▊                                                                                                   | 19/54 [01:11<02:09,  3.69s/it]"
     ]
    },
    {
     "name": "stdout",
     "output_type": "stream",
     "text": [
      "TC formation prediction is [[0.7613915]] 1 pos\n",
      "Processing image: /N/slate/ckieu/deep-learning/data/ncep_binary_30x30_00h/testing/neg/20210724_00_00_25.0_199.5.nc\n",
      "1/1 [==============================] - 0s 30ms/step\n"
     ]
    },
    {
     "name": "stderr",
     "output_type": "stream",
     "text": [
      "\r",
      " 37%|████████████████████████████████████████████████████████▋                                                                                                | 20/54 [01:15<02:05,  3.70s/it]"
     ]
    },
    {
     "name": "stdout",
     "output_type": "stream",
     "text": [
      "TC formation prediction is [[0.00018952]] 0 neg\n",
      "Processing image: /N/slate/ckieu/deep-learning/data/ncep_binary_30x30_00h/testing/neg/20210831_00_00_11.2_335.7.nc\n",
      "1/1 [==============================] - 0s 31ms/step\n"
     ]
    },
    {
     "name": "stderr",
     "output_type": "stream",
     "text": [
      "\r",
      " 39%|███████████████████████████████████████████████████████████▌                                                                                             | 21/54 [01:18<02:02,  3.73s/it]"
     ]
    },
    {
     "name": "stdout",
     "output_type": "stream",
     "text": [
      "TC formation prediction is [[0.56215626]] 1 pos\n",
      "Processing image: /N/slate/ckieu/deep-learning/data/ncep_binary_30x30_00h/testing/neg/20210922_18_00_48.4_147.8.nc\n",
      "1/1 [==============================] - 0s 29ms/step\n"
     ]
    },
    {
     "name": "stderr",
     "output_type": "stream",
     "text": [
      "\r",
      " 41%|██████████████████████████████████████████████████████████████▎                                                                                          | 22/54 [01:22<01:58,  3.69s/it]"
     ]
    },
    {
     "name": "stdout",
     "output_type": "stream",
     "text": [
      "TC formation prediction is [[0.0772523]] 0 neg\n",
      "Processing image: /N/slate/ckieu/deep-learning/data/ncep_binary_30x30_00h/testing/neg/20210603_18_00_10.8_304.4.nc\n",
      "1/1 [==============================] - 0s 36ms/step\n"
     ]
    },
    {
     "name": "stderr",
     "output_type": "stream",
     "text": [
      "\r",
      " 43%|█████████████████████████████████████████████████████████████████▏                                                                                       | 23/54 [01:26<01:54,  3.69s/it]"
     ]
    },
    {
     "name": "stdout",
     "output_type": "stream",
     "text": [
      "TC formation prediction is [[0.20249963]] 0 neg\n",
      "Processing image: /N/slate/ckieu/deep-learning/data/ncep_binary_30x30_00h/testing/neg/20210807_18_00_46.6_346.1.nc\n",
      "1/1 [==============================] - 0s 31ms/step\n"
     ]
    },
    {
     "name": "stderr",
     "output_type": "stream",
     "text": [
      "\r",
      " 44%|████████████████████████████████████████████████████████████████████                                                                                     | 24/54 [01:30<01:52,  3.74s/it]"
     ]
    },
    {
     "name": "stdout",
     "output_type": "stream",
     "text": [
      "TC formation prediction is [[0.00015181]] 0 neg\n",
      "Processing image: /N/slate/ckieu/deep-learning/data/ncep_binary_30x30_00h/testing/neg/20210626_12_00_28.2_345.1.nc\n",
      "1/1 [==============================] - 0s 34ms/step\n"
     ]
    },
    {
     "name": "stderr",
     "output_type": "stream",
     "text": [
      "\r",
      " 46%|██████████████████████████████████████████████████████████████████████▊                                                                                  | 25/54 [01:33<01:49,  3.78s/it]"
     ]
    },
    {
     "name": "stdout",
     "output_type": "stream",
     "text": [
      "TC formation prediction is [[0.01974428]] 0 neg\n",
      "Processing image: /N/slate/ckieu/deep-learning/data/ncep_binary_30x30_00h/testing/neg/20210823_00_00_11.6_318.5.nc\n",
      "1/1 [==============================] - 0s 29ms/step\n"
     ]
    },
    {
     "name": "stderr",
     "output_type": "stream",
     "text": [
      "\r",
      " 48%|█████████████████████████████████████████████████████████████████████████▋                                                                               | 26/54 [01:37<01:45,  3.76s/it]"
     ]
    },
    {
     "name": "stdout",
     "output_type": "stream",
     "text": [
      "TC formation prediction is [[0.7775186]] 1 pos\n",
      "Processing image: /N/slate/ckieu/deep-learning/data/ncep_binary_30x30_00h/testing/neg/20210616_06_00_13.3_314.6.nc\n",
      "1/1 [==============================] - 0s 49ms/step\n"
     ]
    },
    {
     "name": "stderr",
     "output_type": "stream",
     "text": [
      "\r",
      " 50%|████████████████████████████████████████████████████████████████████████████▌                                                                            | 27/54 [01:41<01:40,  3.72s/it]"
     ]
    },
    {
     "name": "stdout",
     "output_type": "stream",
     "text": [
      "TC formation prediction is [[6.6201533e-06]] 0 neg\n",
      "Processing image: /N/slate/ckieu/deep-learning/data/ncep_binary_30x30_00h/testing/neg/20210719_00_00_20.9_163.1.nc\n",
      "1/1 [==============================] - 0s 30ms/step\n"
     ]
    },
    {
     "name": "stderr",
     "output_type": "stream",
     "text": [
      "\r",
      " 52%|███████████████████████████████████████████████████████████████████████████████▎                                                                         | 28/54 [01:44<01:35,  3.68s/it]"
     ]
    },
    {
     "name": "stdout",
     "output_type": "stream",
     "text": [
      "TC formation prediction is [[0.00325209]] 0 neg\n",
      "Processing image: /N/slate/ckieu/deep-learning/data/ncep_binary_30x30_00h/testing/neg/20210716_12_00_13.5_307.2.nc\n",
      "1/1 [==============================] - 0s 32ms/step\n"
     ]
    },
    {
     "name": "stderr",
     "output_type": "stream",
     "text": [
      "\r",
      " 54%|██████████████████████████████████████████████████████████████████████████████████▏                                                                      | 29/54 [01:48<01:31,  3.67s/it]"
     ]
    },
    {
     "name": "stdout",
     "output_type": "stream",
     "text": [
      "TC formation prediction is [[0.19657078]] 0 neg\n",
      "Processing image: /N/slate/ckieu/deep-learning/data/ncep_binary_30x30_00h/testing/neg/20210814_00_00_37.5_345.4.nc\n",
      "1/1 [==============================] - 0s 31ms/step\n"
     ]
    },
    {
     "name": "stderr",
     "output_type": "stream",
     "text": [
      "\r",
      " 56%|█████████████████████████████████████████████████████████████████████████████████████                                                                    | 30/54 [01:52<01:28,  3.67s/it]"
     ]
    },
    {
     "name": "stdout",
     "output_type": "stream",
     "text": [
      "TC formation prediction is [[7.5320575e-05]] 0 neg\n",
      "Processing image: /N/slate/ckieu/deep-learning/data/ncep_binary_30x30_00h/testing/neg/20210529_18_00_6.4_184.5.nc\n",
      "1/1 [==============================] - 0s 36ms/step\n"
     ]
    },
    {
     "name": "stderr",
     "output_type": "stream",
     "text": [
      "\r",
      " 57%|███████████████████████████████████████████████████████████████████████████████████████▊                                                                 | 31/54 [01:55<01:24,  3.65s/it]"
     ]
    },
    {
     "name": "stdout",
     "output_type": "stream",
     "text": [
      "TC formation prediction is [[0.00014184]] 0 neg\n",
      "Processing image: /N/slate/ckieu/deep-learning/data/ncep_binary_30x30_00h/testing/neg/20210822_00_00_62.6_345.2.nc\n",
      "1/1 [==============================] - 0s 32ms/step\n"
     ]
    },
    {
     "name": "stderr",
     "output_type": "stream",
     "text": [
      "\r",
      " 59%|██████████████████████████████████████████████████████████████████████████████████████████▋                                                              | 32/54 [01:59<01:21,  3.73s/it]"
     ]
    },
    {
     "name": "stdout",
     "output_type": "stream",
     "text": [
      "TC formation prediction is [[0.63915104]] 1 pos\n",
      "Processing image: /N/slate/ckieu/deep-learning/data/ncep_binary_30x30_00h/testing/neg/20210821_18_00_61.2_335.1.nc\n",
      "1/1 [==============================] - 0s 38ms/step\n"
     ]
    },
    {
     "name": "stderr",
     "output_type": "stream",
     "text": [
      "\r",
      " 61%|█████████████████████████████████████████████████████████████████████████████████████████████▌                                                           | 33/54 [02:03<01:17,  3.70s/it]"
     ]
    },
    {
     "name": "stdout",
     "output_type": "stream",
     "text": [
      "TC formation prediction is [[0.0416503]] 0 neg\n",
      "Processing image: /N/slate/ckieu/deep-learning/data/ncep_binary_30x30_00h/testing/neg/20210906_00_00_10.5_177.5.nc\n",
      "1/1 [==============================] - 0s 32ms/step\n"
     ]
    },
    {
     "name": "stderr",
     "output_type": "stream",
     "text": [
      "\r",
      " 63%|████████████████████████████████████████████████████████████████████████████████████████████████▎                                                        | 34/54 [02:06<01:13,  3.68s/it]"
     ]
    },
    {
     "name": "stdout",
     "output_type": "stream",
     "text": [
      "TC formation prediction is [[0.001181]] 0 neg\n",
      "Processing image: /N/slate/ckieu/deep-learning/data/ncep_binary_30x30_00h/testing/neg/20210730_12_00_11.3_310.6.nc\n",
      "1/1 [==============================] - 0s 37ms/step\n"
     ]
    },
    {
     "name": "stderr",
     "output_type": "stream",
     "text": [
      "\r",
      " 65%|███████████████████████████████████████████████████████████████████████████████████████████████████▏                                                     | 35/54 [02:10<01:09,  3.67s/it]"
     ]
    },
    {
     "name": "stdout",
     "output_type": "stream",
     "text": [
      "TC formation prediction is [[0.00079706]] 0 neg\n",
      "Processing image: /N/slate/ckieu/deep-learning/data/ncep_binary_30x30_00h/testing/neg/20210528_18_00_8.9_312.7.nc\n",
      "1/1 [==============================] - 0s 32ms/step\n"
     ]
    },
    {
     "name": "stderr",
     "output_type": "stream",
     "text": [
      "\r",
      " 67%|██████████████████████████████████████████████████████████████████████████████████████████████████████                                                   | 36/54 [02:14<01:06,  3.68s/it]"
     ]
    },
    {
     "name": "stdout",
     "output_type": "stream",
     "text": [
      "TC formation prediction is [[0.00456568]] 0 neg\n",
      "Processing image: /N/slate/ckieu/deep-learning/data/ncep_binary_30x30_00h/testing/neg/20210808_18_00_10.7_315.6.nc\n",
      "1/1 [==============================] - 0s 30ms/step\n"
     ]
    },
    {
     "name": "stderr",
     "output_type": "stream",
     "text": [
      "\r",
      " 69%|████████████████████████████████████████████████████████████████████████████████████████████████████████▊                                                | 37/54 [02:17<01:02,  3.66s/it]"
     ]
    },
    {
     "name": "stdout",
     "output_type": "stream",
     "text": [
      "TC formation prediction is [[0.00208181]] 0 neg\n",
      "Processing image: /N/slate/ckieu/deep-learning/data/ncep_binary_30x30_00h/testing/neg/20210919_00_00_60.3_348.5.nc\n",
      "1/1 [==============================] - 0s 33ms/step\n"
     ]
    },
    {
     "name": "stderr",
     "output_type": "stream",
     "text": [
      "\r",
      " 70%|███████████████████████████████████████████████████████████████████████████████████████████████████████████▋                                             | 38/54 [02:21<00:59,  3.71s/it]"
     ]
    },
    {
     "name": "stdout",
     "output_type": "stream",
     "text": [
      "TC formation prediction is [[0.11397795]] 0 neg\n",
      "Processing image: /N/slate/ckieu/deep-learning/data/ncep_binary_30x30_00h/testing/neg/20210614_18_00_19.8_314.9.nc\n",
      "1/1 [==============================] - 0s 31ms/step\n"
     ]
    },
    {
     "name": "stderr",
     "output_type": "stream",
     "text": [
      "\r",
      " 72%|██████████████████████████████████████████████████████████████████████████████████████████████████████████████▌                                          | 39/54 [02:25<00:55,  3.72s/it]"
     ]
    },
    {
     "name": "stdout",
     "output_type": "stream",
     "text": [
      "TC formation prediction is [[0.00258945]] 0 neg\n",
      "Processing image: /N/slate/ckieu/deep-learning/data/ncep_binary_30x30_00h/testing/neg/20210824_06_00_47.2_331.2.nc\n",
      "1/1 [==============================] - 0s 32ms/step\n"
     ]
    },
    {
     "name": "stderr",
     "output_type": "stream",
     "text": [
      "\r",
      " 74%|█████████████████████████████████████████████████████████████████████████████████████████████████████████████████▎                                       | 40/54 [02:29<00:51,  3.68s/it]"
     ]
    },
    {
     "name": "stdout",
     "output_type": "stream",
     "text": [
      "TC formation prediction is [[0.4733573]] 0 neg\n",
      "Processing image: /N/slate/ckieu/deep-learning/data/ncep_binary_30x30_00h/testing/neg/20210630_18_00_44.8_352.6.nc\n",
      "1/1 [==============================] - 0s 32ms/step\n"
     ]
    },
    {
     "name": "stderr",
     "output_type": "stream",
     "text": [
      "\r",
      " 76%|████████████████████████████████████████████████████████████████████████████████████████████████████████████████████▏                                    | 41/54 [02:32<00:48,  3.69s/it]"
     ]
    },
    {
     "name": "stdout",
     "output_type": "stream",
     "text": [
      "TC formation prediction is [[0.02398093]] 0 neg\n",
      "Processing image: /N/slate/ckieu/deep-learning/data/ncep_binary_30x30_00h/testing/neg/20210803_00_00_26.6_202.1.nc\n",
      "1/1 [==============================] - 0s 36ms/step\n"
     ]
    },
    {
     "name": "stderr",
     "output_type": "stream",
     "text": [
      "\r",
      " 78%|███████████████████████████████████████████████████████████████████████████████████████████████████████████████████████                                  | 42/54 [02:36<00:44,  3.72s/it]"
     ]
    },
    {
     "name": "stdout",
     "output_type": "stream",
     "text": [
      "TC formation prediction is [[0.00184353]] 0 neg\n",
      "Processing image: /N/slate/ckieu/deep-learning/data/ncep_binary_30x30_00h/testing/neg/20210713_00_00_10.9_304.8.nc\n",
      "1/1 [==============================] - 0s 32ms/step\n"
     ]
    },
    {
     "name": "stderr",
     "output_type": "stream",
     "text": [
      "\r",
      " 80%|█████████████████████████████████████████████████████████████████████████████████████████████████████████████████████████▊                               | 43/54 [02:40<00:40,  3.70s/it]"
     ]
    },
    {
     "name": "stdout",
     "output_type": "stream",
     "text": [
      "TC formation prediction is [[0.00019802]] 0 neg\n",
      "Processing image: /N/slate/ckieu/deep-learning/data/ncep_binary_30x30_00h/testing/neg/20210910_12_00_17.0_321.0.nc\n",
      "1/1 [==============================] - 0s 34ms/step\n"
     ]
    },
    {
     "name": "stderr",
     "output_type": "stream",
     "text": [
      "\r",
      " 81%|████████████████████████████████████████████████████████████████████████████████████████████████████████████████████████████▋                            | 44/54 [02:44<00:37,  3.79s/it]"
     ]
    },
    {
     "name": "stdout",
     "output_type": "stream",
     "text": [
      "TC formation prediction is [[0.00160765]] 0 neg\n",
      "Processing image: /N/slate/ckieu/deep-learning/data/ncep_binary_30x30_00h/testing/neg/20210810_12_00_12.2_229.0.nc\n",
      "1/1 [==============================] - 0s 29ms/step\n"
     ]
    },
    {
     "name": "stderr",
     "output_type": "stream",
     "text": [
      "\r",
      " 83%|███████████████████████████████████████████████████████████████████████████████████████████████████████████████████████████████▌                         | 45/54 [02:48<00:34,  3.82s/it]"
     ]
    },
    {
     "name": "stdout",
     "output_type": "stream",
     "text": [
      "TC formation prediction is [[0.04290828]] 0 neg\n",
      "Processing image: /N/slate/ckieu/deep-learning/data/ncep_binary_30x30_00h/testing/neg/20210512_18_00_7.1_179.8.nc\n",
      "1/1 [==============================] - 0s 32ms/step\n"
     ]
    },
    {
     "name": "stderr",
     "output_type": "stream",
     "text": [
      "\r",
      " 85%|██████████████████████████████████████████████████████████████████████████████████████████████████████████████████████████████████▎                      | 46/54 [02:51<00:30,  3.79s/it]"
     ]
    },
    {
     "name": "stdout",
     "output_type": "stream",
     "text": [
      "TC formation prediction is [[0.00125504]] 0 neg\n",
      "Processing image: /N/slate/ckieu/deep-learning/data/ncep_binary_30x30_00h/testing/neg/20210913_12_00_60.0_348.2.nc\n",
      "1/1 [==============================] - 0s 32ms/step\n"
     ]
    },
    {
     "name": "stderr",
     "output_type": "stream",
     "text": [
      "\r",
      " 87%|█████████████████████████████████████████████████████████████████████████████████████████████████████████████████████████████████████▏                   | 47/54 [02:55<00:26,  3.85s/it]"
     ]
    },
    {
     "name": "stdout",
     "output_type": "stream",
     "text": [
      "TC formation prediction is [[0.75077444]] 1 pos\n",
      "Processing image: /N/slate/ckieu/deep-learning/data/ncep_binary_30x30_00h/testing/neg/20210805_00_00_26.4_176.5.nc\n",
      "1/1 [==============================] - 0s 32ms/step\n"
     ]
    },
    {
     "name": "stderr",
     "output_type": "stream",
     "text": [
      "\r",
      " 89%|████████████████████████████████████████████████████████████████████████████████████████████████████████████████████████████████████████                 | 48/54 [02:59<00:22,  3.77s/it]"
     ]
    },
    {
     "name": "stdout",
     "output_type": "stream",
     "text": [
      "TC formation prediction is [[0.26887658]] 0 neg\n",
      "Processing image: /N/slate/ckieu/deep-learning/data/ncep_binary_30x30_00h/testing/neg/20210902_00_00_26.9_209.7.nc\n",
      "1/1 [==============================] - 0s 35ms/step\n"
     ]
    },
    {
     "name": "stderr",
     "output_type": "stream",
     "text": [
      "\r",
      " 91%|██████████████████████████████████████████████████████████████████████████████████████████████████████████████████████████████████████████▊              | 49/54 [03:03<00:18,  3.72s/it]"
     ]
    },
    {
     "name": "stdout",
     "output_type": "stream",
     "text": [
      "TC formation prediction is [[0.00053039]] 0 neg\n",
      "Processing image: /N/slate/ckieu/deep-learning/data/ncep_binary_30x30_00h/testing/neg/20210725_12_00_13.7_298.4.nc\n",
      "1/1 [==============================] - 0s 33ms/step\n"
     ]
    },
    {
     "name": "stderr",
     "output_type": "stream",
     "text": [
      "\r",
      " 93%|█████████████████████████████████████████████████████████████████████████████████████████████████████████████████████████████████████████████▋           | 50/54 [03:06<00:14,  3.73s/it]"
     ]
    },
    {
     "name": "stdout",
     "output_type": "stream",
     "text": [
      "TC formation prediction is [[0.00587788]] 0 neg\n",
      "Processing image: /N/slate/ckieu/deep-learning/data/ncep_binary_30x30_00h/testing/neg/20210822_18_00_19.3_302.5.nc\n",
      "1/1 [==============================] - 0s 29ms/step\n"
     ]
    },
    {
     "name": "stderr",
     "output_type": "stream",
     "text": [
      "\r",
      " 94%|████████████████████████████████████████████████████████████████████████████████████████████████████████████████████████████████████████████████▌        | 51/54 [03:10<00:11,  3.71s/it]"
     ]
    },
    {
     "name": "stdout",
     "output_type": "stream",
     "text": [
      "TC formation prediction is [[0.00814088]] 0 neg\n",
      "Processing image: /N/slate/ckieu/deep-learning/data/ncep_binary_30x30_00h/testing/neg/20210809_18_00_61.5_339.4.nc\n",
      "1/1 [==============================] - 0s 35ms/step\n"
     ]
    },
    {
     "name": "stderr",
     "output_type": "stream",
     "text": [
      "\r",
      " 96%|███████████████████████████████████████████████████████████████████████████████████████████████████████████████████████████████████████████████████▎     | 52/54 [03:14<00:07,  3.68s/it]"
     ]
    },
    {
     "name": "stdout",
     "output_type": "stream",
     "text": [
      "TC formation prediction is [[0.0043095]] 0 neg\n",
      "Processing image: /N/slate/ckieu/deep-learning/data/ncep_binary_30x30_00h/testing/neg/20210622_00_00_8.1_325.7.nc\n",
      "1/1 [==============================] - 0s 35ms/step\n"
     ]
    },
    {
     "name": "stderr",
     "output_type": "stream",
     "text": [
      "\r",
      " 98%|██████████████████████████████████████████████████████████████████████████████████████████████████████████████████████████████████████████████████████▏  | 53/54 [03:17<00:03,  3.71s/it]"
     ]
    },
    {
     "name": "stdout",
     "output_type": "stream",
     "text": [
      "TC formation prediction is [[0.00205327]] 0 neg\n",
      "Processing image: /N/slate/ckieu/deep-learning/data/ncep_binary_30x30_00h/testing/neg/20210803_00_00_56.7_148.8.nc\n",
      "1/1 [==============================] - 0s 30ms/step\n"
     ]
    },
    {
     "name": "stderr",
     "output_type": "stream",
     "text": [
      "100%|█████████████████████████████████████████████████████████████████████████████████████████████████████████████████████████████████████████████████████████| 54/54 [03:21<00:00,  3.73s/it]\n"
     ]
    },
    {
     "name": "stdout",
     "output_type": "stream",
     "text": [
      "TC formation prediction is [[7.312997e-05]] 0 neg\n"
     ]
    },
    {
     "name": "stderr",
     "output_type": "stream",
     "text": [
      "\r",
      "  0%|                                                                                                                                                                  | 0/54 [00:00<?, ?it/s]"
     ]
    },
    {
     "name": "stdout",
     "output_type": "stream",
     "text": [
      "Processing image: /N/slate/ckieu/deep-learning/data/ncep_binary_30x30_00h/testing/pos/20210914_00_00_22.7_291.4_2021257N23291.nc\n",
      "1/1 [==============================] - 0s 31ms/step\n"
     ]
    },
    {
     "name": "stderr",
     "output_type": "stream",
     "text": [
      "\r",
      "  2%|██▊                                                                                                                                                       | 1/54 [00:03<03:10,  3.60s/it]"
     ]
    },
    {
     "name": "stdout",
     "output_type": "stream",
     "text": [
      "TC formation prediction is [[0.01796379]] 0 neg\n",
      "Processing image: /N/slate/ckieu/deep-learning/data/ncep_binary_30x30_00h/testing/pos/20210806_12_00_15.0_258.0_2021219N15258.nc\n",
      "1/1 [==============================] - 0s 36ms/step\n"
     ]
    },
    {
     "name": "stderr",
     "output_type": "stream",
     "text": [
      "\r",
      "  4%|█████▋                                                                                                                                                    | 2/54 [00:07<03:16,  3.78s/it]"
     ]
    },
    {
     "name": "stdout",
     "output_type": "stream",
     "text": [
      "TC formation prediction is [[0.68949264]] 1 pos\n",
      "Processing image: /N/slate/ckieu/deep-learning/data/ncep_binary_30x30_00h/testing/pos/20210614_18_00_19.8_264.9_2021166N20265.nc\n",
      "1/1 [==============================] - 0s 32ms/step\n"
     ]
    },
    {
     "name": "stderr",
     "output_type": "stream",
     "text": [
      "\r",
      "  6%|████████▌                                                                                                                                                 | 3/54 [00:11<03:10,  3.73s/it]"
     ]
    },
    {
     "name": "stdout",
     "output_type": "stream",
     "text": [
      "TC formation prediction is [[0.99059814]] 1 pos\n",
      "Processing image: /N/slate/ckieu/deep-learning/data/ncep_binary_30x30_00h/testing/pos/20210612_00_00_18.2_110.0_2021163N18110.nc\n",
      "1/1 [==============================] - 0s 31ms/step\n"
     ]
    },
    {
     "name": "stderr",
     "output_type": "stream",
     "text": [
      "\r",
      "  7%|███████████▍                                                                                                                                              | 4/54 [00:14<03:05,  3.71s/it]"
     ]
    },
    {
     "name": "stdout",
     "output_type": "stream",
     "text": [
      "TC formation prediction is [[0.9994373]] 1 pos\n",
      "Processing image: /N/slate/ckieu/deep-learning/data/ncep_binary_30x30_00h/testing/pos/20210724_00_00_25.0_149.5_2021205N25150.nc\n",
      "1/1 [==============================] - 0s 30ms/step\n"
     ]
    },
    {
     "name": "stderr",
     "output_type": "stream",
     "text": [
      "\r",
      "  9%|██████████████▎                                                                                                                                           | 5/54 [00:18<03:02,  3.72s/it]"
     ]
    },
    {
     "name": "stdout",
     "output_type": "stream",
     "text": [
      "TC formation prediction is [[0.9890014]] 1 pos\n",
      "Processing image: /N/slate/ckieu/deep-learning/data/ncep_binary_30x30_00h/testing/pos/20210923_12_00_27.3_301.2_2021267N27301.nc\n",
      "1/1 [==============================] - 0s 30ms/step\n"
     ]
    },
    {
     "name": "stderr",
     "output_type": "stream",
     "text": [
      "\r",
      " 11%|█████████████████                                                                                                                                         | 6/54 [00:22<02:58,  3.71s/it]"
     ]
    },
    {
     "name": "stdout",
     "output_type": "stream",
     "text": [
      "TC formation prediction is [[0.7430748]] 1 pos\n",
      "Processing image: /N/slate/ckieu/deep-learning/data/ncep_binary_30x30_00h/testing/pos/20210713_00_00_10.9_254.8_2021194N11255.nc\n",
      "1/1 [==============================] - 0s 32ms/step\n"
     ]
    },
    {
     "name": "stderr",
     "output_type": "stream",
     "text": [
      "\r",
      " 13%|███████████████████▉                                                                                                                                      | 7/54 [00:26<02:56,  3.75s/it]"
     ]
    },
    {
     "name": "stdout",
     "output_type": "stream",
     "text": [
      "TC formation prediction is [[0.81038225]] 1 pos\n",
      "Processing image: /N/slate/ckieu/deep-learning/data/ncep_binary_30x30_00h/testing/pos/20210803_00_00_26.6_152.1_2021215N27152.nc\n",
      "1/1 [==============================] - 0s 32ms/step\n"
     ]
    },
    {
     "name": "stderr",
     "output_type": "stream",
     "text": [
      "\r",
      " 15%|██████████████████████▊                                                                                                                                   | 8/54 [00:29<02:51,  3.72s/it]"
     ]
    },
    {
     "name": "stdout",
     "output_type": "stream",
     "text": [
      "TC formation prediction is [[0.99831223]] 1 pos\n",
      "Processing image: /N/slate/ckieu/deep-learning/data/ncep_binary_30x30_00h/testing/pos/20210705_00_00_18.2_125.3_2021186N18125.nc\n",
      "1/1 [==============================] - 0s 30ms/step\n"
     ]
    },
    {
     "name": "stderr",
     "output_type": "stream",
     "text": [
      "\r",
      " 17%|█████████████████████████▋                                                                                                                                | 9/54 [00:33<02:46,  3.69s/it]"
     ]
    },
    {
     "name": "stdout",
     "output_type": "stream",
     "text": [
      "TC formation prediction is [[0.95516914]] 1 pos\n",
      "Processing image: /N/slate/ckieu/deep-learning/data/ncep_binary_30x30_00h/testing/pos/20210716_12_00_13.5_257.2_2021198N13257.nc\n",
      "1/1 [==============================] - 0s 34ms/step\n"
     ]
    },
    {
     "name": "stderr",
     "output_type": "stream",
     "text": [
      "\r",
      " 19%|████████████████████████████▎                                                                                                                            | 10/54 [00:37<02:41,  3.68s/it]"
     ]
    },
    {
     "name": "stdout",
     "output_type": "stream",
     "text": [
      "TC formation prediction is [[0.990316]] 1 pos\n",
      "Processing image: /N/slate/ckieu/deep-learning/data/ncep_binary_30x30_00h/testing/pos/20210805_00_00_26.4_126.5_2021217N26127.nc\n",
      "1/1 [==============================] - 0s 30ms/step\n"
     ]
    },
    {
     "name": "stderr",
     "output_type": "stream",
     "text": [
      "\r",
      " 20%|███████████████████████████████▏                                                                                                                         | 11/54 [00:40<02:38,  3.68s/it]"
     ]
    },
    {
     "name": "stdout",
     "output_type": "stream",
     "text": [
      "TC formation prediction is [[0.9957106]] 1 pos\n",
      "Processing image: /N/slate/ckieu/deep-learning/data/ncep_binary_30x30_00h/testing/pos/20210528_18_00_8.9_262.7_2021149N09263.nc\n",
      "1/1 [==============================] - 0s 36ms/step\n"
     ]
    },
    {
     "name": "stderr",
     "output_type": "stream",
     "text": [
      "\r",
      " 22%|██████████████████████████████████                                                                                                                       | 12/54 [00:44<02:35,  3.69s/it]"
     ]
    },
    {
     "name": "stdout",
     "output_type": "stream",
     "text": [
      "TC formation prediction is [[0.9412428]] 1 pos\n",
      "Processing image: /N/slate/ckieu/deep-learning/data/ncep_binary_30x30_00h/testing/pos/20210622_00_00_8.1_275.7_2021173N08276.nc\n",
      "1/1 [==============================] - 0s 32ms/step\n"
     ]
    },
    {
     "name": "stderr",
     "output_type": "stream",
     "text": [
      "\r",
      " 24%|████████████████████████████████████▊                                                                                                                    | 13/54 [00:48<02:31,  3.70s/it]"
     ]
    },
    {
     "name": "stdout",
     "output_type": "stream",
     "text": [
      "TC formation prediction is [[0.13884468]] 0 neg\n",
      "Processing image: /N/slate/ckieu/deep-learning/data/ncep_binary_30x30_00h/testing/pos/20210717_00_00_20.5_133.5_2021198N21134.nc\n",
      "1/1 [==============================] - 0s 30ms/step\n"
     ]
    },
    {
     "name": "stderr",
     "output_type": "stream",
     "text": [
      "\r",
      " 26%|███████████████████████████████████████▋                                                                                                                 | 14/54 [00:51<02:28,  3.71s/it]"
     ]
    },
    {
     "name": "stdout",
     "output_type": "stream",
     "text": [
      "TC formation prediction is [[0.99801815]] 1 pos\n",
      "Processing image: /N/slate/ckieu/deep-learning/data/ncep_binary_30x30_00h/testing/pos/20210613_12_00_31.4_280.8_2021165N31281.nc\n",
      "1/1 [==============================] - 0s 34ms/step\n"
     ]
    },
    {
     "name": "stderr",
     "output_type": "stream",
     "text": [
      "\r",
      " 28%|██████████████████████████████████████████▌                                                                                                              | 15/54 [00:55<02:23,  3.69s/it]"
     ]
    },
    {
     "name": "stdout",
     "output_type": "stream",
     "text": [
      "TC formation prediction is [[0.75224745]] 1 pos\n",
      "Processing image: /N/slate/ckieu/deep-learning/data/ncep_binary_30x30_00h/testing/pos/20210630_18_00_9.4_317.2_2021182N09317.nc\n",
      "1/1 [==============================] - 0s 31ms/step\n"
     ]
    },
    {
     "name": "stderr",
     "output_type": "stream",
     "text": [
      "\r",
      " 30%|█████████████████████████████████████████████▎                                                                                                           | 16/54 [00:59<02:19,  3.67s/it]"
     ]
    },
    {
     "name": "stdout",
     "output_type": "stream",
     "text": [
      "TC formation prediction is [[0.9998672]] 1 pos\n",
      "Processing image: /N/slate/ckieu/deep-learning/data/ncep_binary_30x30_00h/testing/pos/20210621_00_00_11.2_147.4_2021172N11147.nc\n",
      "1/1 [==============================] - 0s 30ms/step\n"
     ]
    },
    {
     "name": "stderr",
     "output_type": "stream",
     "text": [
      "\r",
      " 31%|████████████████████████████████████████████████▏                                                                                                        | 17/54 [01:02<02:15,  3.67s/it]"
     ]
    },
    {
     "name": "stdout",
     "output_type": "stream",
     "text": [
      "TC formation prediction is [[0.5364529]] 1 pos\n",
      "Processing image: /N/slate/ckieu/deep-learning/data/ncep_binary_30x30_00h/testing/pos/20210922_18_00_13.0_112.4_2021266N13112.nc\n",
      "1/1 [==============================] - 0s 32ms/step\n"
     ]
    },
    {
     "name": "stderr",
     "output_type": "stream",
     "text": [
      "\r",
      " 33%|███████████████████████████████████████████████████                                                                                                      | 18/54 [01:06<02:12,  3.69s/it]"
     ]
    },
    {
     "name": "stdout",
     "output_type": "stream",
     "text": [
      "TC formation prediction is [[0.9998745]] 1 pos\n",
      "Processing image: /N/slate/ckieu/deep-learning/data/ncep_binary_30x30_00h/testing/pos/20210919_00_00_10.3_348.5_2021262N10349.nc\n",
      "1/1 [==============================] - 0s 31ms/step\n"
     ]
    },
    {
     "name": "stderr",
     "output_type": "stream",
     "text": [
      "\r",
      " 35%|█████████████████████████████████████████████████████▊                                                                                                   | 19/54 [01:10<02:09,  3.71s/it]"
     ]
    },
    {
     "name": "stdout",
     "output_type": "stream",
     "text": [
      "TC formation prediction is [[0.12669687]] 0 neg\n",
      "Processing image: /N/slate/ckieu/deep-learning/data/ncep_binary_30x30_00h/testing/pos/20210519_00_00_30.2_301.7_2021139N30302.nc\n",
      "1/1 [==============================] - 0s 41ms/step\n"
     ]
    },
    {
     "name": "stderr",
     "output_type": "stream",
     "text": [
      "\r",
      " 37%|████████████████████████████████████████████████████████▋                                                                                                | 20/54 [01:14<02:06,  3.72s/it]"
     ]
    },
    {
     "name": "stdout",
     "output_type": "stream",
     "text": [
      "TC formation prediction is [[0.02028334]] 0 neg\n",
      "Processing image: /N/slate/ckieu/deep-learning/data/ncep_binary_30x30_00h/testing/pos/20210823_00_00_11.6_268.5_2021235N12269.nc\n",
      "1/1 [==============================] - 0s 34ms/step\n"
     ]
    },
    {
     "name": "stderr",
     "output_type": "stream",
     "text": [
      "\r",
      " 39%|███████████████████████████████████████████████████████████▌                                                                                             | 21/54 [01:17<02:01,  3.69s/it]"
     ]
    },
    {
     "name": "stdout",
     "output_type": "stream",
     "text": [
      "TC formation prediction is [[0.9545631]] 1 pos\n",
      "Processing image: /N/slate/ckieu/deep-learning/data/ncep_binary_30x30_00h/testing/pos/20210821_18_00_11.2_335.1_2021234N11335.nc\n",
      "1/1 [==============================] - 0s 30ms/step\n"
     ]
    },
    {
     "name": "stderr",
     "output_type": "stream",
     "text": [
      "\r",
      " 41%|██████████████████████████████████████████████████████████████▎                                                                                          | 22/54 [01:21<01:57,  3.66s/it]"
     ]
    },
    {
     "name": "stdout",
     "output_type": "stream",
     "text": [
      "TC formation prediction is [[0.06834169]] 0 neg\n",
      "Processing image: /N/slate/ckieu/deep-learning/data/ncep_binary_30x30_00h/testing/pos/20210719_00_00_20.9_113.1_2021200N21113.nc\n",
      "1/1 [==============================] - 0s 33ms/step\n"
     ]
    },
    {
     "name": "stderr",
     "output_type": "stream",
     "text": [
      "\r",
      " 43%|█████████████████████████████████████████████████████████████████▏                                                                                       | 23/54 [01:24<01:53,  3.65s/it]"
     ]
    },
    {
     "name": "stdout",
     "output_type": "stream",
     "text": [
      "TC formation prediction is [[0.89278936]] 1 pos\n",
      "Processing image: /N/slate/ckieu/deep-learning/data/ncep_binary_30x30_00h/testing/pos/20210916_18_00_12.0_340.5_2021260N12341.nc\n",
      "1/1 [==============================] - 0s 33ms/step\n"
     ]
    },
    {
     "name": "stderr",
     "output_type": "stream",
     "text": [
      "\r",
      " 44%|████████████████████████████████████████████████████████████████████                                                                                     | 24/54 [01:28<01:51,  3.70s/it]"
     ]
    },
    {
     "name": "stdout",
     "output_type": "stream",
     "text": [
      "TC formation prediction is [[0.99668115]] 1 pos\n",
      "Processing image: /N/slate/ckieu/deep-learning/data/ncep_binary_30x30_00h/testing/pos/20210808_18_00_10.7_265.6_2021221N11266.nc\n",
      "1/1 [==============================] - 0s 29ms/step\n"
     ]
    },
    {
     "name": "stderr",
     "output_type": "stream",
     "text": [
      "\r",
      " 46%|██████████████████████████████████████████████████████████████████████▊                                                                                  | 25/54 [01:32<01:46,  3.67s/it]"
     ]
    },
    {
     "name": "stdout",
     "output_type": "stream",
     "text": [
      "TC formation prediction is [[0.5367933]] 1 pos\n",
      "Processing image: /N/slate/ckieu/deep-learning/data/ncep_binary_30x30_00h/testing/pos/20210913_12_00_10.0_348.2_2021257N10348.nc\n",
      "1/1 [==============================] - 0s 30ms/step\n"
     ]
    },
    {
     "name": "stderr",
     "output_type": "stream",
     "text": [
      "\r",
      " 48%|█████████████████████████████████████████████████████████████████████████▋                                                                               | 26/54 [01:36<01:44,  3.73s/it]"
     ]
    },
    {
     "name": "stdout",
     "output_type": "stream",
     "text": [
      "TC formation prediction is [[0.9694038]] 1 pos\n",
      "Processing image: /N/slate/ckieu/deep-learning/data/ncep_binary_30x30_00h/testing/pos/20210603_18_00_10.8_254.4_2021155N11254.nc\n",
      "1/1 [==============================] - 0s 40ms/step\n"
     ]
    },
    {
     "name": "stderr",
     "output_type": "stream",
     "text": [
      "\r",
      " 50%|████████████████████████████████████████████████████████████████████████████▌                                                                            | 27/54 [01:39<01:40,  3.71s/it]"
     ]
    },
    {
     "name": "stdout",
     "output_type": "stream",
     "text": [
      "TC formation prediction is [[0.68516105]] 1 pos\n",
      "Processing image: /N/slate/ckieu/deep-learning/data/ncep_binary_30x30_00h/testing/pos/20210824_06_00_11.8_295.8_2021236N12296.nc\n",
      "1/1 [==============================] - 0s 35ms/step\n"
     ]
    },
    {
     "name": "stderr",
     "output_type": "stream",
     "text": [
      "\r",
      " 52%|███████████████████████████████████████████████████████████████████████████████▎                                                                         | 28/54 [01:43<01:35,  3.69s/it]"
     ]
    },
    {
     "name": "stdout",
     "output_type": "stream",
     "text": [
      "TC formation prediction is [[0.9579759]] 1 pos\n",
      "Processing image: /N/slate/ckieu/deep-learning/data/ncep_binary_30x30_00h/testing/pos/20210810_12_00_12.2_179.0_2021223N12179.nc\n",
      "1/1 [==============================] - 0s 29ms/step\n"
     ]
    },
    {
     "name": "stderr",
     "output_type": "stream",
     "text": [
      "\r",
      " 54%|██████████████████████████████████████████████████████████████████████████████████▏                                                                      | 29/54 [01:47<01:32,  3.71s/it]"
     ]
    },
    {
     "name": "stdout",
     "output_type": "stream",
     "text": [
      "TC formation prediction is [[0.81766456]] 1 pos\n",
      "Processing image: /N/slate/ckieu/deep-learning/data/ncep_binary_30x30_00h/testing/pos/20210814_00_00_37.5_295.4_2021226N38295.nc\n",
      "1/1 [==============================] - 0s 37ms/step\n"
     ]
    },
    {
     "name": "stderr",
     "output_type": "stream",
     "text": [
      "\r",
      " 56%|█████████████████████████████████████████████████████████████████████████████████████                                                                    | 30/54 [01:50<01:28,  3.67s/it]"
     ]
    },
    {
     "name": "stdout",
     "output_type": "stream",
     "text": [
      "TC formation prediction is [[0.02774417]] 0 neg\n",
      "Processing image: /N/slate/ckieu/deep-learning/data/ncep_binary_30x30_00h/testing/pos/20210512_18_00_7.1_129.8_2021133N07130.nc\n",
      "1/1 [==============================] - 0s 32ms/step\n"
     ]
    },
    {
     "name": "stderr",
     "output_type": "stream",
     "text": [
      "\r",
      " 57%|███████████████████████████████████████████████████████████████████████████████████████▊                                                                 | 31/54 [01:54<01:24,  3.69s/it]"
     ]
    },
    {
     "name": "stdout",
     "output_type": "stream",
     "text": [
      "TC formation prediction is [[0.9980849]] 1 pos\n",
      "Processing image: /N/slate/ckieu/deep-learning/data/ncep_binary_30x30_00h/testing/pos/20210616_06_00_13.3_264.6_2021167N13265.nc\n",
      "1/1 [==============================] - 0s 33ms/step\n"
     ]
    },
    {
     "name": "stderr",
     "output_type": "stream",
     "text": [
      "\r",
      " 59%|██████████████████████████████████████████████████████████████████████████████████████████▋                                                              | 32/54 [01:58<01:20,  3.67s/it]"
     ]
    },
    {
     "name": "stdout",
     "output_type": "stream",
     "text": [
      "TC formation prediction is [[0.9762523]] 1 pos\n",
      "Processing image: /N/slate/ckieu/deep-learning/data/ncep_binary_30x30_00h/testing/pos/20210902_00_00_26.9_159.7_2021245N27160.nc\n",
      "1/1 [==============================] - 0s 32ms/step\n"
     ]
    },
    {
     "name": "stderr",
     "output_type": "stream",
     "text": [
      "\r",
      " 61%|█████████████████████████████████████████████████████████████████████████████████████████████▌                                                           | 33/54 [02:02<01:17,  3.70s/it]"
     ]
    },
    {
     "name": "stdout",
     "output_type": "stream",
     "text": [
      "TC formation prediction is [[0.9956019]] 1 pos\n",
      "Processing image: /N/slate/ckieu/deep-learning/data/ncep_binary_30x30_00h/testing/pos/20210831_00_00_11.2_285.7_2021243N11286.nc\n",
      "1/1 [==============================] - 0s 32ms/step\n"
     ]
    },
    {
     "name": "stderr",
     "output_type": "stream",
     "text": [
      "\r",
      " 63%|████████████████████████████████████████████████████████████████████████████████████████████████▎                                                        | 34/54 [02:05<01:14,  3.72s/it]"
     ]
    },
    {
     "name": "stdout",
     "output_type": "stream",
     "text": [
      "TC formation prediction is [[0.04631251]] 0 neg\n",
      "Processing image: /N/slate/ckieu/deep-learning/data/ncep_binary_30x30_00h/testing/pos/20210929_00_00_7.0_338.0_2021272N07338.nc\n",
      "1/1 [==============================] - 0s 32ms/step\n"
     ]
    },
    {
     "name": "stderr",
     "output_type": "stream",
     "text": [
      "\r",
      " 65%|███████████████████████████████████████████████████████████████████████████████████████████████████▏                                                     | 35/54 [02:09<01:12,  3.79s/it]"
     ]
    },
    {
     "name": "stdout",
     "output_type": "stream",
     "text": [
      "TC formation prediction is [[0.99719834]] 1 pos\n",
      "Processing image: /N/slate/ckieu/deep-learning/data/ncep_binary_30x30_00h/testing/pos/20210822_00_00_12.6_345.2_2021234N13345.nc\n",
      "1/1 [==============================] - 0s 29ms/step\n"
     ]
    },
    {
     "name": "stderr",
     "output_type": "stream",
     "text": [
      "\r",
      " 67%|██████████████████████████████████████████████████████████████████████████████████████████████████████                                                   | 36/54 [02:13<01:08,  3.79s/it]"
     ]
    },
    {
     "name": "stdout",
     "output_type": "stream",
     "text": [
      "TC formation prediction is [[0.24541102]] 0 neg\n",
      "Processing image: /N/slate/ckieu/deep-learning/data/ncep_binary_30x30_00h/testing/pos/20210922_18_00_11.8_147.5_2021266N12148.nc\n",
      "1/1 [==============================] - 0s 32ms/step\n"
     ]
    },
    {
     "name": "stderr",
     "output_type": "stream",
     "text": [
      "\r",
      " 69%|████████████████████████████████████████████████████████████████████████████████████████████████████████▊                                                | 37/54 [02:17<01:03,  3.73s/it]"
     ]
    },
    {
     "name": "stdout",
     "output_type": "stream",
     "text": [
      "TC formation prediction is [[0.99924845]] 1 pos\n",
      "Processing image: /N/slate/ckieu/deep-learning/data/ncep_binary_30x30_00h/testing/pos/20210830_00_00_8.2_348.5_2021242N08349.nc\n",
      "1/1 [==============================] - 0s 30ms/step\n"
     ]
    },
    {
     "name": "stderr",
     "output_type": "stream",
     "text": [
      "\r",
      " 70%|███████████████████████████████████████████████████████████████████████████████████████████████████████████▋                                             | 38/54 [02:20<01:00,  3.77s/it]"
     ]
    },
    {
     "name": "stdout",
     "output_type": "stream",
     "text": [
      "TC formation prediction is [[0.61334664]] 1 pos\n",
      "Processing image: /N/slate/ckieu/deep-learning/data/ncep_binary_30x30_00h/testing/pos/20210728_06_00_11.7_257.5_2021209N12258.nc\n",
      "1/1 [==============================] - 0s 41ms/step\n"
     ]
    },
    {
     "name": "stderr",
     "output_type": "stream",
     "text": [
      "\r",
      " 72%|██████████████████████████████████████████████████████████████████████████████████████████████████████████████▌                                          | 39/54 [02:24<00:55,  3.70s/it]"
     ]
    },
    {
     "name": "stdout",
     "output_type": "stream",
     "text": [
      "TC formation prediction is [[0.77993584]] 1 pos\n",
      "Processing image: /N/slate/ckieu/deep-learning/data/ncep_binary_30x30_00h/testing/pos/20210803_00_00_21.3_113.4_2021215N21113.nc\n",
      "1/1 [==============================] - 0s 32ms/step\n"
     ]
    },
    {
     "name": "stderr",
     "output_type": "stream",
     "text": [
      "\r",
      " 74%|█████████████████████████████████████████████████████████████████████████████████████████████████████████████████▎                                       | 40/54 [02:28<00:51,  3.69s/it]"
     ]
    },
    {
     "name": "stdout",
     "output_type": "stream",
     "text": [
      "TC formation prediction is [[0.9888516]] 1 pos\n",
      "Processing image: /N/slate/ckieu/deep-learning/data/ncep_binary_30x30_00h/testing/pos/20210906_00_00_10.5_127.5_2021249N11128.nc\n",
      "1/1 [==============================] - 0s 36ms/step\n"
     ]
    },
    {
     "name": "stderr",
     "output_type": "stream",
     "text": [
      "\r",
      " 76%|████████████████████████████████████████████████████████████████████████████████████████████████████████████████████▏                                    | 41/54 [02:31<00:47,  3.68s/it]"
     ]
    },
    {
     "name": "stdout",
     "output_type": "stream",
     "text": [
      "TC formation prediction is [[0.98948264]] 1 pos\n",
      "Processing image: /N/slate/ckieu/deep-learning/data/ncep_binary_30x30_00h/testing/pos/20210904_12_00_12.6_260.7_2021248N13261.nc\n",
      "1/1 [==============================] - 0s 32ms/step\n"
     ]
    },
    {
     "name": "stderr",
     "output_type": "stream",
     "text": [
      "\r",
      " 78%|███████████████████████████████████████████████████████████████████████████████████████████████████████████████████████                                  | 42/54 [02:35<00:44,  3.67s/it]"
     ]
    },
    {
     "name": "stdout",
     "output_type": "stream",
     "text": [
      "TC formation prediction is [[0.9470066]] 1 pos\n",
      "Processing image: /N/slate/ckieu/deep-learning/data/ncep_binary_30x30_00h/testing/pos/20210910_12_00_17.0_271.0_2021254N17271.nc\n",
      "1/1 [==============================] - 0s 32ms/step\n"
     ]
    },
    {
     "name": "stderr",
     "output_type": "stream",
     "text": [
      "\r",
      " 80%|█████████████████████████████████████████████████████████████████████████████████████████████████████████████████████████▊                               | 43/54 [02:39<00:41,  3.73s/it]"
     ]
    },
    {
     "name": "stdout",
     "output_type": "stream",
     "text": [
      "TC formation prediction is [[0.5756683]] 1 pos\n",
      "Processing image: /N/slate/ckieu/deep-learning/data/ncep_binary_30x30_00h/testing/pos/20210809_18_00_11.5_339.4_2021222N12339.nc\n",
      "1/1 [==============================] - 0s 31ms/step\n"
     ]
    },
    {
     "name": "stderr",
     "output_type": "stream",
     "text": [
      "\r",
      " 81%|████████████████████████████████████████████████████████████████████████████████████████████████████████████████████████████▋                            | 44/54 [02:42<00:36,  3.69s/it]"
     ]
    },
    {
     "name": "stdout",
     "output_type": "stream",
     "text": [
      "TC formation prediction is [[0.89407474]] 1 pos\n",
      "Processing image: /N/slate/ckieu/deep-learning/data/ncep_binary_30x30_00h/testing/pos/20210728_00_00_32.6_117.8_2021209N33118.nc\n",
      "1/1 [==============================] - 0s 35ms/step\n"
     ]
    },
    {
     "name": "stderr",
     "output_type": "stream",
     "text": [
      "\r",
      " 83%|███████████████████████████████████████████████████████████████████████████████████████████████████████████████████████████████▌                         | 45/54 [02:46<00:33,  3.68s/it]"
     ]
    },
    {
     "name": "stdout",
     "output_type": "stream",
     "text": [
      "TC formation prediction is [[0.9997439]] 1 pos\n",
      "Processing image: /N/slate/ckieu/deep-learning/data/ncep_binary_30x30_00h/testing/pos/20210626_12_00_28.2_295.1_2021178N28295.nc\n",
      "1/1 [==============================] - 0s 29ms/step\n"
     ]
    },
    {
     "name": "stderr",
     "output_type": "stream",
     "text": [
      "\r",
      " 85%|██████████████████████████████████████████████████████████████████████████████████████████████████████████████████████████████████▎                      | 46/54 [02:50<00:29,  3.65s/it]"
     ]
    },
    {
     "name": "stdout",
     "output_type": "stream",
     "text": [
      "TC formation prediction is [[0.92847675]] 1 pos\n",
      "Processing image: /N/slate/ckieu/deep-learning/data/ncep_binary_30x30_00h/testing/pos/20210725_12_00_13.7_248.4_2021207N14248.nc\n",
      "1/1 [==============================] - 0s 32ms/step\n"
     ]
    },
    {
     "name": "stderr",
     "output_type": "stream",
     "text": [
      "\r",
      " 87%|█████████████████████████████████████████████████████████████████████████████████████████████████████████████████████████████████████▏                   | 47/54 [02:53<00:25,  3.65s/it]"
     ]
    },
    {
     "name": "stdout",
     "output_type": "stream",
     "text": [
      "TC formation prediction is [[0.82524776]] 1 pos\n",
      "Processing image: /N/slate/ckieu/deep-learning/data/ncep_binary_30x30_00h/testing/pos/20210805_00_00_31.6_147.4_2021217N32147.nc\n",
      "1/1 [==============================] - 0s 32ms/step\n"
     ]
    },
    {
     "name": "stderr",
     "output_type": "stream",
     "text": [
      "\r",
      " 89%|████████████████████████████████████████████████████████████████████████████████████████████████████████████████████████████████████████                 | 48/54 [02:57<00:22,  3.67s/it]"
     ]
    },
    {
     "name": "stdout",
     "output_type": "stream",
     "text": [
      "TC formation prediction is [[0.9991761]] 1 pos\n",
      "Processing image: /N/slate/ckieu/deep-learning/data/ncep_binary_30x30_00h/testing/pos/20210730_12_00_11.3_260.6_2021212N11261.nc\n",
      "1/1 [==============================] - 0s 30ms/step\n"
     ]
    },
    {
     "name": "stderr",
     "output_type": "stream",
     "text": [
      "\r",
      " 91%|██████████████████████████████████████████████████████████████████████████████████████████████████████████████████████████████████████████▊              | 49/54 [03:01<00:18,  3.66s/it]"
     ]
    },
    {
     "name": "stdout",
     "output_type": "stream",
     "text": [
      "TC formation prediction is [[0.99461526]] 1 pos\n",
      "Processing image: /N/slate/ckieu/deep-learning/data/ncep_binary_30x30_00h/testing/pos/20210529_18_00_6.4_134.5_2021150N06135.nc\n",
      "1/1 [==============================] - 0s 33ms/step\n"
     ]
    },
    {
     "name": "stderr",
     "output_type": "stream",
     "text": [
      "\r",
      " 93%|█████████████████████████████████████████████████████████████████████████████████████████████████████████████████████████████████████████████▋           | 50/54 [03:04<00:14,  3.66s/it]"
     ]
    },
    {
     "name": "stdout",
     "output_type": "stream",
     "text": [
      "TC formation prediction is [[0.9688746]] 1 pos\n",
      "Processing image: /N/slate/ckieu/deep-learning/data/ncep_binary_30x30_00h/testing/pos/20210508_12_00_12.7_254.4_2021129N13254.nc\n",
      "1/1 [==============================] - 0s 40ms/step\n"
     ]
    },
    {
     "name": "stderr",
     "output_type": "stream",
     "text": [
      "\r",
      " 94%|████████████████████████████████████████████████████████████████████████████████████████████████████████████████████████████████████████████████▌        | 51/54 [03:08<00:10,  3.66s/it]"
     ]
    },
    {
     "name": "stdout",
     "output_type": "stream",
     "text": [
      "TC formation prediction is [[0.9970573]] 1 pos\n",
      "Processing image: /N/slate/ckieu/deep-learning/data/ncep_binary_30x30_00h/testing/pos/20210906_06_00_14.0_138.3_2021249N14138.nc\n",
      "1/1 [==============================] - 0s 31ms/step\n"
     ]
    },
    {
     "name": "stderr",
     "output_type": "stream",
     "text": [
      "\r",
      " 96%|███████████████████████████████████████████████████████████████████████████████████████████████████████████████████████████████████████████████████▎     | 52/54 [03:12<00:07,  3.69s/it]"
     ]
    },
    {
     "name": "stdout",
     "output_type": "stream",
     "text": [
      "TC formation prediction is [[0.04127713]] 0 neg\n",
      "Processing image: /N/slate/ckieu/deep-learning/data/ncep_binary_30x30_00h/testing/pos/20210822_18_00_19.3_252.5_2021235N19253.nc\n",
      "1/1 [==============================] - 0s 31ms/step\n"
     ]
    },
    {
     "name": "stderr",
     "output_type": "stream",
     "text": [
      "\r",
      " 98%|██████████████████████████████████████████████████████████████████████████████████████████████████████████████████████████████████████████████████████▏  | 53/54 [03:15<00:03,  3.67s/it]"
     ]
    },
    {
     "name": "stdout",
     "output_type": "stream",
     "text": [
      "TC formation prediction is [[0.9940253]] 1 pos\n",
      "Processing image: /N/slate/ckieu/deep-learning/data/ncep_binary_30x30_00h/testing/pos/20210807_18_00_11.2_310.7_2021220N11311.nc\n",
      "1/1 [==============================] - 0s 34ms/step\n"
     ]
    },
    {
     "name": "stderr",
     "output_type": "stream",
     "text": [
      "100%|█████████████████████████████████████████████████████████████████████████████████████████████████████████████████████████████████████████████████████████| 54/54 [03:19<00:00,  3.70s/it]"
     ]
    },
    {
     "name": "stdout",
     "output_type": "stream",
     "text": [
      "TC formation prediction is [[0.96224827]] 1 pos\n",
      "[0.00014701721, 0.000154267, 0.004272616, 0.00034353702, 0.0010718717, 0.0036206134, 0.0034464805, 0.0023312077, 8.01071e-05, 0.07584675, 0.30751792, 0.0017360788, 1.2833103e-05, 0.00347058, 0.008820588, 0.013165091, 0.07262429, 0.7846691, 0.7613915, 0.00018952269, 0.56215626, 0.0772523, 0.20249963, 0.00015181443, 0.019744279, 0.7775186, 6.6201533e-06, 0.003252091, 0.19657078, 7.5320575e-05, 0.00014183742, 0.63915104, 0.041650303, 0.0011810029, 0.00079706067, 0.0045656823, 0.0020818135, 0.113977954, 0.0025894518, 0.4733573, 0.023980929, 0.0018435287, 0.00019802045, 0.0016076533, 0.042908277, 0.0012550403, 0.75077444, 0.26887658, 0.0005303947, 0.0058778776, 0.00814088, 0.0043095, 0.0020532657, 7.312997e-05, 0.017963788, 0.68949264, 0.99059814, 0.9994373, 0.9890014, 0.7430748, 0.81038225, 0.99831223, 0.95516914, 0.990316, 0.9957106, 0.9412428, 0.13884468, 0.99801815, 0.75224745, 0.9998672, 0.5364529, 0.9998745, 0.12669687, 0.020283336, 0.9545631, 0.068341695, 0.89278936, 0.99668115, 0.5367933, 0.9694038, 0.68516105, 0.9579759, 0.81766456, 0.027744167, 0.9980849, 0.9762523, 0.9956019, 0.046312515, 0.99719834, 0.24541102, 0.99924845, 0.61334664, 0.77993584, 0.9888516, 0.98948264, 0.9470066, 0.5756683, 0.89407474, 0.9997439, 0.92847675, 0.82524776, 0.9991761, 0.99461526, 0.9688746, 0.9970573, 0.04127713, 0.9940253, 0.96224827]\n",
      "TP,FP,TN,FN 45 6 48 9\n"
     ]
    },
    {
     "name": "stderr",
     "output_type": "stream",
     "text": [
      "\n",
      "  0%|                                                                                                                                                                  | 0/54 [00:00<?, ?it/s]"
     ]
    },
    {
     "name": "stdout",
     "output_type": "stream",
     "text": [
      "Processing image: /N/slate/ckieu/deep-learning/data/ncep_binary_30x30_00h/testing/neg/20210717_00_00_20.5_183.5.nc\n",
      "1/1 [==============================] - 1s 1s/step\n"
     ]
    },
    {
     "name": "stderr",
     "output_type": "stream",
     "text": [
      "\r",
      "  2%|██▊                                                                                                                                                       | 1/54 [00:04<04:08,  4.69s/it]"
     ]
    },
    {
     "name": "stdout",
     "output_type": "stream",
     "text": [
      "TC formation prediction is [[0.09039497]] 0 neg\n",
      "Processing image: /N/slate/ckieu/deep-learning/data/ncep_binary_30x30_00h/testing/neg/20210728_06_00_11.7_307.5.nc\n",
      "1/1 [==============================] - 0s 39ms/step\n"
     ]
    },
    {
     "name": "stderr",
     "output_type": "stream",
     "text": [
      "\r",
      "  4%|█████▋                                                                                                                                                    | 2/54 [00:08<03:34,  4.13s/it]"
     ]
    },
    {
     "name": "stdout",
     "output_type": "stream",
     "text": [
      "TC formation prediction is [[0.06302336]] 0 neg\n",
      "Processing image: /N/slate/ckieu/deep-learning/data/ncep_binary_30x30_00h/testing/neg/20210830_00_00_58.2_348.5.nc\n",
      "1/1 [==============================] - 0s 42ms/step\n"
     ]
    },
    {
     "name": "stderr",
     "output_type": "stream",
     "text": [
      "\r",
      "  6%|████████▌                                                                                                                                                 | 3/54 [00:12<03:20,  3.94s/it]"
     ]
    },
    {
     "name": "stdout",
     "output_type": "stream",
     "text": [
      "TC formation prediction is [[0.08299222]] 0 neg\n",
      "Processing image: /N/slate/ckieu/deep-learning/data/ncep_binary_30x30_00h/testing/neg/20210705_00_00_18.2_175.3.nc\n",
      "1/1 [==============================] - 0s 35ms/step\n"
     ]
    },
    {
     "name": "stderr",
     "output_type": "stream",
     "text": [
      "\r",
      "  7%|███████████▍                                                                                                                                              | 4/54 [00:15<03:10,  3.81s/it]"
     ]
    },
    {
     "name": "stdout",
     "output_type": "stream",
     "text": [
      "TC formation prediction is [[0.10203155]] 0 neg\n",
      "Processing image: /N/slate/ckieu/deep-learning/data/ncep_binary_30x30_00h/testing/neg/20210805_00_00_31.6_197.4.nc\n",
      "1/1 [==============================] - 0s 36ms/step\n"
     ]
    },
    {
     "name": "stderr",
     "output_type": "stream",
     "text": [
      "\r",
      "  9%|██████████████▎                                                                                                                                           | 5/54 [00:19<03:04,  3.77s/it]"
     ]
    },
    {
     "name": "stdout",
     "output_type": "stream",
     "text": [
      "TC formation prediction is [[0.07972211]] 0 neg\n",
      "Processing image: /N/slate/ckieu/deep-learning/data/ncep_binary_30x30_00h/testing/neg/20210519_00_00_-5.2_266.3.nc\n",
      "1/1 [==============================] - 0s 33ms/step\n"
     ]
    },
    {
     "name": "stderr",
     "output_type": "stream",
     "text": [
      "\r",
      " 11%|█████████████████                                                                                                                                         | 6/54 [00:23<02:58,  3.72s/it]"
     ]
    },
    {
     "name": "stdout",
     "output_type": "stream",
     "text": [
      "TC formation prediction is [[0.10875577]] 0 neg\n",
      "Processing image: /N/slate/ckieu/deep-learning/data/ncep_binary_30x30_00h/testing/neg/20210612_00_00_18.2_160.0.nc\n",
      "1/1 [==============================] - 0s 37ms/step\n"
     ]
    },
    {
     "name": "stderr",
     "output_type": "stream",
     "text": [
      "\r",
      " 13%|███████████████████▉                                                                                                                                      | 7/54 [00:26<02:54,  3.71s/it]"
     ]
    },
    {
     "name": "stdout",
     "output_type": "stream",
     "text": [
      "TC formation prediction is [[0.06558152]] 0 neg\n",
      "Processing image: /N/slate/ckieu/deep-learning/data/ncep_binary_30x30_00h/testing/neg/20210728_00_00_32.6_167.8.nc\n",
      "1/1 [==============================] - 0s 33ms/step\n"
     ]
    },
    {
     "name": "stderr",
     "output_type": "stream",
     "text": [
      "\r",
      " 15%|██████████████████████▊                                                                                                                                   | 8/54 [00:30<02:49,  3.69s/it]"
     ]
    },
    {
     "name": "stdout",
     "output_type": "stream",
     "text": [
      "TC formation prediction is [[0.09082194]] 0 neg\n",
      "Processing image: /N/slate/ckieu/deep-learning/data/ncep_binary_30x30_00h/testing/neg/20210914_00_00_22.7_341.4.nc\n",
      "1/1 [==============================] - 0s 36ms/step\n"
     ]
    },
    {
     "name": "stderr",
     "output_type": "stream",
     "text": [
      "\r",
      " 17%|█████████████████████████▋                                                                                                                                | 9/54 [00:34<02:45,  3.67s/it]"
     ]
    },
    {
     "name": "stdout",
     "output_type": "stream",
     "text": [
      "TC formation prediction is [[0.05937199]] 0 neg\n",
      "Processing image: /N/slate/ckieu/deep-learning/data/ncep_binary_30x30_00h/testing/neg/20210904_12_00_12.6_310.7.nc\n",
      "1/1 [==============================] - 0s 32ms/step\n"
     ]
    },
    {
     "name": "stderr",
     "output_type": "stream",
     "text": [
      "\r",
      " 19%|████████████████████████████▎                                                                                                                            | 10/54 [00:37<02:39,  3.64s/it]"
     ]
    },
    {
     "name": "stdout",
     "output_type": "stream",
     "text": [
      "TC formation prediction is [[0.1360108]] 0 neg\n",
      "Processing image: /N/slate/ckieu/deep-learning/data/ncep_binary_30x30_00h/testing/neg/20210916_18_00_62.0_340.5.nc\n",
      "1/1 [==============================] - 0s 34ms/step\n"
     ]
    },
    {
     "name": "stderr",
     "output_type": "stream",
     "text": [
      "\r",
      " 20%|███████████████████████████████▏                                                                                                                         | 11/54 [00:41<02:36,  3.65s/it]"
     ]
    },
    {
     "name": "stdout",
     "output_type": "stream",
     "text": [
      "TC formation prediction is [[0.26755828]] 0 neg\n",
      "Processing image: /N/slate/ckieu/deep-learning/data/ncep_binary_30x30_00h/testing/neg/20210922_18_00_11.8_197.5.nc\n",
      "1/1 [==============================] - 0s 37ms/step\n"
     ]
    },
    {
     "name": "stderr",
     "output_type": "stream",
     "text": [
      "\r",
      " 22%|██████████████████████████████████                                                                                                                       | 12/54 [00:44<02:32,  3.64s/it]"
     ]
    },
    {
     "name": "stdout",
     "output_type": "stream",
     "text": [
      "TC formation prediction is [[0.10215729]] 0 neg\n",
      "Processing image: /N/slate/ckieu/deep-learning/data/ncep_binary_30x30_00h/testing/neg/20210621_00_00_11.2_197.4.nc\n",
      "1/1 [==============================] - 0s 36ms/step\n"
     ]
    },
    {
     "name": "stderr",
     "output_type": "stream",
     "text": [
      "\r",
      " 24%|████████████████████████████████████▊                                                                                                                    | 13/54 [00:48<02:28,  3.63s/it]"
     ]
    },
    {
     "name": "stdout",
     "output_type": "stream",
     "text": [
      "TC formation prediction is [[0.07530895]] 0 neg\n",
      "Processing image: /N/slate/ckieu/deep-learning/data/ncep_binary_30x30_00h/testing/neg/20210806_12_00_15.0_308.0.nc\n",
      "1/1 [==============================] - 0s 38ms/step\n"
     ]
    },
    {
     "name": "stderr",
     "output_type": "stream",
     "text": [
      "\r",
      " 26%|███████████████████████████████████████▋                                                                                                                 | 14/54 [00:52<02:28,  3.72s/it]"
     ]
    },
    {
     "name": "stdout",
     "output_type": "stream",
     "text": [
      "TC formation prediction is [[0.05778914]] 0 neg\n",
      "Processing image: /N/slate/ckieu/deep-learning/data/ncep_binary_30x30_00h/testing/neg/20210929_00_00_57.0_338.0.nc\n",
      "1/1 [==============================] - 0s 56ms/step\n"
     ]
    },
    {
     "name": "stderr",
     "output_type": "stream",
     "text": [
      "\r",
      " 28%|██████████████████████████████████████████▌                                                                                                              | 15/54 [00:56<02:27,  3.77s/it]"
     ]
    },
    {
     "name": "stdout",
     "output_type": "stream",
     "text": [
      "TC formation prediction is [[0.1959132]] 0 neg\n",
      "Processing image: /N/slate/ckieu/deep-learning/data/ncep_binary_30x30_00h/testing/neg/20210508_12_00_12.7_304.4.nc\n",
      "1/1 [==============================] - 0s 38ms/step\n"
     ]
    },
    {
     "name": "stderr",
     "output_type": "stream",
     "text": [
      "\r",
      " 30%|█████████████████████████████████████████████▎                                                                                                           | 16/54 [01:00<02:22,  3.76s/it]"
     ]
    },
    {
     "name": "stdout",
     "output_type": "stream",
     "text": [
      "TC formation prediction is [[0.18286234]] 0 neg\n",
      "Processing image: /N/slate/ckieu/deep-learning/data/ncep_binary_30x30_00h/testing/neg/20210906_06_00_14.0_188.3.nc\n",
      "1/1 [==============================] - 0s 36ms/step\n"
     ]
    },
    {
     "name": "stderr",
     "output_type": "stream",
     "text": [
      "\r",
      " 31%|████████████████████████████████████████████████▏                                                                                                        | 17/54 [01:03<02:19,  3.77s/it]"
     ]
    },
    {
     "name": "stdout",
     "output_type": "stream",
     "text": [
      "TC formation prediction is [[0.07125217]] 0 neg\n",
      "Processing image: /N/slate/ckieu/deep-learning/data/ncep_binary_30x30_00h/testing/neg/20210923_12_00_62.7_336.6.nc\n",
      "1/1 [==============================] - 0s 36ms/step\n"
     ]
    },
    {
     "name": "stderr",
     "output_type": "stream",
     "text": [
      "\r",
      " 33%|███████████████████████████████████████████████████                                                                                                      | 18/54 [01:07<02:15,  3.77s/it]"
     ]
    },
    {
     "name": "stdout",
     "output_type": "stream",
     "text": [
      "TC formation prediction is [[0.42448026]] 0 neg\n",
      "Processing image: /N/slate/ckieu/deep-learning/data/ncep_binary_30x30_00h/testing/neg/20210613_12_00_31.4_330.8.nc\n",
      "1/1 [==============================] - 0s 34ms/step\n"
     ]
    },
    {
     "name": "stderr",
     "output_type": "stream",
     "text": [
      "\r",
      " 35%|█████████████████████████████████████████████████████▊                                                                                                   | 19/54 [01:11<02:11,  3.76s/it]"
     ]
    },
    {
     "name": "stdout",
     "output_type": "stream",
     "text": [
      "TC formation prediction is [[0.17916596]] 0 neg\n",
      "Processing image: /N/slate/ckieu/deep-learning/data/ncep_binary_30x30_00h/testing/neg/20210724_00_00_25.0_199.5.nc\n",
      "1/1 [==============================] - 0s 33ms/step\n"
     ]
    },
    {
     "name": "stderr",
     "output_type": "stream",
     "text": [
      "\r",
      " 37%|████████████████████████████████████████████████████████▋                                                                                                | 20/54 [01:15<02:08,  3.78s/it]"
     ]
    },
    {
     "name": "stdout",
     "output_type": "stream",
     "text": [
      "TC formation prediction is [[0.06805117]] 0 neg\n",
      "Processing image: /N/slate/ckieu/deep-learning/data/ncep_binary_30x30_00h/testing/neg/20210831_00_00_11.2_335.7.nc\n",
      "1/1 [==============================] - 0s 36ms/step\n"
     ]
    },
    {
     "name": "stderr",
     "output_type": "stream",
     "text": [
      "\r",
      " 39%|███████████████████████████████████████████████████████████▌                                                                                             | 21/54 [01:18<02:03,  3.73s/it]"
     ]
    },
    {
     "name": "stdout",
     "output_type": "stream",
     "text": [
      "TC formation prediction is [[0.2105985]] 0 neg\n",
      "Processing image: /N/slate/ckieu/deep-learning/data/ncep_binary_30x30_00h/testing/neg/20210922_18_00_48.4_147.8.nc\n",
      "1/1 [==============================] - 0s 40ms/step\n"
     ]
    },
    {
     "name": "stderr",
     "output_type": "stream",
     "text": [
      "\r",
      " 41%|██████████████████████████████████████████████████████████████▎                                                                                          | 22/54 [01:22<01:58,  3.70s/it]"
     ]
    },
    {
     "name": "stdout",
     "output_type": "stream",
     "text": [
      "TC formation prediction is [[0.24841489]] 0 neg\n",
      "Processing image: /N/slate/ckieu/deep-learning/data/ncep_binary_30x30_00h/testing/neg/20210603_18_00_10.8_304.4.nc\n",
      "1/1 [==============================] - 0s 36ms/step\n"
     ]
    },
    {
     "name": "stderr",
     "output_type": "stream",
     "text": [
      "\r",
      " 43%|█████████████████████████████████████████████████████████████████▏                                                                                       | 23/54 [01:26<01:55,  3.72s/it]"
     ]
    },
    {
     "name": "stdout",
     "output_type": "stream",
     "text": [
      "TC formation prediction is [[0.12740672]] 0 neg\n",
      "Processing image: /N/slate/ckieu/deep-learning/data/ncep_binary_30x30_00h/testing/neg/20210807_18_00_46.6_346.1.nc\n",
      "1/1 [==============================] - 0s 37ms/step\n"
     ]
    },
    {
     "name": "stderr",
     "output_type": "stream",
     "text": [
      "\r",
      " 44%|████████████████████████████████████████████████████████████████████                                                                                     | 24/54 [01:29<01:51,  3.73s/it]"
     ]
    },
    {
     "name": "stdout",
     "output_type": "stream",
     "text": [
      "TC formation prediction is [[0.04705298]] 0 neg\n",
      "Processing image: /N/slate/ckieu/deep-learning/data/ncep_binary_30x30_00h/testing/neg/20210626_12_00_28.2_345.1.nc\n",
      "1/1 [==============================] - 0s 37ms/step\n"
     ]
    },
    {
     "name": "stderr",
     "output_type": "stream",
     "text": [
      "\r",
      " 46%|██████████████████████████████████████████████████████████████████████▊                                                                                  | 25/54 [01:33<01:48,  3.73s/it]"
     ]
    },
    {
     "name": "stdout",
     "output_type": "stream",
     "text": [
      "TC formation prediction is [[0.091832]] 0 neg\n",
      "Processing image: /N/slate/ckieu/deep-learning/data/ncep_binary_30x30_00h/testing/neg/20210823_00_00_11.6_318.5.nc\n",
      "1/1 [==============================] - 0s 44ms/step\n"
     ]
    },
    {
     "name": "stderr",
     "output_type": "stream",
     "text": [
      "\r",
      " 48%|█████████████████████████████████████████████████████████████████████████▋                                                                               | 26/54 [01:37<01:44,  3.71s/it]"
     ]
    },
    {
     "name": "stdout",
     "output_type": "stream",
     "text": [
      "TC formation prediction is [[0.18347292]] 0 neg\n",
      "Processing image: /N/slate/ckieu/deep-learning/data/ncep_binary_30x30_00h/testing/neg/20210616_06_00_13.3_314.6.nc\n",
      "1/1 [==============================] - 0s 34ms/step\n"
     ]
    },
    {
     "name": "stderr",
     "output_type": "stream",
     "text": [
      "\r",
      " 50%|████████████████████████████████████████████████████████████████████████████▌                                                                            | 27/54 [01:41<01:40,  3.71s/it]"
     ]
    },
    {
     "name": "stdout",
     "output_type": "stream",
     "text": [
      "TC formation prediction is [[0.0523457]] 0 neg\n",
      "Processing image: /N/slate/ckieu/deep-learning/data/ncep_binary_30x30_00h/testing/neg/20210719_00_00_20.9_163.1.nc\n",
      "1/1 [==============================] - 0s 22ms/step\n"
     ]
    },
    {
     "name": "stderr",
     "output_type": "stream",
     "text": [
      "\r",
      " 52%|███████████████████████████████████████████████████████████████████████████████▎                                                                         | 28/54 [01:44<01:30,  3.49s/it]"
     ]
    },
    {
     "name": "stdout",
     "output_type": "stream",
     "text": [
      "TC formation prediction is [[0.10668091]] 0 neg\n",
      "Processing image: /N/slate/ckieu/deep-learning/data/ncep_binary_30x30_00h/testing/neg/20210716_12_00_13.5_307.2.nc\n",
      "1/1 [==============================] - 0s 22ms/step\n"
     ]
    },
    {
     "name": "stderr",
     "output_type": "stream",
     "text": [
      "\r",
      " 54%|██████████████████████████████████████████████████████████████████████████████████▏                                                                      | 29/54 [01:46<01:16,  3.05s/it]"
     ]
    },
    {
     "name": "stdout",
     "output_type": "stream",
     "text": [
      "TC formation prediction is [[0.14360939]] 0 neg\n",
      "Processing image: /N/slate/ckieu/deep-learning/data/ncep_binary_30x30_00h/testing/neg/20210814_00_00_37.5_345.4.nc\n",
      "1/1 [==============================] - 0s 22ms/step\n"
     ]
    },
    {
     "name": "stderr",
     "output_type": "stream",
     "text": [
      "\r",
      " 56%|█████████████████████████████████████████████████████████████████████████████████████                                                                    | 30/54 [01:48<01:06,  2.77s/it]"
     ]
    },
    {
     "name": "stdout",
     "output_type": "stream",
     "text": [
      "TC formation prediction is [[0.07234298]] 0 neg\n",
      "Processing image: /N/slate/ckieu/deep-learning/data/ncep_binary_30x30_00h/testing/neg/20210529_18_00_6.4_184.5.nc\n",
      "1/1 [==============================] - 0s 22ms/step\n"
     ]
    },
    {
     "name": "stderr",
     "output_type": "stream",
     "text": [
      "\r",
      " 57%|███████████████████████████████████████████████████████████████████████████████████████▊                                                                 | 31/54 [01:50<00:58,  2.56s/it]"
     ]
    },
    {
     "name": "stdout",
     "output_type": "stream",
     "text": [
      "TC formation prediction is [[0.04690224]] 0 neg\n",
      "Processing image: /N/slate/ckieu/deep-learning/data/ncep_binary_30x30_00h/testing/neg/20210822_00_00_62.6_345.2.nc\n",
      "1/1 [==============================] - 0s 43ms/step\n"
     ]
    },
    {
     "name": "stderr",
     "output_type": "stream",
     "text": [
      "\r",
      " 59%|██████████████████████████████████████████████████████████████████████████████████████████▋                                                              | 32/54 [01:52<00:54,  2.49s/it]"
     ]
    },
    {
     "name": "stdout",
     "output_type": "stream",
     "text": [
      "TC formation prediction is [[0.2924432]] 0 neg\n",
      "Processing image: /N/slate/ckieu/deep-learning/data/ncep_binary_30x30_00h/testing/neg/20210821_18_00_61.2_335.1.nc\n",
      "1/1 [==============================] - 0s 34ms/step\n"
     ]
    },
    {
     "name": "stderr",
     "output_type": "stream",
     "text": [
      "\r",
      " 61%|█████████████████████████████████████████████████████████████████████████████████████████████▌                                                           | 33/54 [01:56<00:59,  2.83s/it]"
     ]
    },
    {
     "name": "stdout",
     "output_type": "stream",
     "text": [
      "TC formation prediction is [[0.3288441]] 0 neg\n",
      "Processing image: /N/slate/ckieu/deep-learning/data/ncep_binary_30x30_00h/testing/neg/20210906_00_00_10.5_177.5.nc\n",
      "1/1 [==============================] - 0s 36ms/step\n"
     ]
    },
    {
     "name": "stderr",
     "output_type": "stream",
     "text": [
      "\r",
      " 63%|████████████████████████████████████████████████████████████████████████████████████████████████▎                                                        | 34/54 [01:59<01:01,  3.06s/it]"
     ]
    },
    {
     "name": "stdout",
     "output_type": "stream",
     "text": [
      "TC formation prediction is [[0.08951846]] 0 neg\n",
      "Processing image: /N/slate/ckieu/deep-learning/data/ncep_binary_30x30_00h/testing/neg/20210730_12_00_11.3_310.6.nc\n",
      "1/1 [==============================] - 0s 37ms/step\n"
     ]
    },
    {
     "name": "stderr",
     "output_type": "stream",
     "text": [
      "\r",
      " 65%|███████████████████████████████████████████████████████████████████████████████████████████████████▏                                                     | 35/54 [02:03<01:01,  3.26s/it]"
     ]
    },
    {
     "name": "stdout",
     "output_type": "stream",
     "text": [
      "TC formation prediction is [[0.1069154]] 0 neg\n",
      "Processing image: /N/slate/ckieu/deep-learning/data/ncep_binary_30x30_00h/testing/neg/20210528_18_00_8.9_312.7.nc\n",
      "1/1 [==============================] - 0s 34ms/step\n"
     ]
    },
    {
     "name": "stderr",
     "output_type": "stream",
     "text": [
      "\r",
      " 67%|██████████████████████████████████████████████████████████████████████████████████████████████████████                                                   | 36/54 [02:07<01:00,  3.37s/it]"
     ]
    },
    {
     "name": "stdout",
     "output_type": "stream",
     "text": [
      "TC formation prediction is [[0.12433711]] 0 neg\n",
      "Processing image: /N/slate/ckieu/deep-learning/data/ncep_binary_30x30_00h/testing/neg/20210808_18_00_10.7_315.6.nc\n",
      "1/1 [==============================] - 0s 35ms/step\n"
     ]
    },
    {
     "name": "stderr",
     "output_type": "stream",
     "text": [
      "\r",
      " 69%|████████████████████████████████████████████████████████████████████████████████████████████████████████▊                                                | 37/54 [02:10<00:58,  3.45s/it]"
     ]
    },
    {
     "name": "stdout",
     "output_type": "stream",
     "text": [
      "TC formation prediction is [[0.12617393]] 0 neg\n",
      "Processing image: /N/slate/ckieu/deep-learning/data/ncep_binary_30x30_00h/testing/neg/20210919_00_00_60.3_348.5.nc\n",
      "1/1 [==============================] - 0s 38ms/step\n"
     ]
    },
    {
     "name": "stderr",
     "output_type": "stream",
     "text": [
      "\r",
      " 70%|███████████████████████████████████████████████████████████████████████████████████████████████████████████▋                                             | 38/54 [02:14<00:57,  3.57s/it]"
     ]
    },
    {
     "name": "stdout",
     "output_type": "stream",
     "text": [
      "TC formation prediction is [[0.23685938]] 0 neg\n",
      "Processing image: /N/slate/ckieu/deep-learning/data/ncep_binary_30x30_00h/testing/neg/20210614_18_00_19.8_314.9.nc\n",
      "1/1 [==============================] - 0s 36ms/step\n"
     ]
    },
    {
     "name": "stderr",
     "output_type": "stream",
     "text": [
      "\r",
      " 72%|██████████████████████████████████████████████████████████████████████████████████████████████████████████████▌                                          | 39/54 [02:18<00:53,  3.59s/it]"
     ]
    },
    {
     "name": "stdout",
     "output_type": "stream",
     "text": [
      "TC formation prediction is [[0.19319925]] 0 neg\n",
      "Processing image: /N/slate/ckieu/deep-learning/data/ncep_binary_30x30_00h/testing/neg/20210824_06_00_47.2_331.2.nc\n",
      "1/1 [==============================] - 0s 37ms/step\n"
     ]
    },
    {
     "name": "stderr",
     "output_type": "stream",
     "text": [
      "\r",
      " 74%|█████████████████████████████████████████████████████████████████████████████████████████████████████████████████▎                                       | 40/54 [02:21<00:50,  3.62s/it]"
     ]
    },
    {
     "name": "stdout",
     "output_type": "stream",
     "text": [
      "TC formation prediction is [[0.30780828]] 0 neg\n",
      "Processing image: /N/slate/ckieu/deep-learning/data/ncep_binary_30x30_00h/testing/neg/20210630_18_00_44.8_352.6.nc\n",
      "1/1 [==============================] - 0s 34ms/step\n"
     ]
    },
    {
     "name": "stderr",
     "output_type": "stream",
     "text": [
      "\r",
      " 76%|████████████████████████████████████████████████████████████████████████████████████████████████████████████████████▏                                    | 41/54 [02:25<00:47,  3.67s/it]"
     ]
    },
    {
     "name": "stdout",
     "output_type": "stream",
     "text": [
      "TC formation prediction is [[0.25032464]] 0 neg\n",
      "Processing image: /N/slate/ckieu/deep-learning/data/ncep_binary_30x30_00h/testing/neg/20210803_00_00_26.6_202.1.nc\n",
      "1/1 [==============================] - 0s 34ms/step\n"
     ]
    },
    {
     "name": "stderr",
     "output_type": "stream",
     "text": [
      "\r",
      " 78%|███████████████████████████████████████████████████████████████████████████████████████████████████████████████████████                                  | 42/54 [02:29<00:43,  3.65s/it]"
     ]
    },
    {
     "name": "stdout",
     "output_type": "stream",
     "text": [
      "TC formation prediction is [[0.04578904]] 0 neg\n",
      "Processing image: /N/slate/ckieu/deep-learning/data/ncep_binary_30x30_00h/testing/neg/20210713_00_00_10.9_304.8.nc\n",
      "1/1 [==============================] - 0s 38ms/step\n"
     ]
    },
    {
     "name": "stderr",
     "output_type": "stream",
     "text": [
      "\r",
      " 80%|█████████████████████████████████████████████████████████████████████████████████████████████████████████████████████████▊                               | 43/54 [02:33<00:40,  3.67s/it]"
     ]
    },
    {
     "name": "stdout",
     "output_type": "stream",
     "text": [
      "TC formation prediction is [[0.07917416]] 0 neg\n",
      "Processing image: /N/slate/ckieu/deep-learning/data/ncep_binary_30x30_00h/testing/neg/20210910_12_00_17.0_321.0.nc\n",
      "1/1 [==============================] - 0s 34ms/step\n"
     ]
    },
    {
     "name": "stderr",
     "output_type": "stream",
     "text": [
      "\r",
      " 81%|████████████████████████████████████████████████████████████████████████████████████████████████████████████████████████████▋                            | 44/54 [02:36<00:37,  3.72s/it]"
     ]
    },
    {
     "name": "stdout",
     "output_type": "stream",
     "text": [
      "TC formation prediction is [[0.1408113]] 0 neg\n",
      "Processing image: /N/slate/ckieu/deep-learning/data/ncep_binary_30x30_00h/testing/neg/20210810_12_00_12.2_229.0.nc\n",
      "1/1 [==============================] - 0s 35ms/step\n"
     ]
    },
    {
     "name": "stderr",
     "output_type": "stream",
     "text": [
      "\r",
      " 83%|███████████████████████████████████████████████████████████████████████████████████████████████████████████████████████████████▌                         | 45/54 [02:40<00:33,  3.73s/it]"
     ]
    },
    {
     "name": "stdout",
     "output_type": "stream",
     "text": [
      "TC formation prediction is [[0.18979837]] 0 neg\n",
      "Processing image: /N/slate/ckieu/deep-learning/data/ncep_binary_30x30_00h/testing/neg/20210512_18_00_7.1_179.8.nc\n",
      "1/1 [==============================] - 0s 36ms/step\n"
     ]
    },
    {
     "name": "stderr",
     "output_type": "stream",
     "text": [
      "\r",
      " 85%|██████████████████████████████████████████████████████████████████████████████████████████████████████████████████████████████████▎                      | 46/54 [02:44<00:29,  3.72s/it]"
     ]
    },
    {
     "name": "stdout",
     "output_type": "stream",
     "text": [
      "TC formation prediction is [[0.07610626]] 0 neg\n",
      "Processing image: /N/slate/ckieu/deep-learning/data/ncep_binary_30x30_00h/testing/neg/20210913_12_00_60.0_348.2.nc\n",
      "1/1 [==============================] - 0s 45ms/step\n"
     ]
    },
    {
     "name": "stderr",
     "output_type": "stream",
     "text": [
      "\r",
      " 87%|█████████████████████████████████████████████████████████████████████████████████████████████████████████████████████████████████████▏                   | 47/54 [02:48<00:26,  3.75s/it]"
     ]
    },
    {
     "name": "stdout",
     "output_type": "stream",
     "text": [
      "TC formation prediction is [[0.18073097]] 0 neg\n",
      "Processing image: /N/slate/ckieu/deep-learning/data/ncep_binary_30x30_00h/testing/neg/20210805_00_00_26.4_176.5.nc\n",
      "1/1 [==============================] - 0s 37ms/step\n"
     ]
    },
    {
     "name": "stderr",
     "output_type": "stream",
     "text": [
      "\r",
      " 89%|████████████████████████████████████████████████████████████████████████████████████████████████████████████████████████████████████████                 | 48/54 [02:51<00:22,  3.72s/it]"
     ]
    },
    {
     "name": "stdout",
     "output_type": "stream",
     "text": [
      "TC formation prediction is [[0.07621767]] 0 neg\n",
      "Processing image: /N/slate/ckieu/deep-learning/data/ncep_binary_30x30_00h/testing/neg/20210902_00_00_26.9_209.7.nc\n",
      "1/1 [==============================] - 0s 38ms/step\n"
     ]
    },
    {
     "name": "stderr",
     "output_type": "stream",
     "text": [
      "\r",
      " 91%|██████████████████████████████████████████████████████████████████████████████████████████████████████████████████████████████████████████▊              | 49/54 [02:55<00:18,  3.70s/it]"
     ]
    },
    {
     "name": "stdout",
     "output_type": "stream",
     "text": [
      "TC formation prediction is [[0.14880933]] 0 neg\n",
      "Processing image: /N/slate/ckieu/deep-learning/data/ncep_binary_30x30_00h/testing/neg/20210725_12_00_13.7_298.4.nc\n",
      "1/1 [==============================] - 0s 35ms/step\n"
     ]
    },
    {
     "name": "stderr",
     "output_type": "stream",
     "text": [
      "\r",
      " 93%|█████████████████████████████████████████████████████████████████████████████████████████████████████████████████████████████████████████████▋           | 50/54 [02:59<00:14,  3.67s/it]"
     ]
    },
    {
     "name": "stdout",
     "output_type": "stream",
     "text": [
      "TC formation prediction is [[0.14789823]] 0 neg\n",
      "Processing image: /N/slate/ckieu/deep-learning/data/ncep_binary_30x30_00h/testing/neg/20210822_18_00_19.3_302.5.nc\n",
      "1/1 [==============================] - 0s 37ms/step\n"
     ]
    },
    {
     "name": "stderr",
     "output_type": "stream",
     "text": [
      "\r",
      " 94%|████████████████████████████████████████████████████████████████████████████████████████████████████████████████████████████████████████████████▌        | 51/54 [03:02<00:10,  3.64s/it]"
     ]
    },
    {
     "name": "stdout",
     "output_type": "stream",
     "text": [
      "TC formation prediction is [[0.127548]] 0 neg\n",
      "Processing image: /N/slate/ckieu/deep-learning/data/ncep_binary_30x30_00h/testing/neg/20210809_18_00_61.5_339.4.nc\n",
      "1/1 [==============================] - 0s 39ms/step\n"
     ]
    },
    {
     "name": "stderr",
     "output_type": "stream",
     "text": [
      "\r",
      " 96%|███████████████████████████████████████████████████████████████████████████████████████████████████████████████████████████████████████████████████▎     | 52/54 [03:06<00:07,  3.64s/it]"
     ]
    },
    {
     "name": "stdout",
     "output_type": "stream",
     "text": [
      "TC formation prediction is [[0.20859413]] 0 neg\n",
      "Processing image: /N/slate/ckieu/deep-learning/data/ncep_binary_30x30_00h/testing/neg/20210622_00_00_8.1_325.7.nc\n",
      "1/1 [==============================] - 0s 38ms/step\n"
     ]
    },
    {
     "name": "stderr",
     "output_type": "stream",
     "text": [
      "\r",
      " 98%|██████████████████████████████████████████████████████████████████████████████████████████████████████████████████████████████████████████████████████▏  | 53/54 [03:09<00:03,  3.62s/it]"
     ]
    },
    {
     "name": "stdout",
     "output_type": "stream",
     "text": [
      "TC formation prediction is [[0.08809276]] 0 neg\n",
      "Processing image: /N/slate/ckieu/deep-learning/data/ncep_binary_30x30_00h/testing/neg/20210803_00_00_56.7_148.8.nc\n",
      "1/1 [==============================] - 0s 34ms/step\n"
     ]
    },
    {
     "name": "stderr",
     "output_type": "stream",
     "text": [
      "100%|█████████████████████████████████████████████████████████████████████████████████████████████████████████████████████████████████████████████████████████| 54/54 [03:13<00:00,  3.58s/it]\n"
     ]
    },
    {
     "name": "stdout",
     "output_type": "stream",
     "text": [
      "TC formation prediction is [[0.03927156]] 0 neg\n"
     ]
    },
    {
     "name": "stderr",
     "output_type": "stream",
     "text": [
      "\r",
      "  0%|                                                                                                                                                                  | 0/54 [00:00<?, ?it/s]"
     ]
    },
    {
     "name": "stdout",
     "output_type": "stream",
     "text": [
      "Processing image: /N/slate/ckieu/deep-learning/data/ncep_binary_30x30_00h/testing/pos/20210914_00_00_22.7_291.4_2021257N23291.nc\n",
      "1/1 [==============================] - 0s 37ms/step\n"
     ]
    },
    {
     "name": "stderr",
     "output_type": "stream",
     "text": [
      "\r",
      "  2%|██▊                                                                                                                                                       | 1/54 [00:03<03:09,  3.58s/it]"
     ]
    },
    {
     "name": "stdout",
     "output_type": "stream",
     "text": [
      "TC formation prediction is [[0.20262855]] 0 neg\n",
      "Processing image: /N/slate/ckieu/deep-learning/data/ncep_binary_30x30_00h/testing/pos/20210806_12_00_15.0_258.0_2021219N15258.nc\n",
      "1/1 [==============================] - 0s 45ms/step\n"
     ]
    },
    {
     "name": "stderr",
     "output_type": "stream",
     "text": [
      "\r",
      "  4%|█████▋                                                                                                                                                    | 2/54 [00:07<03:17,  3.80s/it]"
     ]
    },
    {
     "name": "stdout",
     "output_type": "stream",
     "text": [
      "TC formation prediction is [[0.32550675]] 0 neg\n",
      "Processing image: /N/slate/ckieu/deep-learning/data/ncep_binary_30x30_00h/testing/pos/20210614_18_00_19.8_264.9_2021166N20265.nc\n",
      "1/1 [==============================] - 0s 36ms/step\n"
     ]
    },
    {
     "name": "stderr",
     "output_type": "stream",
     "text": [
      "\r",
      "  6%|████████▌                                                                                                                                                 | 3/54 [00:11<03:09,  3.71s/it]"
     ]
    },
    {
     "name": "stdout",
     "output_type": "stream",
     "text": [
      "TC formation prediction is [[0.24609134]] 0 neg\n",
      "Processing image: /N/slate/ckieu/deep-learning/data/ncep_binary_30x30_00h/testing/pos/20210612_00_00_18.2_110.0_2021163N18110.nc\n",
      "1/1 [==============================] - 0s 37ms/step\n"
     ]
    },
    {
     "name": "stderr",
     "output_type": "stream",
     "text": [
      "\r",
      "  7%|███████████▍                                                                                                                                              | 4/54 [00:14<03:06,  3.73s/it]"
     ]
    },
    {
     "name": "stdout",
     "output_type": "stream",
     "text": [
      "TC formation prediction is [[0.54186153]] 1 pos\n",
      "Processing image: /N/slate/ckieu/deep-learning/data/ncep_binary_30x30_00h/testing/pos/20210724_00_00_25.0_149.5_2021205N25150.nc\n",
      "1/1 [==============================] - 0s 41ms/step\n"
     ]
    },
    {
     "name": "stderr",
     "output_type": "stream",
     "text": [
      "\r",
      "  9%|██████████████▎                                                                                                                                           | 5/54 [00:18<03:04,  3.77s/it]"
     ]
    },
    {
     "name": "stdout",
     "output_type": "stream",
     "text": [
      "TC formation prediction is [[0.41194567]] 0 neg\n",
      "Processing image: /N/slate/ckieu/deep-learning/data/ncep_binary_30x30_00h/testing/pos/20210923_12_00_27.3_301.2_2021267N27301.nc\n",
      "1/1 [==============================] - 0s 34ms/step\n"
     ]
    },
    {
     "name": "stderr",
     "output_type": "stream",
     "text": [
      "\r",
      " 11%|█████████████████                                                                                                                                         | 6/54 [00:22<02:58,  3.73s/it]"
     ]
    },
    {
     "name": "stdout",
     "output_type": "stream",
     "text": [
      "TC formation prediction is [[0.3055896]] 0 neg\n",
      "Processing image: /N/slate/ckieu/deep-learning/data/ncep_binary_30x30_00h/testing/pos/20210713_00_00_10.9_254.8_2021194N11255.nc\n",
      "1/1 [==============================] - 0s 37ms/step\n"
     ]
    },
    {
     "name": "stderr",
     "output_type": "stream",
     "text": [
      "\r",
      " 13%|███████████████████▉                                                                                                                                      | 7/54 [00:26<02:55,  3.73s/it]"
     ]
    },
    {
     "name": "stdout",
     "output_type": "stream",
     "text": [
      "TC formation prediction is [[0.34749067]] 0 neg\n",
      "Processing image: /N/slate/ckieu/deep-learning/data/ncep_binary_30x30_00h/testing/pos/20210803_00_00_26.6_152.1_2021215N27152.nc\n",
      "1/1 [==============================] - 0s 36ms/step\n"
     ]
    },
    {
     "name": "stderr",
     "output_type": "stream",
     "text": [
      "\r",
      " 15%|██████████████████████▊                                                                                                                                   | 8/54 [00:29<02:51,  3.72s/it]"
     ]
    },
    {
     "name": "stdout",
     "output_type": "stream",
     "text": [
      "TC formation prediction is [[0.4774199]] 0 neg\n",
      "Processing image: /N/slate/ckieu/deep-learning/data/ncep_binary_30x30_00h/testing/pos/20210705_00_00_18.2_125.3_2021186N18125.nc\n",
      "1/1 [==============================] - 0s 38ms/step\n"
     ]
    },
    {
     "name": "stderr",
     "output_type": "stream",
     "text": [
      "\r",
      " 17%|█████████████████████████▋                                                                                                                                | 9/54 [00:33<02:46,  3.71s/it]"
     ]
    },
    {
     "name": "stdout",
     "output_type": "stream",
     "text": [
      "TC formation prediction is [[0.45253348]] 0 neg\n",
      "Processing image: /N/slate/ckieu/deep-learning/data/ncep_binary_30x30_00h/testing/pos/20210716_12_00_13.5_257.2_2021198N13257.nc\n",
      "1/1 [==============================] - 0s 33ms/step\n"
     ]
    },
    {
     "name": "stderr",
     "output_type": "stream",
     "text": [
      "\r",
      " 19%|████████████████████████████▎                                                                                                                            | 10/54 [00:37<02:42,  3.68s/it]"
     ]
    },
    {
     "name": "stdout",
     "output_type": "stream",
     "text": [
      "TC formation prediction is [[0.40618378]] 0 neg\n",
      "Processing image: /N/slate/ckieu/deep-learning/data/ncep_binary_30x30_00h/testing/pos/20210805_00_00_26.4_126.5_2021217N26127.nc\n",
      "1/1 [==============================] - 0s 35ms/step\n"
     ]
    },
    {
     "name": "stderr",
     "output_type": "stream",
     "text": [
      "\r",
      " 20%|███████████████████████████████▏                                                                                                                         | 11/54 [00:40<02:37,  3.66s/it]"
     ]
    },
    {
     "name": "stdout",
     "output_type": "stream",
     "text": [
      "TC formation prediction is [[0.37147105]] 0 neg\n",
      "Processing image: /N/slate/ckieu/deep-learning/data/ncep_binary_30x30_00h/testing/pos/20210528_18_00_8.9_262.7_2021149N09263.nc\n",
      "1/1 [==============================] - 0s 40ms/step\n"
     ]
    },
    {
     "name": "stderr",
     "output_type": "stream",
     "text": [
      "\r",
      " 22%|██████████████████████████████████                                                                                                                       | 12/54 [00:44<02:33,  3.65s/it]"
     ]
    },
    {
     "name": "stdout",
     "output_type": "stream",
     "text": [
      "TC formation prediction is [[0.3463722]] 0 neg\n",
      "Processing image: /N/slate/ckieu/deep-learning/data/ncep_binary_30x30_00h/testing/pos/20210622_00_00_8.1_275.7_2021173N08276.nc\n",
      "1/1 [==============================] - 0s 38ms/step\n"
     ]
    },
    {
     "name": "stderr",
     "output_type": "stream",
     "text": [
      "\r",
      " 24%|████████████████████████████████████▊                                                                                                                    | 13/54 [00:48<02:30,  3.68s/it]"
     ]
    },
    {
     "name": "stdout",
     "output_type": "stream",
     "text": [
      "TC formation prediction is [[0.34490553]] 0 neg\n",
      "Processing image: /N/slate/ckieu/deep-learning/data/ncep_binary_30x30_00h/testing/pos/20210717_00_00_20.5_133.5_2021198N21134.nc\n",
      "1/1 [==============================] - 0s 41ms/step\n"
     ]
    },
    {
     "name": "stderr",
     "output_type": "stream",
     "text": [
      "\r",
      " 26%|███████████████████████████████████████▋                                                                                                                 | 14/54 [00:51<02:26,  3.67s/it]"
     ]
    },
    {
     "name": "stdout",
     "output_type": "stream",
     "text": [
      "TC formation prediction is [[0.48118547]] 0 neg\n",
      "Processing image: /N/slate/ckieu/deep-learning/data/ncep_binary_30x30_00h/testing/pos/20210613_12_00_31.4_280.8_2021165N31281.nc\n",
      "1/1 [==============================] - 0s 36ms/step\n"
     ]
    },
    {
     "name": "stderr",
     "output_type": "stream",
     "text": [
      "\r",
      " 28%|██████████████████████████████████████████▌                                                                                                              | 15/54 [00:55<02:22,  3.65s/it]"
     ]
    },
    {
     "name": "stdout",
     "output_type": "stream",
     "text": [
      "TC formation prediction is [[0.4177452]] 0 neg\n",
      "Processing image: /N/slate/ckieu/deep-learning/data/ncep_binary_30x30_00h/testing/pos/20210630_18_00_9.4_317.2_2021182N09317.nc\n",
      "1/1 [==============================] - 0s 42ms/step\n"
     ]
    },
    {
     "name": "stderr",
     "output_type": "stream",
     "text": [
      "\r",
      " 30%|█████████████████████████████████████████████▎                                                                                                           | 16/54 [00:59<02:18,  3.66s/it]"
     ]
    },
    {
     "name": "stdout",
     "output_type": "stream",
     "text": [
      "TC formation prediction is [[0.5359136]] 1 pos\n",
      "Processing image: /N/slate/ckieu/deep-learning/data/ncep_binary_30x30_00h/testing/pos/20210621_00_00_11.2_147.4_2021172N11147.nc\n",
      "1/1 [==============================] - 0s 36ms/step\n"
     ]
    },
    {
     "name": "stderr",
     "output_type": "stream",
     "text": [
      "\r",
      " 31%|████████████████████████████████████████████████▏                                                                                                        | 17/54 [01:02<02:16,  3.68s/it]"
     ]
    },
    {
     "name": "stdout",
     "output_type": "stream",
     "text": [
      "TC formation prediction is [[0.2710679]] 0 neg\n",
      "Processing image: /N/slate/ckieu/deep-learning/data/ncep_binary_30x30_00h/testing/pos/20210922_18_00_13.0_112.4_2021266N13112.nc\n",
      "1/1 [==============================] - 0s 33ms/step\n"
     ]
    },
    {
     "name": "stderr",
     "output_type": "stream",
     "text": [
      "\r",
      " 33%|███████████████████████████████████████████████████                                                                                                      | 18/54 [01:06<02:13,  3.70s/it]"
     ]
    },
    {
     "name": "stdout",
     "output_type": "stream",
     "text": [
      "TC formation prediction is [[0.57046694]] 1 pos\n",
      "Processing image: /N/slate/ckieu/deep-learning/data/ncep_binary_30x30_00h/testing/pos/20210919_00_00_10.3_348.5_2021262N10349.nc\n",
      "1/1 [==============================] - 0s 35ms/step\n"
     ]
    },
    {
     "name": "stderr",
     "output_type": "stream",
     "text": [
      "\r",
      " 35%|█████████████████████████████████████████████████████▊                                                                                                   | 19/54 [01:10<02:09,  3.71s/it]"
     ]
    },
    {
     "name": "stdout",
     "output_type": "stream",
     "text": [
      "TC formation prediction is [[0.11680314]] 0 neg\n",
      "Processing image: /N/slate/ckieu/deep-learning/data/ncep_binary_30x30_00h/testing/pos/20210519_00_00_30.2_301.7_2021139N30302.nc\n",
      "1/1 [==============================] - 0s 36ms/step\n"
     ]
    },
    {
     "name": "stderr",
     "output_type": "stream",
     "text": [
      "\r",
      " 37%|████████████████████████████████████████████████████████▋                                                                                                | 20/54 [01:13<02:06,  3.73s/it]"
     ]
    },
    {
     "name": "stdout",
     "output_type": "stream",
     "text": [
      "TC formation prediction is [[0.196303]] 0 neg\n",
      "Processing image: /N/slate/ckieu/deep-learning/data/ncep_binary_30x30_00h/testing/pos/20210823_00_00_11.6_268.5_2021235N12269.nc\n",
      "1/1 [==============================] - 0s 37ms/step\n"
     ]
    },
    {
     "name": "stderr",
     "output_type": "stream",
     "text": [
      "\r",
      " 39%|███████████████████████████████████████████████████████████▌                                                                                             | 21/54 [01:17<02:01,  3.69s/it]"
     ]
    },
    {
     "name": "stdout",
     "output_type": "stream",
     "text": [
      "TC formation prediction is [[0.16166203]] 0 neg\n",
      "Processing image: /N/slate/ckieu/deep-learning/data/ncep_binary_30x30_00h/testing/pos/20210821_18_00_11.2_335.1_2021234N11335.nc\n",
      "1/1 [==============================] - 0s 39ms/step\n"
     ]
    },
    {
     "name": "stderr",
     "output_type": "stream",
     "text": [
      "\r",
      " 41%|██████████████████████████████████████████████████████████████▎                                                                                          | 22/54 [01:21<01:57,  3.68s/it]"
     ]
    },
    {
     "name": "stdout",
     "output_type": "stream",
     "text": [
      "TC formation prediction is [[0.24542326]] 0 neg\n",
      "Processing image: /N/slate/ckieu/deep-learning/data/ncep_binary_30x30_00h/testing/pos/20210719_00_00_20.9_113.1_2021200N21113.nc\n",
      "1/1 [==============================] - 0s 40ms/step\n"
     ]
    },
    {
     "name": "stderr",
     "output_type": "stream",
     "text": [
      "\r",
      " 43%|█████████████████████████████████████████████████████████████████▏                                                                                       | 23/54 [01:24<01:54,  3.68s/it]"
     ]
    },
    {
     "name": "stdout",
     "output_type": "stream",
     "text": [
      "TC formation prediction is [[0.30712098]] 0 neg\n",
      "Processing image: /N/slate/ckieu/deep-learning/data/ncep_binary_30x30_00h/testing/pos/20210916_18_00_12.0_340.5_2021260N12341.nc\n",
      "1/1 [==============================] - 0s 36ms/step\n"
     ]
    },
    {
     "name": "stderr",
     "output_type": "stream",
     "text": [
      "\r",
      " 44%|████████████████████████████████████████████████████████████████████                                                                                     | 24/54 [01:28<01:51,  3.71s/it]"
     ]
    },
    {
     "name": "stdout",
     "output_type": "stream",
     "text": [
      "TC formation prediction is [[0.33717626]] 0 neg\n",
      "Processing image: /N/slate/ckieu/deep-learning/data/ncep_binary_30x30_00h/testing/pos/20210808_18_00_10.7_265.6_2021221N11266.nc\n",
      "1/1 [==============================] - 0s 36ms/step\n"
     ]
    },
    {
     "name": "stderr",
     "output_type": "stream",
     "text": [
      "\r",
      " 46%|██████████████████████████████████████████████████████████████████████▊                                                                                  | 25/54 [01:32<01:46,  3.67s/it]"
     ]
    },
    {
     "name": "stdout",
     "output_type": "stream",
     "text": [
      "TC formation prediction is [[0.4034905]] 0 neg\n",
      "Processing image: /N/slate/ckieu/deep-learning/data/ncep_binary_30x30_00h/testing/pos/20210913_12_00_10.0_348.2_2021257N10348.nc\n",
      "1/1 [==============================] - 0s 38ms/step\n"
     ]
    },
    {
     "name": "stderr",
     "output_type": "stream",
     "text": [
      "\r",
      " 48%|█████████████████████████████████████████████████████████████████████████▋                                                                               | 26/54 [01:36<01:44,  3.74s/it]"
     ]
    },
    {
     "name": "stdout",
     "output_type": "stream",
     "text": [
      "TC formation prediction is [[0.3544031]] 0 neg\n",
      "Processing image: /N/slate/ckieu/deep-learning/data/ncep_binary_30x30_00h/testing/pos/20210603_18_00_10.8_254.4_2021155N11254.nc\n",
      "1/1 [==============================] - 0s 34ms/step\n"
     ]
    },
    {
     "name": "stderr",
     "output_type": "stream",
     "text": [
      "\r",
      " 50%|████████████████████████████████████████████████████████████████████████████▌                                                                            | 27/54 [01:39<01:41,  3.75s/it]"
     ]
    },
    {
     "name": "stdout",
     "output_type": "stream",
     "text": [
      "TC formation prediction is [[0.39633343]] 0 neg\n",
      "Processing image: /N/slate/ckieu/deep-learning/data/ncep_binary_30x30_00h/testing/pos/20210824_06_00_11.8_295.8_2021236N12296.nc\n",
      "1/1 [==============================] - 0s 41ms/step\n"
     ]
    },
    {
     "name": "stderr",
     "output_type": "stream",
     "text": [
      "\r",
      " 52%|███████████████████████████████████████████████████████████████████████████████▎                                                                         | 28/54 [01:43<01:36,  3.71s/it]"
     ]
    },
    {
     "name": "stdout",
     "output_type": "stream",
     "text": [
      "TC formation prediction is [[0.3887065]] 0 neg\n",
      "Processing image: /N/slate/ckieu/deep-learning/data/ncep_binary_30x30_00h/testing/pos/20210810_12_00_12.2_179.0_2021223N12179.nc\n",
      "1/1 [==============================] - 0s 41ms/step\n"
     ]
    },
    {
     "name": "stderr",
     "output_type": "stream",
     "text": [
      "\r",
      " 54%|██████████████████████████████████████████████████████████████████████████████████▏                                                                      | 29/54 [01:47<01:33,  3.75s/it]"
     ]
    },
    {
     "name": "stdout",
     "output_type": "stream",
     "text": [
      "TC formation prediction is [[0.37695923]] 0 neg\n",
      "Processing image: /N/slate/ckieu/deep-learning/data/ncep_binary_30x30_00h/testing/pos/20210814_00_00_37.5_295.4_2021226N38295.nc\n",
      "1/1 [==============================] - 0s 36ms/step\n"
     ]
    },
    {
     "name": "stderr",
     "output_type": "stream",
     "text": [
      "\r",
      " 56%|█████████████████████████████████████████████████████████████████████████████████████                                                                    | 30/54 [01:51<01:29,  3.75s/it]"
     ]
    },
    {
     "name": "stdout",
     "output_type": "stream",
     "text": [
      "TC formation prediction is [[0.09759577]] 0 neg\n",
      "Processing image: /N/slate/ckieu/deep-learning/data/ncep_binary_30x30_00h/testing/pos/20210512_18_00_7.1_129.8_2021133N07130.nc\n",
      "1/1 [==============================] - 0s 35ms/step\n"
     ]
    },
    {
     "name": "stderr",
     "output_type": "stream",
     "text": [
      "\r",
      " 57%|███████████████████████████████████████████████████████████████████████████████████████▊                                                                 | 31/54 [01:54<01:26,  3.75s/it]"
     ]
    },
    {
     "name": "stdout",
     "output_type": "stream",
     "text": [
      "TC formation prediction is [[0.45460668]] 0 neg\n",
      "Processing image: /N/slate/ckieu/deep-learning/data/ncep_binary_30x30_00h/testing/pos/20210616_06_00_13.3_264.6_2021167N13265.nc\n",
      "1/1 [==============================] - 0s 36ms/step\n"
     ]
    },
    {
     "name": "stderr",
     "output_type": "stream",
     "text": [
      "\r",
      " 59%|██████████████████████████████████████████████████████████████████████████████████████████▋                                                              | 32/54 [01:58<01:21,  3.72s/it]"
     ]
    },
    {
     "name": "stdout",
     "output_type": "stream",
     "text": [
      "TC formation prediction is [[0.31269157]] 0 neg\n",
      "Processing image: /N/slate/ckieu/deep-learning/data/ncep_binary_30x30_00h/testing/pos/20210902_00_00_26.9_159.7_2021245N27160.nc\n",
      "1/1 [==============================] - 0s 33ms/step\n"
     ]
    },
    {
     "name": "stderr",
     "output_type": "stream",
     "text": [
      "\r",
      " 61%|█████████████████████████████████████████████████████████████████████████████████████████████▌                                                           | 33/54 [02:02<01:17,  3.69s/it]"
     ]
    },
    {
     "name": "stdout",
     "output_type": "stream",
     "text": [
      "TC formation prediction is [[0.28534275]] 0 neg\n",
      "Processing image: /N/slate/ckieu/deep-learning/data/ncep_binary_30x30_00h/testing/pos/20210831_00_00_11.2_285.7_2021243N11286.nc\n",
      "1/1 [==============================] - 0s 40ms/step\n"
     ]
    },
    {
     "name": "stderr",
     "output_type": "stream",
     "text": [
      "\r",
      " 63%|████████████████████████████████████████████████████████████████████████████████████████████████▎                                                        | 34/54 [02:05<01:14,  3.70s/it]"
     ]
    },
    {
     "name": "stdout",
     "output_type": "stream",
     "text": [
      "TC formation prediction is [[0.38528767]] 0 neg\n",
      "Processing image: /N/slate/ckieu/deep-learning/data/ncep_binary_30x30_00h/testing/pos/20210929_00_00_7.0_338.0_2021272N07338.nc\n",
      "1/1 [==============================] - 0s 37ms/step\n"
     ]
    },
    {
     "name": "stderr",
     "output_type": "stream",
     "text": [
      "\r",
      " 65%|███████████████████████████████████████████████████████████████████████████████████████████████████▏                                                     | 35/54 [02:09<01:11,  3.75s/it]"
     ]
    },
    {
     "name": "stdout",
     "output_type": "stream",
     "text": [
      "TC formation prediction is [[0.522845]] 1 pos\n",
      "Processing image: /N/slate/ckieu/deep-learning/data/ncep_binary_30x30_00h/testing/pos/20210822_00_00_12.6_345.2_2021234N13345.nc\n",
      "1/1 [==============================] - 0s 34ms/step\n"
     ]
    },
    {
     "name": "stderr",
     "output_type": "stream",
     "text": [
      "\r",
      " 67%|██████████████████████████████████████████████████████████████████████████████████████████████████████                                                   | 36/54 [02:13<01:07,  3.75s/it]"
     ]
    },
    {
     "name": "stdout",
     "output_type": "stream",
     "text": [
      "TC formation prediction is [[0.17269555]] 0 neg\n",
      "Processing image: /N/slate/ckieu/deep-learning/data/ncep_binary_30x30_00h/testing/pos/20210922_18_00_11.8_147.5_2021266N12148.nc\n",
      "1/1 [==============================] - 0s 44ms/step\n"
     ]
    },
    {
     "name": "stderr",
     "output_type": "stream",
     "text": [
      "\r",
      " 69%|████████████████████████████████████████████████████████████████████████████████████████████████████████▊                                                | 37/54 [02:17<01:03,  3.72s/it]"
     ]
    },
    {
     "name": "stdout",
     "output_type": "stream",
     "text": [
      "TC formation prediction is [[0.5413805]] 1 pos\n",
      "Processing image: /N/slate/ckieu/deep-learning/data/ncep_binary_30x30_00h/testing/pos/20210830_00_00_8.2_348.5_2021242N08349.nc\n",
      "1/1 [==============================] - 0s 36ms/step\n"
     ]
    },
    {
     "name": "stderr",
     "output_type": "stream",
     "text": [
      "\r",
      " 70%|███████████████████████████████████████████████████████████████████████████████████████████████████████████▋                                             | 38/54 [02:20<00:59,  3.74s/it]"
     ]
    },
    {
     "name": "stdout",
     "output_type": "stream",
     "text": [
      "TC formation prediction is [[0.28639528]] 0 neg\n",
      "Processing image: /N/slate/ckieu/deep-learning/data/ncep_binary_30x30_00h/testing/pos/20210728_06_00_11.7_257.5_2021209N12258.nc\n",
      "1/1 [==============================] - 0s 35ms/step\n"
     ]
    },
    {
     "name": "stderr",
     "output_type": "stream",
     "text": [
      "\r",
      " 72%|██████████████████████████████████████████████████████████████████████████████████████████████████████████████▌                                          | 39/54 [02:24<00:55,  3.71s/it]"
     ]
    },
    {
     "name": "stdout",
     "output_type": "stream",
     "text": [
      "TC formation prediction is [[0.30583164]] 0 neg\n",
      "Processing image: /N/slate/ckieu/deep-learning/data/ncep_binary_30x30_00h/testing/pos/20210803_00_00_21.3_113.4_2021215N21113.nc\n",
      "1/1 [==============================] - 0s 39ms/step\n"
     ]
    },
    {
     "name": "stderr",
     "output_type": "stream",
     "text": [
      "\r",
      " 74%|█████████████████████████████████████████████████████████████████████████████████████████████████████████████████▎                                       | 40/54 [02:28<00:51,  3.67s/it]"
     ]
    },
    {
     "name": "stdout",
     "output_type": "stream",
     "text": [
      "TC formation prediction is [[0.43758145]] 0 neg\n",
      "Processing image: /N/slate/ckieu/deep-learning/data/ncep_binary_30x30_00h/testing/pos/20210906_00_00_10.5_127.5_2021249N11128.nc\n",
      "1/1 [==============================] - 0s 35ms/step\n"
     ]
    },
    {
     "name": "stderr",
     "output_type": "stream",
     "text": [
      "\r",
      " 76%|████████████████████████████████████████████████████████████████████████████████████████████████████████████████████▏                                    | 41/54 [02:31<00:47,  3.67s/it]"
     ]
    },
    {
     "name": "stdout",
     "output_type": "stream",
     "text": [
      "TC formation prediction is [[0.39163256]] 0 neg\n",
      "Processing image: /N/slate/ckieu/deep-learning/data/ncep_binary_30x30_00h/testing/pos/20210904_12_00_12.6_260.7_2021248N13261.nc\n",
      "1/1 [==============================] - 0s 23ms/step\n"
     ]
    },
    {
     "name": "stderr",
     "output_type": "stream",
     "text": [
      "\r",
      " 78%|███████████████████████████████████████████████████████████████████████████████████████████████████████████████████████                                  | 42/54 [02:35<00:43,  3.59s/it]"
     ]
    },
    {
     "name": "stdout",
     "output_type": "stream",
     "text": [
      "TC formation prediction is [[0.22479393]] 0 neg\n",
      "Processing image: /N/slate/ckieu/deep-learning/data/ncep_binary_30x30_00h/testing/pos/20210910_12_00_17.0_271.0_2021254N17271.nc\n",
      "1/1 [==============================] - 0s 22ms/step\n"
     ]
    },
    {
     "name": "stderr",
     "output_type": "stream",
     "text": [
      "\r",
      " 80%|█████████████████████████████████████████████████████████████████████████████████████████████████████████████████████████▊                               | 43/54 [02:37<00:34,  3.15s/it]"
     ]
    },
    {
     "name": "stdout",
     "output_type": "stream",
     "text": [
      "TC formation prediction is [[0.2720184]] 0 neg\n",
      "Processing image: /N/slate/ckieu/deep-learning/data/ncep_binary_30x30_00h/testing/pos/20210809_18_00_11.5_339.4_2021222N12339.nc\n",
      "1/1 [==============================] - 0s 22ms/step\n"
     ]
    },
    {
     "name": "stderr",
     "output_type": "stream",
     "text": [
      "\r",
      " 81%|████████████████████████████████████████████████████████████████████████████████████████████████████████████████████████████▋                            | 44/54 [02:39<00:28,  2.82s/it]"
     ]
    },
    {
     "name": "stdout",
     "output_type": "stream",
     "text": [
      "TC formation prediction is [[0.23053865]] 0 neg\n",
      "Processing image: /N/slate/ckieu/deep-learning/data/ncep_binary_30x30_00h/testing/pos/20210728_00_00_32.6_117.8_2021209N33118.nc\n",
      "1/1 [==============================] - 0s 22ms/step\n"
     ]
    },
    {
     "name": "stderr",
     "output_type": "stream",
     "text": [
      "\r",
      " 83%|███████████████████████████████████████████████████████████████████████████████████████████████████████████████████████████████▌                         | 45/54 [02:41<00:23,  2.59s/it]"
     ]
    },
    {
     "name": "stdout",
     "output_type": "stream",
     "text": [
      "TC formation prediction is [[0.54518026]] 1 pos\n",
      "Processing image: /N/slate/ckieu/deep-learning/data/ncep_binary_30x30_00h/testing/pos/20210626_12_00_28.2_295.1_2021178N28295.nc\n",
      "1/1 [==============================] - 0s 22ms/step\n"
     ]
    },
    {
     "name": "stderr",
     "output_type": "stream",
     "text": [
      "\r",
      " 85%|██████████████████████████████████████████████████████████████████████████████████████████████████████████████████████████████████▎                      | 46/54 [02:43<00:19,  2.44s/it]"
     ]
    },
    {
     "name": "stdout",
     "output_type": "stream",
     "text": [
      "TC formation prediction is [[0.37435812]] 0 neg\n",
      "Processing image: /N/slate/ckieu/deep-learning/data/ncep_binary_30x30_00h/testing/pos/20210725_12_00_13.7_248.4_2021207N14248.nc\n",
      "1/1 [==============================] - 0s 22ms/step\n"
     ]
    },
    {
     "name": "stderr",
     "output_type": "stream",
     "text": [
      "\r",
      " 87%|█████████████████████████████████████████████████████████████████████████████████████████████████████████████████████████████████████▏                   | 47/54 [02:45<00:16,  2.32s/it]"
     ]
    },
    {
     "name": "stdout",
     "output_type": "stream",
     "text": [
      "TC formation prediction is [[0.38795146]] 0 neg\n",
      "Processing image: /N/slate/ckieu/deep-learning/data/ncep_binary_30x30_00h/testing/pos/20210805_00_00_31.6_147.4_2021217N32147.nc\n",
      "1/1 [==============================] - 0s 23ms/step\n"
     ]
    },
    {
     "name": "stderr",
     "output_type": "stream",
     "text": [
      "\r",
      " 89%|████████████████████████████████████████████████████████████████████████████████████████████████████████████████████████████████████████                 | 48/54 [02:47<00:13,  2.23s/it]"
     ]
    },
    {
     "name": "stdout",
     "output_type": "stream",
     "text": [
      "TC formation prediction is [[0.40007138]] 0 neg\n",
      "Processing image: /N/slate/ckieu/deep-learning/data/ncep_binary_30x30_00h/testing/pos/20210730_12_00_11.3_260.6_2021212N11261.nc\n",
      "1/1 [==============================] - 0s 23ms/step\n"
     ]
    },
    {
     "name": "stderr",
     "output_type": "stream",
     "text": [
      "\r",
      " 91%|██████████████████████████████████████████████████████████████████████████████████████████████████████████████████████████████████████████▊              | 49/54 [02:49<00:10,  2.19s/it]"
     ]
    },
    {
     "name": "stdout",
     "output_type": "stream",
     "text": [
      "TC formation prediction is [[0.43104225]] 0 neg\n",
      "Processing image: /N/slate/ckieu/deep-learning/data/ncep_binary_30x30_00h/testing/pos/20210529_18_00_6.4_134.5_2021150N06135.nc\n",
      "1/1 [==============================] - 0s 26ms/step\n"
     ]
    },
    {
     "name": "stderr",
     "output_type": "stream",
     "text": [
      "\r",
      " 93%|█████████████████████████████████████████████████████████████████████████████████████████████████████████████████████████████████████████████▋           | 50/54 [02:51<00:08,  2.15s/it]"
     ]
    },
    {
     "name": "stdout",
     "output_type": "stream",
     "text": [
      "TC formation prediction is [[0.2866611]] 0 neg\n",
      "Processing image: /N/slate/ckieu/deep-learning/data/ncep_binary_30x30_00h/testing/pos/20210508_12_00_12.7_254.4_2021129N13254.nc\n",
      "1/1 [==============================] - 0s 22ms/step\n"
     ]
    },
    {
     "name": "stderr",
     "output_type": "stream",
     "text": [
      "\r",
      " 94%|████████████████████████████████████████████████████████████████████████████████████████████████████████████████████████████████████████████████▌        | 51/54 [02:53<00:06,  2.12s/it]"
     ]
    },
    {
     "name": "stdout",
     "output_type": "stream",
     "text": [
      "TC formation prediction is [[0.46034616]] 0 neg\n",
      "Processing image: /N/slate/ckieu/deep-learning/data/ncep_binary_30x30_00h/testing/pos/20210906_06_00_14.0_138.3_2021249N14138.nc\n",
      "1/1 [==============================] - 0s 23ms/step\n"
     ]
    },
    {
     "name": "stderr",
     "output_type": "stream",
     "text": [
      "\r",
      " 96%|███████████████████████████████████████████████████████████████████████████████████████████████████████████████████████████████████████████████████▎     | 52/54 [02:55<00:04,  2.13s/it]"
     ]
    },
    {
     "name": "stdout",
     "output_type": "stream",
     "text": [
      "TC formation prediction is [[0.33354497]] 0 neg\n",
      "Processing image: /N/slate/ckieu/deep-learning/data/ncep_binary_30x30_00h/testing/pos/20210822_18_00_19.3_252.5_2021235N19253.nc\n",
      "1/1 [==============================] - 0s 23ms/step\n"
     ]
    },
    {
     "name": "stderr",
     "output_type": "stream",
     "text": [
      "\r",
      " 98%|██████████████████████████████████████████████████████████████████████████████████████████████████████████████████████████████████████████████████████▏  | 53/54 [02:58<00:02,  2.10s/it]"
     ]
    },
    {
     "name": "stdout",
     "output_type": "stream",
     "text": [
      "TC formation prediction is [[0.29941902]] 0 neg\n",
      "Processing image: /N/slate/ckieu/deep-learning/data/ncep_binary_30x30_00h/testing/pos/20210807_18_00_11.2_310.7_2021220N11311.nc\n",
      "1/1 [==============================] - 0s 22ms/step\n"
     ]
    },
    {
     "name": "stderr",
     "output_type": "stream",
     "text": [
      "100%|█████████████████████████████████████████████████████████████████████████████████████████████████████████████████████████████████████████████████████████| 54/54 [03:00<00:00,  3.33s/it]"
     ]
    },
    {
     "name": "stdout",
     "output_type": "stream",
     "text": [
      "TC formation prediction is [[0.33565626]] 0 neg\n",
      "[0.09039497, 0.06302336, 0.08299222, 0.10203155, 0.079722114, 0.108755775, 0.065581515, 0.090821944, 0.059371985, 0.1360108, 0.26755828, 0.10215729, 0.07530895, 0.057789136, 0.1959132, 0.18286234, 0.071252175, 0.42448026, 0.17916596, 0.068051174, 0.2105985, 0.24841489, 0.12740672, 0.047052976, 0.091832, 0.18347292, 0.052345697, 0.106680915, 0.14360939, 0.072342984, 0.046902243, 0.2924432, 0.3288441, 0.08951846, 0.1069154, 0.12433711, 0.12617393, 0.23685938, 0.19319925, 0.30780828, 0.25032464, 0.04578904, 0.07917416, 0.1408113, 0.18979837, 0.07610626, 0.18073097, 0.07621767, 0.14880933, 0.14789823, 0.127548, 0.20859413, 0.08809276, 0.039271563, 0.20262855, 0.32550675, 0.24609134, 0.54186153, 0.41194567, 0.3055896, 0.34749067, 0.4774199, 0.45253348, 0.40618378, 0.37147105, 0.3463722, 0.34490553, 0.48118547, 0.4177452, 0.5359136, 0.2710679, 0.57046694, 0.11680314, 0.196303, 0.16166203, 0.24542326, 0.30712098, 0.33717626, 0.4034905, 0.3544031, 0.39633343, 0.3887065, 0.37695923, 0.09759577, 0.45460668, 0.31269157, 0.28534275, 0.38528767, 0.522845, 0.17269555, 0.5413805, 0.28639528, 0.30583164, 0.43758145, 0.39163256, 0.22479393, 0.2720184, 0.23053865, 0.54518026, 0.37435812, 0.38795146, 0.40007138, 0.43104225, 0.2866611, 0.46034616, 0.33354497, 0.29941902, 0.33565626]\n",
      "TP,FP,TN,FN 6 0 54 48\n"
     ]
    },
    {
     "name": "stderr",
     "output_type": "stream",
     "text": [
      "\n"
     ]
    }
   ],
   "source": [
    "#\n",
    "# loop thru all best-saved CNN trained models and make a prediction. Note that prediction is applied one by one instead \n",
    "# of a batch input. \n",
    "#\n",
    "DATADIR = \"/N/slate/ckieu/deep-learning/data/ncep_binary_30x30_00h/testing\"\n",
    "bestmodels = [\"tcg_ResNet20.model\",\"tcg_ResNet22.model\",\"tcg_ResNet40.model\"]\n",
    "CATEGORIES = [\"neg\", \"pos\"]\n",
    "F1_performance = []\n",
    "for bestmodel in bestmodels:\n",
    "    model = tf.keras.models.load_model(bestmodel)\n",
    "    prediction_total = 0\n",
    "    prediction_yes = 0\n",
    "    prediction_history = []\n",
    "    truth_history = []\n",
    "    for category in CATEGORIES:\n",
    "        path = os.path.join(DATADIR,category)\n",
    "        for img in tqdm(os.listdir(path)):    \n",
    "            try:\n",
    "                img_dir = DATADIR + '/' + category + '/' + img\n",
    "                print('Processing image:', img_dir)\n",
    "                #print('Input image dimension is: ',prepare(img_dir).shape)\n",
    "                prediction = model.predict([prepare(img_dir)])\n",
    "                print(\"TC formation prediction is\",prediction,round(prediction[0][0]),CATEGORIES[round(prediction[0][0])])\n",
    "                prediction_history.append(prediction[0][0])\n",
    "                if round(prediction[0][0]) == 1:\n",
    "                    prediction_yes += 1\n",
    "                if category == \"pos\":\n",
    "                    truth_history.append(1)\n",
    "                else:\n",
    "                    truth_history.append(0)\n",
    "                prediction_total += 1    \n",
    "                if prediction_total > 1000:\n",
    "                    break\n",
    "            except Exception as e:\n",
    "                pass   \n",
    "#\n",
    "# Compute F1 score for each best model now\n",
    "#\n",
    "    print(prediction_history)\n",
    "    F1_performance.append([bestmodel,F1_score(truth_history,prediction_history,1,0.5)])         "
   ]
  },
  {
   "cell_type": "code",
   "execution_count": 23,
   "id": "6c80549e",
   "metadata": {},
   "outputs": [
    {
     "name": "stdout",
     "output_type": "stream",
     "text": [
      "========================================\n",
      "Summary of the ResNet model performance:\n",
      "Model: tcg_ResNet22.model  --- F1, Recall, Presision: [0.86 0.83 0.88]\n",
      "Model: tcg_ResNet40.model  --- F1, Recall, Presision: [0.2  0.11 1.  ]\n"
     ]
    }
   ],
   "source": [
    "#\n",
    "# Print out the F1 performance of all models\n",
    "#\n",
    "print(\"========================================\")\n",
    "print(\"Summary of the ResNet model performance:\")\n",
    "for i in range(len(bestmodels)):\n",
    "    print(\"Model:\",F1_performance[i][0],\" --- F1, Recall, Presision:\",np.round(F1_performance[i][1],2))\n",
    "#print(\"Truth is:\", truth_history)\n",
    "#print(\"Predi is:\", np.round(prediction_history))"
   ]
  },
  {
   "cell_type": "code",
   "execution_count": null,
   "id": "57f22d0e",
   "metadata": {},
   "outputs": [],
   "source": []
  }
 ],
 "metadata": {
  "kernelspec": {
   "display_name": "Python 3 (ipykernel)",
   "language": "python",
   "name": "python3"
  },
  "language_info": {
   "codemirror_mode": {
    "name": "ipython",
    "version": 3
   },
   "file_extension": ".py",
   "mimetype": "text/x-python",
   "name": "python",
   "nbconvert_exporter": "python",
   "pygments_lexer": "ipython3",
   "version": "3.10.5"
  }
 },
 "nbformat": 4,
 "nbformat_minor": 5
}
